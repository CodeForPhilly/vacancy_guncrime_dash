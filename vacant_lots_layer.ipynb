{
 "cells": [
  {
   "attachments": {},
   "cell_type": "markdown",
   "metadata": {},
   "source": [
    "# Imports\n",
    "\n",
    "First, we'll import the necessary libraries."
   ]
  },
  {
   "cell_type": "code",
   "execution_count": 1,
   "metadata": {
    "ExecuteTime": {
     "start_time": "2023-05-11T09:25:59.274561Z",
     "end_time": "2023-05-11T09:26:00.920001Z"
    }
   },
   "outputs": [],
   "source": [
    "import requests\n",
    "import pandas as pd\n",
    "import geopandas as gpd\n",
    "from shapely.geometry import Polygon\n",
    "import matplotlib.pyplot as plt\n",
    "import datetime\n",
    "import io\n",
    "import zipfile\n",
    "import rasterio\n",
    "from rasterio.plot import show\n",
    "import sklearn\n",
    "from sklearn.neighbors import KernelDensity\n",
    "import numpy as np\n",
    "import mapclassify\n",
    "import collections\n",
    "\n",
    "# in response to an error importing collections, I used this: https://stackoverflow.com/questions/72032032/importerror-cannot-import-name-iterable-from-collections-in-python\n",
    "\n",
    "from collections.abc import Iterable\n",
    "\n",
    "collections.Iterable = collections.abc.Iterable\n",
    "collections.Mapping = collections.abc.Mapping\n",
    "collections.MutableSet = collections.abc.MutableSet\n",
    "collections.MutableMapping = collections.abc.MutableMapping"
   ]
  },
  {
   "attachments": {},
   "cell_type": "markdown",
   "metadata": {},
   "source": [
    "Next, we'll query the City of Philadelphia data via the ArcGIS REST API using the `requests` library. We'll also use the `json` library to parse the response.\n",
    "\n",
    "Finally, we'll use the `geopandas` library to create a geodataframe from the response."
   ]
  },
  {
   "cell_type": "code",
   "execution_count": 2,
   "outputs": [],
   "source": [
    "def make_api_requests(url, params):\n",
    "    dfs = []\n",
    "    offset = 0\n",
    "    while True:\n",
    "        params['resultOffset'] = offset\n",
    "        response = requests.get(url, params=params)\n",
    "\n",
    "        if response.status_code == 200:\n",
    "            data = response.json()\n",
    "            df = pd.DataFrame(data['features'])\n",
    "            df = pd.concat([df.drop(['attributes'], axis=1), df['attributes'].apply(pd.Series)], axis=1)\n",
    "            df['geometry'] = df['geometry'].apply(lambda x: Polygon(x['rings'][0]))\n",
    "            gdf = gpd.GeoDataFrame(df, geometry='geometry', crs='EPSG:3857')\n",
    "            gdf.to_crs(epsg=2272, inplace=True)\n",
    "\n",
    "            dfs.append(gdf)\n",
    "            offset += len(gdf)\n",
    "\n",
    "            if len(gdf) < 2000:\n",
    "                break\n",
    "        else:\n",
    "            print('Request failed with status code:', response.status_code)\n",
    "            break\n",
    "\n",
    "    return pd.concat(dfs, ignore_index=True)"
   ],
   "metadata": {
    "collapsed": false,
    "ExecuteTime": {
     "start_time": "2023-05-11T09:26:00.922006Z",
     "end_time": "2023-05-11T09:26:00.935290Z"
    }
   }
  },
  {
   "attachments": {},
   "cell_type": "markdown",
   "metadata": {},
   "source": [
    "We have three different datasets to import from the City's ArcGIS server. These are:"
   ]
  },
  {
   "attachments": {},
   "cell_type": "markdown",
   "metadata": {},
   "source": [
    "### 1. Vacant Land"
   ]
  },
  {
   "cell_type": "code",
   "execution_count": 3,
   "metadata": {
    "ExecuteTime": {
     "start_time": "2023-05-11T09:26:00.935290Z",
     "end_time": "2023-05-11T09:26:00.979687Z"
    }
   },
   "outputs": [],
   "source": [
    "# Define the URLs and parameters for the Vacant_Indicators_Land and Vacant_Indicators_Bldg API requests\n",
    "land_url = 'https://services.arcgis.com/fLeGjb7u4uXqeF9q/ArcGIS/rest/services/Vacant_Indicators_Land/FeatureServer/0/query'\n",
    "land_params = {\n",
    "    'where': '1=1',\n",
    "    'outFields': '*',\n",
    "    'returnGeometry': 'true',\n",
    "    'f': 'json',\n",
    "    'resultRecordCount': 2000\n",
    "}"
   ]
  },
  {
   "cell_type": "code",
   "execution_count": 4,
   "metadata": {
    "ExecuteTime": {
     "start_time": "2023-05-11T09:26:00.952324Z",
     "end_time": "2023-05-11T09:26:12.145248Z"
    }
   },
   "outputs": [],
   "source": [
    "land_gdf = make_api_requests(land_url, land_params)"
   ]
  },
  {
   "cell_type": "code",
   "execution_count": 5,
   "outputs": [
    {
     "data": {
      "text/plain": "                                                geometry  OBJECTID  \\\n14249  POLYGON ((2689216.916 247619.887, 2689214.974 ...     14250   \n18494  POLYGON ((2695213.796 253030.647, 2695164.344 ...     18495   \n12706  POLYGON ((2685223.743 240686.357, 2685156.759 ...     12707   \n5311   POLYGON ((2714979.219 257374.943, 2714917.652 ...      5312   \n15731  POLYGON ((2697000.272 249223.324, 2696992.466 ...     15732   \n\n                  ADDRESS               OWNER1                     OWNER2  \\\n14249     1864 N TANEY ST        ADAMS DERRICK                       None   \n18494  2963 N SYDENHAM ST       INDIANA OZ LLC                       None   \n12706   616 N SHEDWICK ST  PHILA REDEVELOPMENT                  AUTHORITY   \n5311    1919 BERKSHIRE ST         LOTIM 01 LLC                       None   \n15731   1028 W ARIZONA ST    66 N DEWEY ST LLC  REVENUE STREAMS REATY LLC   \n\n                 BLDG_DESC     OPA_ID LNIADDRESSKEY COUNCILDISTRICT  \\\n14249  VAC LAND RES < ACRE  322204700        564474               5   \n18494  VAC LAND RES < ACRE  111177500        560157               8   \n12706  VAC LAND RES < ACRE  242157900        533361               3   \n5311   VAC LAND RES < ACRE  232033900         37630               7   \n15731    ROW 2 STY MASONRY  371349000        730199               5   \n\n      ZONINGBASEDISTRICT ZIPCODE  LAND_RANK  Shape__Area  Shape__Length  \n14249              RSA-5   19121       0.67   118.246094      51.433574  \n18494              RSA-5   19132       0.67   101.488281      49.865223  \n12706              RSA-5   19104       0.67   148.605469      64.896258  \n5311               RSA-5   19124       0.50   156.617188      67.942407  \n15731               RM-1   19133       0.50   157.710938      61.016267  ",
      "text/html": "<div>\n<style scoped>\n    .dataframe tbody tr th:only-of-type {\n        vertical-align: middle;\n    }\n\n    .dataframe tbody tr th {\n        vertical-align: top;\n    }\n\n    .dataframe thead th {\n        text-align: right;\n    }\n</style>\n<table border=\"1\" class=\"dataframe\">\n  <thead>\n    <tr style=\"text-align: right;\">\n      <th></th>\n      <th>geometry</th>\n      <th>OBJECTID</th>\n      <th>ADDRESS</th>\n      <th>OWNER1</th>\n      <th>OWNER2</th>\n      <th>BLDG_DESC</th>\n      <th>OPA_ID</th>\n      <th>LNIADDRESSKEY</th>\n      <th>COUNCILDISTRICT</th>\n      <th>ZONINGBASEDISTRICT</th>\n      <th>ZIPCODE</th>\n      <th>LAND_RANK</th>\n      <th>Shape__Area</th>\n      <th>Shape__Length</th>\n    </tr>\n  </thead>\n  <tbody>\n    <tr>\n      <th>14249</th>\n      <td>POLYGON ((2689216.916 247619.887, 2689214.974 ...</td>\n      <td>14250</td>\n      <td>1864 N TANEY ST</td>\n      <td>ADAMS DERRICK</td>\n      <td>None</td>\n      <td>VAC LAND RES &lt; ACRE</td>\n      <td>322204700</td>\n      <td>564474</td>\n      <td>5</td>\n      <td>RSA-5</td>\n      <td>19121</td>\n      <td>0.67</td>\n      <td>118.246094</td>\n      <td>51.433574</td>\n    </tr>\n    <tr>\n      <th>18494</th>\n      <td>POLYGON ((2695213.796 253030.647, 2695164.344 ...</td>\n      <td>18495</td>\n      <td>2963 N SYDENHAM ST</td>\n      <td>INDIANA OZ LLC</td>\n      <td>None</td>\n      <td>VAC LAND RES &lt; ACRE</td>\n      <td>111177500</td>\n      <td>560157</td>\n      <td>8</td>\n      <td>RSA-5</td>\n      <td>19132</td>\n      <td>0.67</td>\n      <td>101.488281</td>\n      <td>49.865223</td>\n    </tr>\n    <tr>\n      <th>12706</th>\n      <td>POLYGON ((2685223.743 240686.357, 2685156.759 ...</td>\n      <td>12707</td>\n      <td>616 N SHEDWICK ST</td>\n      <td>PHILA REDEVELOPMENT</td>\n      <td>AUTHORITY</td>\n      <td>VAC LAND RES &lt; ACRE</td>\n      <td>242157900</td>\n      <td>533361</td>\n      <td>3</td>\n      <td>RSA-5</td>\n      <td>19104</td>\n      <td>0.67</td>\n      <td>148.605469</td>\n      <td>64.896258</td>\n    </tr>\n    <tr>\n      <th>5311</th>\n      <td>POLYGON ((2714979.219 257374.943, 2714917.652 ...</td>\n      <td>5312</td>\n      <td>1919 BERKSHIRE ST</td>\n      <td>LOTIM 01 LLC</td>\n      <td>None</td>\n      <td>VAC LAND RES &lt; ACRE</td>\n      <td>232033900</td>\n      <td>37630</td>\n      <td>7</td>\n      <td>RSA-5</td>\n      <td>19124</td>\n      <td>0.50</td>\n      <td>156.617188</td>\n      <td>67.942407</td>\n    </tr>\n    <tr>\n      <th>15731</th>\n      <td>POLYGON ((2697000.272 249223.324, 2696992.466 ...</td>\n      <td>15732</td>\n      <td>1028 W ARIZONA ST</td>\n      <td>66 N DEWEY ST LLC</td>\n      <td>REVENUE STREAMS REATY LLC</td>\n      <td>ROW 2 STY MASONRY</td>\n      <td>371349000</td>\n      <td>730199</td>\n      <td>5</td>\n      <td>RM-1</td>\n      <td>19133</td>\n      <td>0.50</td>\n      <td>157.710938</td>\n      <td>61.016267</td>\n    </tr>\n  </tbody>\n</table>\n</div>"
     },
     "execution_count": 5,
     "metadata": {},
     "output_type": "execute_result"
    }
   ],
   "source": [
    "land_gdf.sample(5)"
   ],
   "metadata": {
    "collapsed": false,
    "ExecuteTime": {
     "start_time": "2023-05-11T09:26:12.148248Z",
     "end_time": "2023-05-11T09:26:12.203919Z"
    }
   }
  },
  {
   "attachments": {},
   "cell_type": "markdown",
   "metadata": {},
   "source": [
    "### 2. Vacant Buildings"
   ]
  },
  {
   "cell_type": "code",
   "execution_count": 6,
   "metadata": {
    "ExecuteTime": {
     "start_time": "2023-05-11T09:26:12.178409Z",
     "end_time": "2023-05-11T09:26:12.222284Z"
    }
   },
   "outputs": [],
   "source": [
    "bldg_url = 'https://services.arcgis.com/fLeGjb7u4uXqeF9q/ArcGIS/rest/services/Vacant_Indicators_Bldg/FeatureServer/0/query'\n",
    "bldg_params = {\n",
    "    'where': '1=1',\n",
    "    'outFields': '*',\n",
    "    'returnGeometry': 'true',\n",
    "    'f': 'json',\n",
    "    'resultRecordCount': 2000\n",
    "}"
   ]
  },
  {
   "cell_type": "code",
   "execution_count": 7,
   "metadata": {
    "ExecuteTime": {
     "start_time": "2023-05-11T09:26:12.192916Z",
     "end_time": "2023-05-11T09:26:16.580841Z"
    }
   },
   "outputs": [],
   "source": [
    "bldg_gdf = make_api_requests(bldg_url, bldg_params)"
   ]
  },
  {
   "cell_type": "code",
   "execution_count": 8,
   "outputs": [
    {
     "data": {
      "text/plain": "                                               geometry  OBJECTID  \\\n408   POLYGON ((2697745.977 251957.052, 2697743.582 ...       409   \n1740  POLYGON ((2701927.695 267682.227, 2701925.341 ...      1741   \n107   POLYGON ((2675410.279 227646.114, 2675358.409 ...       108   \n2320  POLYGON ((2705767.189 260506.956, 2705766.526 ...      2321   \n6833  POLYGON ((2688911.782 273450.425, 2688905.941 ...      6834   \n\n                  ADDRESS                          OWNER1       OWNER2  \\\n408   2839 GERMANTOWN AVE                       ROOKK LLC         None   \n1740        5706 N 5TH ST               WILKERSON PAULINE         None   \n107         6023 YOCUM ST  CMONEY REAL ESTATE COMPANY LLC         None   \n2320       4532 HURLEY ST                   CANCEL AMAURY         None   \n6833       404 E UPSAL ST                    ALLEN NICOLE  ALLEN TYRON   \n\n                      BLDG_DESC     OPA_ID LNIADDRESSKEY COUNCILDISTRICT  \\\n408   STR/OFF+APTS 3STY MASONRY  871552670        309440               5   \n1740  ROW W-OFF/STR 2STY MASONR  871583160        637975               9   \n107           ROW 2 STY MASONRY  401318500        628480               2   \n2320          ROW 2 STY MASONRY  421435500        354522               7   \n6833     ROW B/GAR 2STY MASONRY  221084400        584441               8   \n\n     ZONINGBASEDISTRICT ZIPCODE  BUILD_RANK  Shape__Area  Shape__Length  \n408               CMX-2   19133         0.5   220.546875      82.627432  \n1740            CMX-2.5   19120         0.5   287.234375     103.979029  \n107               RSA-5   19142         0.5   179.718750      71.649959  \n2320              RSA-5   19120         0.5   212.058594      81.589232  \n6833              RSA-5   19119         0.5   206.558594      82.187171  ",
      "text/html": "<div>\n<style scoped>\n    .dataframe tbody tr th:only-of-type {\n        vertical-align: middle;\n    }\n\n    .dataframe tbody tr th {\n        vertical-align: top;\n    }\n\n    .dataframe thead th {\n        text-align: right;\n    }\n</style>\n<table border=\"1\" class=\"dataframe\">\n  <thead>\n    <tr style=\"text-align: right;\">\n      <th></th>\n      <th>geometry</th>\n      <th>OBJECTID</th>\n      <th>ADDRESS</th>\n      <th>OWNER1</th>\n      <th>OWNER2</th>\n      <th>BLDG_DESC</th>\n      <th>OPA_ID</th>\n      <th>LNIADDRESSKEY</th>\n      <th>COUNCILDISTRICT</th>\n      <th>ZONINGBASEDISTRICT</th>\n      <th>ZIPCODE</th>\n      <th>BUILD_RANK</th>\n      <th>Shape__Area</th>\n      <th>Shape__Length</th>\n    </tr>\n  </thead>\n  <tbody>\n    <tr>\n      <th>408</th>\n      <td>POLYGON ((2697745.977 251957.052, 2697743.582 ...</td>\n      <td>409</td>\n      <td>2839 GERMANTOWN AVE</td>\n      <td>ROOKK LLC</td>\n      <td>None</td>\n      <td>STR/OFF+APTS 3STY MASONRY</td>\n      <td>871552670</td>\n      <td>309440</td>\n      <td>5</td>\n      <td>CMX-2</td>\n      <td>19133</td>\n      <td>0.5</td>\n      <td>220.546875</td>\n      <td>82.627432</td>\n    </tr>\n    <tr>\n      <th>1740</th>\n      <td>POLYGON ((2701927.695 267682.227, 2701925.341 ...</td>\n      <td>1741</td>\n      <td>5706 N 5TH ST</td>\n      <td>WILKERSON PAULINE</td>\n      <td>None</td>\n      <td>ROW W-OFF/STR 2STY MASONR</td>\n      <td>871583160</td>\n      <td>637975</td>\n      <td>9</td>\n      <td>CMX-2.5</td>\n      <td>19120</td>\n      <td>0.5</td>\n      <td>287.234375</td>\n      <td>103.979029</td>\n    </tr>\n    <tr>\n      <th>107</th>\n      <td>POLYGON ((2675410.279 227646.114, 2675358.409 ...</td>\n      <td>108</td>\n      <td>6023 YOCUM ST</td>\n      <td>CMONEY REAL ESTATE COMPANY LLC</td>\n      <td>None</td>\n      <td>ROW 2 STY MASONRY</td>\n      <td>401318500</td>\n      <td>628480</td>\n      <td>2</td>\n      <td>RSA-5</td>\n      <td>19142</td>\n      <td>0.5</td>\n      <td>179.718750</td>\n      <td>71.649959</td>\n    </tr>\n    <tr>\n      <th>2320</th>\n      <td>POLYGON ((2705767.189 260506.956, 2705766.526 ...</td>\n      <td>2321</td>\n      <td>4532 HURLEY ST</td>\n      <td>CANCEL AMAURY</td>\n      <td>None</td>\n      <td>ROW 2 STY MASONRY</td>\n      <td>421435500</td>\n      <td>354522</td>\n      <td>7</td>\n      <td>RSA-5</td>\n      <td>19120</td>\n      <td>0.5</td>\n      <td>212.058594</td>\n      <td>81.589232</td>\n    </tr>\n    <tr>\n      <th>6833</th>\n      <td>POLYGON ((2688911.782 273450.425, 2688905.941 ...</td>\n      <td>6834</td>\n      <td>404 E UPSAL ST</td>\n      <td>ALLEN NICOLE</td>\n      <td>ALLEN TYRON</td>\n      <td>ROW B/GAR 2STY MASONRY</td>\n      <td>221084400</td>\n      <td>584441</td>\n      <td>8</td>\n      <td>RSA-5</td>\n      <td>19119</td>\n      <td>0.5</td>\n      <td>206.558594</td>\n      <td>82.187171</td>\n    </tr>\n  </tbody>\n</table>\n</div>"
     },
     "execution_count": 8,
     "metadata": {},
     "output_type": "execute_result"
    }
   ],
   "source": [
    "bldg_gdf.sample(5)"
   ],
   "metadata": {
    "collapsed": false,
    "ExecuteTime": {
     "start_time": "2023-05-11T09:26:16.580841Z",
     "end_time": "2023-05-11T09:26:16.595985Z"
    }
   }
  },
  {
   "cell_type": "code",
   "execution_count": 9,
   "outputs": [
    {
     "data": {
      "text/plain": "<Axes: >"
     },
     "execution_count": 9,
     "metadata": {},
     "output_type": "execute_result"
    },
    {
     "data": {
      "text/plain": "<Figure size 640x480 with 1 Axes>",
      "image/png": "[encoded data removed]"
     },
     "metadata": {},
     "output_type": "display_data"
    }
   ],
   "source": [
    "bldg_gdf.plot()"
   ],
   "metadata": {
    "collapsed": false,
    "ExecuteTime": {
     "start_time": "2023-05-11T09:26:16.595985Z",
     "end_time": "2023-05-11T09:26:17.863072Z"
    }
   }
  },
  {
   "attachments": {},
   "cell_type": "markdown",
   "metadata": {},
   "source": [
    "### Now, combine the two datasets in preparation for string cleaning."
   ]
  },
  {
   "cell_type": "code",
   "execution_count": 10,
   "metadata": {
    "ExecuteTime": {
     "start_time": "2023-05-11T09:26:17.865066Z",
     "end_time": "2023-05-11T09:26:17.937777Z"
    }
   },
   "outputs": [
    {
     "name": "stderr",
     "output_type": "stream",
     "text": [
      "C:\\Users\\Nissim\\AppData\\Roaming\\Python\\Python310\\site-packages\\geopandas\\geodataframe.py:1351: SettingWithCopyWarning: \n",
      "A value is trying to be set on a copy of a slice from a DataFrame.\n",
      "Try using .loc[row_indexer,col_indexer] = value instead\n",
      "\n",
      "See the caveats in the documentation: https://pandas.pydata.org/pandas-docs/stable/user_guide/indexing.html#returning-a-view-versus-a-copy\n",
      "  super().__setitem__(key, value)\n"
     ]
    }
   ],
   "source": [
    "columns = ['geometry', 'ADDRESS', 'BLDG_DESC',\n",
    "       'OPA_ID','COUNCILDISTRICT',\n",
    "       'ZIPCODE','OWNER1', 'OWNER2', 'ZONINGBASEDISTRICT']\n",
    "\n",
    "# reduce gdfs to only the columns we want\n",
    "land_gdf = land_gdf[columns]\n",
    "\n",
    "bldg_gdf = bldg_gdf[columns]\n",
    "\n",
    "land_gdf['type'] = 'Lot'\n",
    "\n",
    "bldg_gdf['type'] = 'Building'"
   ]
  },
  {
   "cell_type": "code",
   "execution_count": 11,
   "metadata": {
    "ExecuteTime": {
     "start_time": "2023-05-11T09:26:17.894236Z",
     "end_time": "2023-05-11T09:26:17.949772Z"
    }
   },
   "outputs": [],
   "source": [
    "# bind the two geodataframes together using pandas.concat\n",
    "full_gdf = pd.concat([land_gdf, bldg_gdf], axis=0)"
   ]
  },
  {
   "cell_type": "code",
   "execution_count": 12,
   "metadata": {
    "ExecuteTime": {
     "start_time": "2023-05-11T09:26:17.909239Z",
     "end_time": "2023-05-11T09:26:17.949772Z"
    }
   },
   "outputs": [
    {
     "data": {
      "text/plain": "                                            geometry           ADDRESS  \\\n0  POLYGON ((2687288.658 256633.610, 2687182.517 ...    3232 HENRY AVE   \n1  POLYGON ((2675581.284 242098.205, 2675611.529 ...     633 N 53RD ST   \n2  POLYGON ((2694596.085 250002.568, 2694596.038 ...    2424 N MOLE ST   \n3  POLYGON ((2699251.414 246745.626, 2699244.611 ...  437 ARLINGTON ST   \n4  POLYGON ((2695074.333 251699.409, 2695026.589 ...   2735 N HICKS ST   \n\n                BLDG_DESC     OPA_ID COUNCILDISTRICT ZIPCODE  \\\n0  COM.CONDO.1STY MASONRY  882921188               4   19129   \n1     VAC LAND RES < ACRE  442316810               3   19131   \n2     VAC LAND RES < ACRE  161064101               5   19132   \n3     VAC LAND RES < ACRE  183194500               7   19122   \n4     VAC LAND RES < ACRE  111168200               8   19132   \n\n                    OWNER1           OWNER2 ZONINGBASEDISTRICT type  \n0  NEWCOURTLAND ELDER SVCS             None              RSA-5  Lot  \n1  REDEVELOPMENT AUTHORITY  OF PHILADELPHIA               ICMX  Lot  \n2  REDEVELOPMENT AUTHORITY  OF PHILADELPHIA              RSA-5  Lot  \n3              MCHUGH JOHN             None              RSA-5  Lot  \n4         HERBERT MITCHELL         VICTORIA              RSA-5  Lot  ",
      "text/html": "<div>\n<style scoped>\n    .dataframe tbody tr th:only-of-type {\n        vertical-align: middle;\n    }\n\n    .dataframe tbody tr th {\n        vertical-align: top;\n    }\n\n    .dataframe thead th {\n        text-align: right;\n    }\n</style>\n<table border=\"1\" class=\"dataframe\">\n  <thead>\n    <tr style=\"text-align: right;\">\n      <th></th>\n      <th>geometry</th>\n      <th>ADDRESS</th>\n      <th>BLDG_DESC</th>\n      <th>OPA_ID</th>\n      <th>COUNCILDISTRICT</th>\n      <th>ZIPCODE</th>\n      <th>OWNER1</th>\n      <th>OWNER2</th>\n      <th>ZONINGBASEDISTRICT</th>\n      <th>type</th>\n    </tr>\n  </thead>\n  <tbody>\n    <tr>\n      <th>0</th>\n      <td>POLYGON ((2687288.658 256633.610, 2687182.517 ...</td>\n      <td>3232 HENRY AVE</td>\n      <td>COM.CONDO.1STY MASONRY</td>\n      <td>882921188</td>\n      <td>4</td>\n      <td>19129</td>\n      <td>NEWCOURTLAND ELDER SVCS</td>\n      <td>None</td>\n      <td>RSA-5</td>\n      <td>Lot</td>\n    </tr>\n    <tr>\n      <th>1</th>\n      <td>POLYGON ((2675581.284 242098.205, 2675611.529 ...</td>\n      <td>633 N 53RD ST</td>\n      <td>VAC LAND RES &lt; ACRE</td>\n      <td>442316810</td>\n      <td>3</td>\n      <td>19131</td>\n      <td>REDEVELOPMENT AUTHORITY</td>\n      <td>OF PHILADELPHIA</td>\n      <td>ICMX</td>\n      <td>Lot</td>\n    </tr>\n    <tr>\n      <th>2</th>\n      <td>POLYGON ((2694596.085 250002.568, 2694596.038 ...</td>\n      <td>2424 N MOLE ST</td>\n      <td>VAC LAND RES &lt; ACRE</td>\n      <td>161064101</td>\n      <td>5</td>\n      <td>19132</td>\n      <td>REDEVELOPMENT AUTHORITY</td>\n      <td>OF PHILADELPHIA</td>\n      <td>RSA-5</td>\n      <td>Lot</td>\n    </tr>\n    <tr>\n      <th>3</th>\n      <td>POLYGON ((2699251.414 246745.626, 2699244.611 ...</td>\n      <td>437 ARLINGTON ST</td>\n      <td>VAC LAND RES &lt; ACRE</td>\n      <td>183194500</td>\n      <td>7</td>\n      <td>19122</td>\n      <td>MCHUGH JOHN</td>\n      <td>None</td>\n      <td>RSA-5</td>\n      <td>Lot</td>\n    </tr>\n    <tr>\n      <th>4</th>\n      <td>POLYGON ((2695074.333 251699.409, 2695026.589 ...</td>\n      <td>2735 N HICKS ST</td>\n      <td>VAC LAND RES &lt; ACRE</td>\n      <td>111168200</td>\n      <td>8</td>\n      <td>19132</td>\n      <td>HERBERT MITCHELL</td>\n      <td>VICTORIA</td>\n      <td>RSA-5</td>\n      <td>Lot</td>\n    </tr>\n  </tbody>\n</table>\n</div>"
     },
     "execution_count": 12,
     "metadata": {},
     "output_type": "execute_result"
    }
   ],
   "source": [
    "full_gdf.head()"
   ]
  },
  {
   "attachments": {},
   "cell_type": "markdown",
   "metadata": {},
   "source": [
    "### Now we'll apply string cleaning to the OWNER1 and OWNER2 columns to identify public vs. private ownership."
   ]
  },
  {
   "cell_type": "code",
   "execution_count": 13,
   "metadata": {
    "ExecuteTime": {
     "start_time": "2023-05-11T09:26:17.924745Z",
     "end_time": "2023-05-11T09:26:17.949772Z"
    }
   },
   "outputs": [],
   "source": [
    "public_owners = ['PHILADELPHIA LAND BANK',\n",
    "                'PHILADELPHIA HOUSING AUTH',\n",
    "                'CITY OF PHILA',\n",
    "                'REDEVELOPMENT AUTHORITY OF PHILADELPHIA',\n",
    "                'CITY OF PHILADELPHIA',\n",
    "                'DEPT OF PUBLC PROP; CITY OF PHILA',\n",
    "                'DEPT OF PUBLIC PROP; CITY OF PHILA',\n",
    "                'DEPT PUB PROP; CITY OF PHILA',\n",
    "                'REDEVELOPMENT AUTHORITY OF PHILA',\n",
    "                'PHILA REDEVELOPMENT AUTH',\n",
    "                'PHILADELPHIA LAND INVESTM',\n",
    "                'REDEVELOPMENT AUTHORITY O',\n",
    "                'PHILADELPHIA REDEVELOPMEN',\n",
    "                'PHILA HOUSING AUTHORITY',\n",
    "                'KENSINGTON HOUSING AUTHOR',\n",
    "                'DEVELOPMENT CORPORATION; PHILADELPHIA HOUSING',\n",
    "                'PHILA REDEVELOPMENT AUTHO',\n",
    "                'DEPT OF PUB PROP; CITY OF PHILA',\n",
    "                'PHILA HOUSING DEV CORP',\n",
    "                'DEP OF PUB PROP; CITY OF PHILA',\n",
    "                'REDEVELOPMENT AUTHORITY',\n",
    "                'COMMONWEALTH OF PA',\n",
    "                'COMMONWEALTH OF PENNA',\n",
    "                'DEPT OF PUBLIC PROP; CITY OF PHILADELPHIA',\n",
    "                'DEPT PUBLIC PROP R E DIV; CITY OF PHILA',\n",
    "                'PUBLIC PROP DIV; CITY OF PHILA',\n",
    "                'PUBLIC PROP REAL ESTATE; CITY OF PHILA',\n",
    "                'REAL ESTATE DIV; CITY OF PHILA',\n",
    "                'REAL ESTATE DIVISION; CITY OF PHILA',\n",
    "                'URBAN DEVELOPMENT; SECRETARY OF HOUSING'\n",
    "                'URBAN DEVELOPMENT; SECRETARY OF HOUSING AND',\n",
    "                'PHILADELPHIA REDEVELOPMENT AUTHORITY',\n",
    "                'PHILADELPHIA REDEVELOPMENT AUTH',\n",
    "                'PHILADELPHIA HOUSING AUTHORITY',\n",
    "                'PHILADELPHIA LAND BANK',\n",
    "                'REDEVELOPMENT AUTHORITY OF PHILADELPHIA',\n",
    "                'PHILADELPHIA HOUSING AUTHORITY',\n",
    "                'CITY OF PHILADELPHIA',\n",
    "                'CITY OF PHILADELPHIA DEPARTMENT OF PUBLIC PROPERTY',\n",
    "                'REDEVELOPMENT AUTHORITY OF PHILADELPHIA',\n",
    "                'PHILADELPHIA LAND INVESTMENT',\n",
    "                'PHILADELPHIA REDEVELOPMENT AUTHORITY',\n",
    "                'PHILADELPHIA HOUSING AUTHORITY',\n",
    "                'KENSINGTON HOUSING AUTHORITY',\n",
    "                'PHILADELPHIA HOUSING DEVELOPMENT CORPORATION',\n",
    "                'REDEVELOPMENT AUTHORITY OF PHILADELPHIA',\n",
    "                'CITY OF PHILADELPHIA DEPARTMENT OF PUBLIC PROPERTY',\n",
    "                'PHILADELPHIA HOUSING DEVELOPMENT CORPORATION',\n",
    "                'CITY OF PHILADELPHIA DEPARTMENT OF PUBLIC PROPERTY',\n",
    "                'REDEVELOPMENT AUTHORITY OF PHILADELPHIA',\n",
    "                'COMMONWEALTH OF PENNSYLVANIA',\n",
    "                'CITY OF PHILADELPHIA DEPARTMENT OF PUBLIC PROPERTY',\n",
    "                'SECRETARY OF HOUSING AND URBAN DEVELOPMENT',\n",
    "                'REDEVELOPMENT AUTHORITY OF PHILADELPHIA',\n",
    "                'PHILADELPHIA LAND INVESTMENT',\n",
    "                'CITY OF PHILADELPHIA DEPARTMENT OF PUBLIC PROPERTY',\n",
    "                'PENNDOT'\n",
    "]\n",
    "\n",
    "# return unique public_owners\n",
    "public_owners = list(set(public_owners))"
   ]
  },
  {
   "cell_type": "code",
   "execution_count": 14,
   "metadata": {
    "ExecuteTime": {
     "start_time": "2023-05-11T09:26:17.939773Z",
     "end_time": "2023-05-11T09:26:18.434593Z"
    }
   },
   "outputs": [],
   "source": [
    "# create a new column that combines the OWNER1 and OWNER2 columns according to the following rules:\n",
    "# if OWNER1 is not null and OWNER2 is null, then the new column is OWNER1\n",
    "# if OWNER1 is null and OWNER2 is not null, then the new column is OWNER2\n",
    "# if OWNER2 starts with a preposition, then the new column is OWNER1 + OWNER2 separated by a space\n",
    "# if OWNER2 does not start with a preposition, then the new column is OWNER2 + OWNER1 separated by a se\n",
    "\n",
    "\n",
    "# define a function to check if a string starts with a preposition\n",
    "def starts_with_preposition(string):\n",
    "    prepositions = ['a', 'an', 'and', 'as', 'at', 'but', 'by', 'for', 'from', 'in', 'into', 'nor', 'of', 'on', 'or', 'so', 'the', 'to', 'up', 'yet']\n",
    "    if string.split(' ')[0].lower() in prepositions:\n",
    "        return True\n",
    "    else:\n",
    "        return False\n",
    "    \n",
    "# define a function to combine the OWNER1 and OWNER2 columns\n",
    "def combine_owners(row):\n",
    "    if pd.isnull(row['OWNER1']) and pd.isnull(row['OWNER2']):\n",
    "        return None\n",
    "    elif pd.isnull(row['OWNER1']) and not pd.isnull(row['OWNER2']):\n",
    "        return row['OWNER2']\n",
    "    elif not pd.isnull(row['OWNER1']) and pd.isnull(row['OWNER2']):\n",
    "        return row['OWNER1']\n",
    "    elif starts_with_preposition(row['OWNER2']):\n",
    "        return row['OWNER1'] + ' ' + row['OWNER2']\n",
    "    else:\n",
    "        return row['OWNER2'] + '; ' + row['OWNER1']\n",
    "    \n",
    "# apply the combine_owners function to the full_gdf dataframe\n",
    "full_gdf['OWNER'] = full_gdf.apply(combine_owners, axis=1)\n",
    "\n",
    "# if OWNER is 'PHILADELPHIA HOUSING AUTH' or 'PHILA HOUSING AUTHORITY', replace with 'PHILADELPHIA HOUSING AUTHORITY'\n",
    "full_gdf.loc[full_gdf['OWNER'] == 'PHILADELPHIA HOUSING AUTH', 'OWNER'] = 'PHILADELPHIA HOUSING AUTHORITY'\n",
    "full_gdf.loc[full_gdf['OWNER'] == 'PHILA HOUSING AUTHORITY', 'OWNER'] = 'PHILADELPHIA HOUSING AUTHORITY'\n",
    "\n",
    "# redevelopment authority typos\n",
    "redev_owner_variations = ['REDEVELOPMENT AUTHORITY OF PHILA', 'PHILA REDEVELOPMENT AUTH',\n",
    "'REDEVELOPMENT AUTHORITY O', 'PHILADELPHIA REDEVELOPMEN',\n",
    "'PHILA REDEVELOPMENT AUTHO', 'REDEVELOPMENT AUTHORITY',\n",
    "'REDEVELOPMENT AUTH']\n",
    "\n",
    "for var in redev_owner_variations:\n",
    "    full_gdf.loc[full_gdf['OWNER'] == var, 'OWNER'] = 'REDEVELOPMENT AUTHORITY OF PHILADELPHIA'\n",
    "\n",
    "# department of public property typos\n",
    "dpp_owner_variations = ['DEPT OF PUBLIC PROPERTY', 'DEPT OF PUBLIC PROPERT', 'DEPT OF PUBLC PROP; CITY OF PHILA',\n",
    "                        'DEPT OF PUBLIC PROP; CITY OF PHILA', 'DEPT OF PUBLIC PROPERTY; CITY OF PHILA', 'DEPT PUB PROP; CITY OF PHILA',\n",
    "                        'DEPT OF PUB PROP; CITY OF PHILA', 'DEP OF PUB PROP; CITY OF PHILA', 'DEPT OF PUBLIC PROP; CITY OF PHILADELPHIA',\n",
    "                        'DEPT PUBLIC PROP R E DIV; CITY OF PHILA', 'PUBLIC PROP DIV; CITY OF PHILA', 'PUBLIC PROP REAL ESTATE; CITY OF PHILA',\n",
    "                        'REAL ESTATE DIV; CITY OF PHILA', 'REAL ESTATE DIVISION; CITY OF PHILA']\n",
    "\n",
    "for var in dpp_owner_variations:\n",
    "    full_gdf.loc[full_gdf['OWNER'] == var, 'OWNER'] = 'CITY OF PHILADELPHIA DEPARTMENT OF PUBLIC PROPERTY'\n",
    "\n",
    "# HUD\n",
    "full_gdf.loc[full_gdf['OWNER'] == 'URBAN DEVELOPMENT; SECRETARY OF HOUSING', 'OWNER'] = 'SECRETARY OF HOUSING AND URBAN DEVELOPMENT'\n",
    "full_gdf.loc[full_gdf['OWNER'] == 'URBAN DEVELOPMENT; SECRETARY OF HOUSING AND', 'OWNER'] = 'SECRETARY OF HOUSING AND URBAN DEVELOPMENT'\n",
    "\n",
    "# commonwealth of pennsylvania\n",
    "full_gdf.loc[full_gdf['OWNER'] == 'COMMONWEALTH OF PA', 'OWNER'] = 'COMMONWEALTH OF PENNSYLVANIA'\n",
    "full_gdf.loc[full_gdf['OWNER'] == 'COMMONWEALTH OF PENNA', 'OWNER'] = 'COMMONWEALTH OF PENNSYLVANIA'\n",
    "\n",
    "# phdc\n",
    "full_gdf.loc[full_gdf['OWNER'] == 'DEVELOPMENT CORPORATION; PHILADELPHIA HOUSING', 'OWNER'] = 'PHILADELPHIA HOUSING DEVELOPMENT CORPORATION'\n",
    "full_gdf.loc[full_gdf['OWNER'] == 'PHILA HOUSING DEV CORP', 'OWNER'] = 'PHILADELPHIA HOUSING DEVELOPMENT CORPORATION'\n",
    "\n",
    "# PennDOT\n",
    "full_gdf.loc[full_gdf['OWNER'] == 'DEPARTMENT OF TRANSPORTAT; COMMONWEALTH OF PENNSYLVA', 'OWNER'] = 'PENNDOT'\n",
    "\n",
    "# city of Philadelphia\n",
    "full_gdf.loc[full_gdf['OWNER'] == 'CITY OF PHILADELPHIA', 'OWNER'] = 'CITY OF PHILA'\n",
    "\n",
    "# create a new column called 'public_owner' that is True if the OWNER column is in the public_owners list\n",
    "full_gdf['public_owner'] = full_gdf['OWNER'].isin(public_owners)\n",
    "\n",
    "# drop the OWNER1 and OWNER2 columns\n",
    "full_gdf = full_gdf.drop(['OWNER1', 'OWNER2'], axis=1)"
   ]
  },
  {
   "cell_type": "code",
   "execution_count": 15,
   "metadata": {
    "ExecuteTime": {
     "start_time": "2023-05-11T09:26:18.420429Z",
     "end_time": "2023-05-11T09:26:18.449933Z"
    }
   },
   "outputs": [
    {
     "data": {
      "text/plain": "                                                geometry  \\\n4379   POLYGON ((2700752.437 251864.194, 2700743.792 ...   \n15607  POLYGON ((2700425.738 255503.855, 2700440.172 ...   \n24847  POLYGON ((2700703.104 248474.464, 2700747.239 ...   \n7000   POLYGON ((2696984.083 277184.929, 2696975.114 ...   \n9160   POLYGON ((2689311.253 261835.528, 2689228.738 ...   \n13266  POLYGON ((2688145.129 246645.648, 2688135.104 ...   \n1322   POLYGON ((2698700.456 248996.074, 2698702.717 ...   \n17208  POLYGON ((2687003.827 249637.781, 2686993.197 ...   \n2550   POLYGON ((2688875.422 245612.519, 2688889.291 ...   \n23523  POLYGON ((2683004.640 241116.161, 2683001.433 ...   \n\n                      ADDRESS               BLDG_DESC     OPA_ID  \\\n4379         255 W CAMBRIA ST     VAC LAND IND < ACRE  885263120   \n15607           3531 N 5TH ST   VAC LAND COMM. < ACRE  885104900   \n24847    2307 1/2 N PHILIP ST     VAC LAND RES < ACRE  191150800   \n7000           1840 ELSTON ST  ROW B/GAR 2STY MASONRY  101326800   \n9160          5216 LAURENS ST     VAC LAND RES < ACRE  123240500   \n13266  2838 CECIL B MOORE AVE     VAC LAND RES < ACRE  324041801   \n1322            2342 N 6TH ST   VAC LAND COMM. < ACRE  885428060   \n17208  3210 W SUSQUEHANNA AVE       ROW 3 STY MASONRY  323169200   \n2550        2637 JEFFERSON ST     VAC LAND RES < ACRE  291195000   \n23523          3904 FOLSOM ST     VAC LAND RES < ACRE  243054710   \n\n      COUNCILDISTRICT ZIPCODE ZONINGBASEDISTRICT      type  \\\n4379                7   19133              RSA-5       Lot   \n15607               7   19140               RM-1       Lot   \n24847               7   19133              RSA-5       Lot   \n7000                9   19126              RSA-5  Building   \n9160                8   19144              RSA-3       Lot   \n13266               5   19121               RM-1       Lot   \n1322                5   19133              CMX-2       Lot   \n17208               5   19121              RSA-5       Lot   \n2550                5   19121               RM-1       Lot   \n23523               3   19104              RSA-5       Lot   \n\n                                                   OWNER  public_owner  \n4379                                  PHILA AUTH IND DEV         False  \n15607                                CANCEL MARC ANTHONY         False  \n24847                                        BROWN EDITH         False  \n7000      HOLMES-OBERRY VALERIE TIN; HOLMES VALERRA TINA         False  \n9160                                         KING MARY T         False  \n13266  CITY OF PHILADELPHIA DEPARTMENT OF PUBLIC PROP...          True  \n1322                 ODELLIE MICKENS OF RT; FRANK GAYMON         False  \n17208                                     BLOCKER ROZENA         False  \n2550                                        HARRISON INC         False  \n23523            REDEVELOPMENT AUTHORITY OF PHILADELPHIA          True  ",
      "text/html": "<div>\n<style scoped>\n    .dataframe tbody tr th:only-of-type {\n        vertical-align: middle;\n    }\n\n    .dataframe tbody tr th {\n        vertical-align: top;\n    }\n\n    .dataframe thead th {\n        text-align: right;\n    }\n</style>\n<table border=\"1\" class=\"dataframe\">\n  <thead>\n    <tr style=\"text-align: right;\">\n      <th></th>\n      <th>geometry</th>\n      <th>ADDRESS</th>\n      <th>BLDG_DESC</th>\n      <th>OPA_ID</th>\n      <th>COUNCILDISTRICT</th>\n      <th>ZIPCODE</th>\n      <th>ZONINGBASEDISTRICT</th>\n      <th>type</th>\n      <th>OWNER</th>\n      <th>public_owner</th>\n    </tr>\n  </thead>\n  <tbody>\n    <tr>\n      <th>4379</th>\n      <td>POLYGON ((2700752.437 251864.194, 2700743.792 ...</td>\n      <td>255 W CAMBRIA ST</td>\n      <td>VAC LAND IND &lt; ACRE</td>\n      <td>885263120</td>\n      <td>7</td>\n      <td>19133</td>\n      <td>RSA-5</td>\n      <td>Lot</td>\n      <td>PHILA AUTH IND DEV</td>\n      <td>False</td>\n    </tr>\n    <tr>\n      <th>15607</th>\n      <td>POLYGON ((2700425.738 255503.855, 2700440.172 ...</td>\n      <td>3531 N 5TH ST</td>\n      <td>VAC LAND COMM. &lt; ACRE</td>\n      <td>885104900</td>\n      <td>7</td>\n      <td>19140</td>\n      <td>RM-1</td>\n      <td>Lot</td>\n      <td>CANCEL MARC ANTHONY</td>\n      <td>False</td>\n    </tr>\n    <tr>\n      <th>24847</th>\n      <td>POLYGON ((2700703.104 248474.464, 2700747.239 ...</td>\n      <td>2307 1/2 N PHILIP ST</td>\n      <td>VAC LAND RES &lt; ACRE</td>\n      <td>191150800</td>\n      <td>7</td>\n      <td>19133</td>\n      <td>RSA-5</td>\n      <td>Lot</td>\n      <td>BROWN EDITH</td>\n      <td>False</td>\n    </tr>\n    <tr>\n      <th>7000</th>\n      <td>POLYGON ((2696984.083 277184.929, 2696975.114 ...</td>\n      <td>1840 ELSTON ST</td>\n      <td>ROW B/GAR 2STY MASONRY</td>\n      <td>101326800</td>\n      <td>9</td>\n      <td>19126</td>\n      <td>RSA-5</td>\n      <td>Building</td>\n      <td>HOLMES-OBERRY VALERIE TIN; HOLMES VALERRA TINA</td>\n      <td>False</td>\n    </tr>\n    <tr>\n      <th>9160</th>\n      <td>POLYGON ((2689311.253 261835.528, 2689228.738 ...</td>\n      <td>5216 LAURENS ST</td>\n      <td>VAC LAND RES &lt; ACRE</td>\n      <td>123240500</td>\n      <td>8</td>\n      <td>19144</td>\n      <td>RSA-3</td>\n      <td>Lot</td>\n      <td>KING MARY T</td>\n      <td>False</td>\n    </tr>\n    <tr>\n      <th>13266</th>\n      <td>POLYGON ((2688145.129 246645.648, 2688135.104 ...</td>\n      <td>2838 CECIL B MOORE AVE</td>\n      <td>VAC LAND RES &lt; ACRE</td>\n      <td>324041801</td>\n      <td>5</td>\n      <td>19121</td>\n      <td>RM-1</td>\n      <td>Lot</td>\n      <td>CITY OF PHILADELPHIA DEPARTMENT OF PUBLIC PROP...</td>\n      <td>True</td>\n    </tr>\n    <tr>\n      <th>1322</th>\n      <td>POLYGON ((2698700.456 248996.074, 2698702.717 ...</td>\n      <td>2342 N 6TH ST</td>\n      <td>VAC LAND COMM. &lt; ACRE</td>\n      <td>885428060</td>\n      <td>5</td>\n      <td>19133</td>\n      <td>CMX-2</td>\n      <td>Lot</td>\n      <td>ODELLIE MICKENS OF RT; FRANK GAYMON</td>\n      <td>False</td>\n    </tr>\n    <tr>\n      <th>17208</th>\n      <td>POLYGON ((2687003.827 249637.781, 2686993.197 ...</td>\n      <td>3210 W SUSQUEHANNA AVE</td>\n      <td>ROW 3 STY MASONRY</td>\n      <td>323169200</td>\n      <td>5</td>\n      <td>19121</td>\n      <td>RSA-5</td>\n      <td>Lot</td>\n      <td>BLOCKER ROZENA</td>\n      <td>False</td>\n    </tr>\n    <tr>\n      <th>2550</th>\n      <td>POLYGON ((2688875.422 245612.519, 2688889.291 ...</td>\n      <td>2637 JEFFERSON ST</td>\n      <td>VAC LAND RES &lt; ACRE</td>\n      <td>291195000</td>\n      <td>5</td>\n      <td>19121</td>\n      <td>RM-1</td>\n      <td>Lot</td>\n      <td>HARRISON INC</td>\n      <td>False</td>\n    </tr>\n    <tr>\n      <th>23523</th>\n      <td>POLYGON ((2683004.640 241116.161, 2683001.433 ...</td>\n      <td>3904 FOLSOM ST</td>\n      <td>VAC LAND RES &lt; ACRE</td>\n      <td>243054710</td>\n      <td>3</td>\n      <td>19104</td>\n      <td>RSA-5</td>\n      <td>Lot</td>\n      <td>REDEVELOPMENT AUTHORITY OF PHILADELPHIA</td>\n      <td>True</td>\n    </tr>\n  </tbody>\n</table>\n</div>"
     },
     "execution_count": 15,
     "metadata": {},
     "output_type": "execute_result"
    }
   ],
   "source": [
    "# randomly sample ten rows from the full_gdf dataframe\n",
    "full_gdf.sample(10)"
   ]
  },
  {
   "attachments": {},
   "cell_type": "markdown",
   "metadata": {},
   "source": [
    "### 3. PHS LandCare Parcels"
   ]
  },
  {
   "attachments": {},
   "cell_type": "markdown",
   "metadata": {},
   "source": [
    "Now we can import the PHS Community and Philadelphia LandCare parcels and spatially join them to our full_gdf, which contains all of the vacant parcels in the city (both lots and buildings).\n",
    "\n",
    "(Note that Community LandCare parcels are taken care of by community groups, while LandCare parcels are taken care of by PHS. There are roughly three times as many Philadelphia LandCare parcels as Community LandCare parcels.)"
   ]
  },
  {
   "cell_type": "code",
   "execution_count": 16,
   "outputs": [],
   "source": [
    "def make_landcare_api_requests(url, params):\n",
    "    dfs = []\n",
    "    offset = 0\n",
    "    while True:\n",
    "        params['resultOffset'] = offset\n",
    "        response = requests.get(url, params=params)\n",
    "\n",
    "        if response.status_code == 200:\n",
    "            data = response.json()\n",
    "            df = pd.DataFrame(data['features'])\n",
    "            df = pd.concat([df.drop(['attributes'], axis=1), df['attributes'].apply(pd.Series)], axis=1)\n",
    "            df['geometry'] = df['geometry'].apply(lambda x: Polygon(x['rings'][0]))\n",
    "            gdf = gpd.GeoDataFrame(df, geometry='geometry', crs='EPSG:2272')\n",
    "          #  gdf.to_crs(epsg=2272, inplace=True)\n",
    "\n",
    "            dfs.append(gdf)\n",
    "            offset += len(gdf)\n",
    "\n",
    "            if len(gdf) < 2000:\n",
    "                break\n",
    "        else:\n",
    "            print('Request failed with status code:', response.status_code)\n",
    "            break\n",
    "\n",
    "    return pd.concat(dfs, ignore_index=True)"
   ],
   "metadata": {
    "collapsed": false,
    "ExecuteTime": {
     "start_time": "2023-05-11T09:26:18.451962Z",
     "end_time": "2023-05-11T09:26:18.485970Z"
    }
   }
  },
  {
   "cell_type": "code",
   "execution_count": 17,
   "metadata": {
    "ExecuteTime": {
     "start_time": "2023-05-11T09:26:18.465969Z",
     "end_time": "2023-05-11T09:26:18.508972Z"
    }
   },
   "outputs": [],
   "source": [
    "# Define the URL for the PHS_CommunityLandcare feature service\n",
    "phs_landcare_url = 'https://services.arcgis.com/fLeGjb7u4uXqeF9q/ArcGIS/rest/services/PHS_CommunityLandcare/FeatureServer/0/query'\n",
    "\n",
    "# Define the parameters for the PHS_CommunityLandcare API request\n",
    "phs_landcare_params = {\n",
    "    'where': '1=1',\n",
    "    'outFields': '*',\n",
    "    'returnGeometry': 'true',\n",
    "    'f': 'json',\n",
    "    'resultRecordCount': 2000 # Number of features to return per request\n",
    "}"
   ]
  },
  {
   "cell_type": "code",
   "execution_count": 18,
   "outputs": [],
   "source": [
    "# Concatenate the dataframes into a single geodataframe\n",
    "phs_landcare_gdf = make_landcare_api_requests(phs_landcare_url, phs_landcare_params)\n",
    "\n",
    "phs_cols = ['ADDRESS', 'COMM_PARTN']\n",
    "\n",
    "phs_landcare_gdf = phs_landcare_gdf[phs_cols]"
   ],
   "metadata": {
    "collapsed": false,
    "ExecuteTime": {
     "start_time": "2023-05-11T09:26:18.481969Z",
     "end_time": "2023-05-11T09:26:19.780721Z"
    }
   }
  },
  {
   "cell_type": "code",
   "execution_count": 19,
   "outputs": [],
   "source": [
    "# Define the URL for the PHS_PhilaLandCare_Maintenance feature service\n",
    "phs_maintenance_url = 'https://services.arcgis.com/fLeGjb7u4uXqeF9q/ArcGIS/rest/services/PHS_PhilaLandCare_Maintenance/FeatureServer/0/query'\n",
    "\n",
    "# Define the parameters for the PHS_PhilaLandCare_Maintenance API request\n",
    "phs_maintenance_params = {\n",
    "    'where': '1=1',\n",
    "    'outFields': '*',\n",
    "    'returnGeometry': 'true',\n",
    "    'f': 'json',\n",
    "    'resultRecordCount': 2000 # Number of features to return per request\n",
    "}"
   ],
   "metadata": {
    "collapsed": false,
    "ExecuteTime": {
     "start_time": "2023-05-11T09:26:19.781719Z",
     "end_time": "2023-05-11T09:26:19.795841Z"
    }
   }
  },
  {
   "cell_type": "code",
   "execution_count": 20,
   "outputs": [],
   "source": [
    "# Concatenate the dataframes into a single geodataframe\n",
    "phs_maintenance_gdf = make_landcare_api_requests(phs_maintenance_url, phs_maintenance_params)"
   ],
   "metadata": {
    "collapsed": false,
    "ExecuteTime": {
     "start_time": "2023-05-11T09:26:19.795841Z",
     "end_time": "2023-05-11T09:26:22.356972Z"
    }
   }
  },
  {
   "cell_type": "code",
   "execution_count": 21,
   "outputs": [
    {
     "data": {
      "text/plain": "                                            geometry  OBJECTID     TENCODE  \\\n0  POLYGON ((2698543.053 248810.880, 2698461.617 ...         1  5386002312   \n1  POLYGON ((2698348.950 248755.805, 2698438.297 ...         2  8793002301   \n2  POLYGON ((2697845.668 247251.060, 2697771.775 ...         3  8795002027   \n3  POLYGON ((2688454.415 245375.389, 2688452.637 ...         4  8834001439   \n4  POLYGON ((2698334.739 246135.996, 2698332.737 ...         5  5386001825   \n\n              ADDRESS                    OWNER1 OWNER2 BLDG_CODE  \\\n0  2312 N MARSHALL ST  PHILA REDEVELOPMENT AUTH               SR   \n1   2301-03 N 07TH ST             CITY OF PHILA               SC   \n2      2027 N 08TH ST           COMET HOMES INC               SR   \n3      1439 N 28TH ST              HARRISON INC               SR   \n4  1825 N MARSHALL ST             CITY OF PHILA               SR   \n\n               BLDG_DESC     BRT_ID  GROSS_AREA  ...     TARGETAREA GROUP_  \\\n0    VAC LAND RES < ACRE  371049900        1273  ...  Eastern North   None   \n1  VAC LAND COMM. < ACRE  886810561        3067  ...  Eastern North   None   \n2    VAC LAND RES < ACRE  202097400        1147  ...  Eastern North   None   \n3    VAC LAND RES < ACRE  292094500         999  ...  North Central   None   \n4    VAC LAND RES < ACRE  201131201         905  ...  Eastern North   None   \n\n  GRID  CCD         CCD_PERSON                   ADDR_RANGE ZIPCODE  \\\n0  278    5  Darrell L. Clarke    2310-2316 MARSHALL STREET   19133   \n1  278    5  Darrell L. Clarke            2303 N 7TH STREET   19133   \n2  278    5  Darrell L. Clarke            2027 N 8TH STREET   19122   \n3  290    5  Darrell L. Clarke            1439-41 N 28TH ST   19121   \n4  292    5  Darrell L. Clarke  1821-1827 N MARSHALL STREET   19122   \n\n   Shape__Area  Shape__Length  COMM_PARTN  \n0  1279.597046     195.672676         PHS  \n1  3170.937927     245.624697         PHS  \n2  1137.090088     179.889029         PHS  \n3   992.503540     171.520004         PHS  \n4   935.317322     148.531771         PHS  \n\n[5 rows x 26 columns]",
      "text/html": "<div>\n<style scoped>\n    .dataframe tbody tr th:only-of-type {\n        vertical-align: middle;\n    }\n\n    .dataframe tbody tr th {\n        vertical-align: top;\n    }\n\n    .dataframe thead th {\n        text-align: right;\n    }\n</style>\n<table border=\"1\" class=\"dataframe\">\n  <thead>\n    <tr style=\"text-align: right;\">\n      <th></th>\n      <th>geometry</th>\n      <th>OBJECTID</th>\n      <th>TENCODE</th>\n      <th>ADDRESS</th>\n      <th>OWNER1</th>\n      <th>OWNER2</th>\n      <th>BLDG_CODE</th>\n      <th>BLDG_DESC</th>\n      <th>BRT_ID</th>\n      <th>GROSS_AREA</th>\n      <th>...</th>\n      <th>TARGETAREA</th>\n      <th>GROUP_</th>\n      <th>GRID</th>\n      <th>CCD</th>\n      <th>CCD_PERSON</th>\n      <th>ADDR_RANGE</th>\n      <th>ZIPCODE</th>\n      <th>Shape__Area</th>\n      <th>Shape__Length</th>\n      <th>COMM_PARTN</th>\n    </tr>\n  </thead>\n  <tbody>\n    <tr>\n      <th>0</th>\n      <td>POLYGON ((2698543.053 248810.880, 2698461.617 ...</td>\n      <td>1</td>\n      <td>5386002312</td>\n      <td>2312 N MARSHALL ST</td>\n      <td>PHILA REDEVELOPMENT AUTH</td>\n      <td></td>\n      <td>SR</td>\n      <td>VAC LAND RES &lt; ACRE</td>\n      <td>371049900</td>\n      <td>1273</td>\n      <td>...</td>\n      <td>Eastern North</td>\n      <td>None</td>\n      <td>278</td>\n      <td>5</td>\n      <td>Darrell L. Clarke</td>\n      <td>2310-2316 MARSHALL STREET</td>\n      <td>19133</td>\n      <td>1279.597046</td>\n      <td>195.672676</td>\n      <td>PHS</td>\n    </tr>\n    <tr>\n      <th>1</th>\n      <td>POLYGON ((2698348.950 248755.805, 2698438.297 ...</td>\n      <td>2</td>\n      <td>8793002301</td>\n      <td>2301-03 N 07TH ST</td>\n      <td>CITY OF PHILA</td>\n      <td></td>\n      <td>SC</td>\n      <td>VAC LAND COMM. &lt; ACRE</td>\n      <td>886810561</td>\n      <td>3067</td>\n      <td>...</td>\n      <td>Eastern North</td>\n      <td>None</td>\n      <td>278</td>\n      <td>5</td>\n      <td>Darrell L. Clarke</td>\n      <td>2303 N 7TH STREET</td>\n      <td>19133</td>\n      <td>3170.937927</td>\n      <td>245.624697</td>\n      <td>PHS</td>\n    </tr>\n    <tr>\n      <th>2</th>\n      <td>POLYGON ((2697845.668 247251.060, 2697771.775 ...</td>\n      <td>3</td>\n      <td>8795002027</td>\n      <td>2027 N 08TH ST</td>\n      <td>COMET HOMES INC</td>\n      <td></td>\n      <td>SR</td>\n      <td>VAC LAND RES &lt; ACRE</td>\n      <td>202097400</td>\n      <td>1147</td>\n      <td>...</td>\n      <td>Eastern North</td>\n      <td>None</td>\n      <td>278</td>\n      <td>5</td>\n      <td>Darrell L. Clarke</td>\n      <td>2027 N 8TH STREET</td>\n      <td>19122</td>\n      <td>1137.090088</td>\n      <td>179.889029</td>\n      <td>PHS</td>\n    </tr>\n    <tr>\n      <th>3</th>\n      <td>POLYGON ((2688454.415 245375.389, 2688452.637 ...</td>\n      <td>4</td>\n      <td>8834001439</td>\n      <td>1439 N 28TH ST</td>\n      <td>HARRISON INC</td>\n      <td></td>\n      <td>SR</td>\n      <td>VAC LAND RES &lt; ACRE</td>\n      <td>292094500</td>\n      <td>999</td>\n      <td>...</td>\n      <td>North Central</td>\n      <td>None</td>\n      <td>290</td>\n      <td>5</td>\n      <td>Darrell L. Clarke</td>\n      <td>1439-41 N 28TH ST</td>\n      <td>19121</td>\n      <td>992.503540</td>\n      <td>171.520004</td>\n      <td>PHS</td>\n    </tr>\n    <tr>\n      <th>4</th>\n      <td>POLYGON ((2698334.739 246135.996, 2698332.737 ...</td>\n      <td>5</td>\n      <td>5386001825</td>\n      <td>1825 N MARSHALL ST</td>\n      <td>CITY OF PHILA</td>\n      <td></td>\n      <td>SR</td>\n      <td>VAC LAND RES &lt; ACRE</td>\n      <td>201131201</td>\n      <td>905</td>\n      <td>...</td>\n      <td>Eastern North</td>\n      <td>None</td>\n      <td>292</td>\n      <td>5</td>\n      <td>Darrell L. Clarke</td>\n      <td>1821-1827 N MARSHALL STREET</td>\n      <td>19122</td>\n      <td>935.317322</td>\n      <td>148.531771</td>\n      <td>PHS</td>\n    </tr>\n  </tbody>\n</table>\n<p>5 rows × 26 columns</p>\n</div>"
     },
     "execution_count": 21,
     "metadata": {},
     "output_type": "execute_result"
    }
   ],
   "source": [
    "# add a column called 'COMM_PARTN' to phs_maintenance_gdf\n",
    "phs_maintenance_gdf['COMM_PARTN'] = 'PHS'\n",
    "\n",
    "phs_maintenance_gdf.head()"
   ],
   "metadata": {
    "collapsed": false,
    "ExecuteTime": {
     "start_time": "2023-05-11T09:26:22.356972Z",
     "end_time": "2023-05-11T09:26:22.372996Z"
    }
   }
  },
  {
   "cell_type": "code",
   "execution_count": 22,
   "outputs": [],
   "source": [
    "# Select the columns of interest\n",
    "phs_maintenance_cols = ['ADDRESS', 'COMM_PARTN']\n",
    "phs_maintenance_gdf = phs_maintenance_gdf[phs_maintenance_cols]"
   ],
   "metadata": {
    "collapsed": false,
    "ExecuteTime": {
     "start_time": "2023-05-11T09:26:22.372996Z",
     "end_time": "2023-05-11T09:26:22.401916Z"
    }
   }
  },
  {
   "cell_type": "code",
   "execution_count": 23,
   "outputs": [],
   "source": [
    "phs_gdf = pd.concat([phs_maintenance_gdf, phs_landcare_gdf], ignore_index=True)"
   ],
   "metadata": {
    "collapsed": false,
    "ExecuteTime": {
     "start_time": "2023-05-11T09:26:22.388916Z",
     "end_time": "2023-05-11T09:26:22.432447Z"
    }
   }
  },
  {
   "cell_type": "code",
   "execution_count": 24,
   "outputs": [
    {
     "data": {
      "text/plain": "                 ADDRESS    COMM_PARTN\n967         2600 REED ST           PHS\n8130      3229 N 15TH ST  Tioga United\n1751      4203 LEIDY AVE           PHS\n7139      2238 N 30TH ST         SMCDC\n3220      2611 N 27TH ST           PHS\n8104      2040 N 32ND ST         SMCDC\n8525       733 MASTER ST          SKCP\n4378  2716 N LAWRENCE ST           PHS\n2251       755 N 44TH ST           PHS\n6459     440 W NORRIS ST           PHS",
      "text/html": "<div>\n<style scoped>\n    .dataframe tbody tr th:only-of-type {\n        vertical-align: middle;\n    }\n\n    .dataframe tbody tr th {\n        vertical-align: top;\n    }\n\n    .dataframe thead th {\n        text-align: right;\n    }\n</style>\n<table border=\"1\" class=\"dataframe\">\n  <thead>\n    <tr style=\"text-align: right;\">\n      <th></th>\n      <th>ADDRESS</th>\n      <th>COMM_PARTN</th>\n    </tr>\n  </thead>\n  <tbody>\n    <tr>\n      <th>967</th>\n      <td>2600 REED ST</td>\n      <td>PHS</td>\n    </tr>\n    <tr>\n      <th>8130</th>\n      <td>3229 N 15TH ST</td>\n      <td>Tioga United</td>\n    </tr>\n    <tr>\n      <th>1751</th>\n      <td>4203 LEIDY AVE</td>\n      <td>PHS</td>\n    </tr>\n    <tr>\n      <th>7139</th>\n      <td>2238 N 30TH ST</td>\n      <td>SMCDC</td>\n    </tr>\n    <tr>\n      <th>3220</th>\n      <td>2611 N 27TH ST</td>\n      <td>PHS</td>\n    </tr>\n    <tr>\n      <th>8104</th>\n      <td>2040 N 32ND ST</td>\n      <td>SMCDC</td>\n    </tr>\n    <tr>\n      <th>8525</th>\n      <td>733 MASTER ST</td>\n      <td>SKCP</td>\n    </tr>\n    <tr>\n      <th>4378</th>\n      <td>2716 N LAWRENCE ST</td>\n      <td>PHS</td>\n    </tr>\n    <tr>\n      <th>2251</th>\n      <td>755 N 44TH ST</td>\n      <td>PHS</td>\n    </tr>\n    <tr>\n      <th>6459</th>\n      <td>440 W NORRIS ST</td>\n      <td>PHS</td>\n    </tr>\n  </tbody>\n</table>\n</div>"
     },
     "execution_count": 24,
     "metadata": {},
     "output_type": "execute_result"
    }
   ],
   "source": [
    "phs_gdf.sample(10)"
   ],
   "metadata": {
    "collapsed": false,
    "ExecuteTime": {
     "start_time": "2023-05-11T09:26:22.403922Z",
     "end_time": "2023-05-11T09:26:22.483448Z"
    }
   }
  },
  {
   "cell_type": "code",
   "execution_count": 25,
   "metadata": {
    "ExecuteTime": {
     "start_time": "2023-05-11T09:26:22.418442Z",
     "end_time": "2023-05-11T09:26:22.510449Z"
    }
   },
   "outputs": [],
   "source": [
    "# spatially join phs_landcare_gdf to full_gdf\n",
    "# joined_gdf = gpd.sjoin(full_gdf, phs_gdf, how='left', predicate='intersects')\n",
    "\n",
    "joined_gdf = full_gdf.merge(phs_gdf, how='left', on='ADDRESS')"
   ]
  },
  {
   "cell_type": "code",
   "execution_count": 26,
   "outputs": [],
   "source": [
    "joined_gdf['COMM_PARTN'] = joined_gdf['COMM_PARTN'].fillna(\"None\")"
   ],
   "metadata": {
    "collapsed": false,
    "ExecuteTime": {
     "start_time": "2023-05-11T09:26:22.450449Z",
     "end_time": "2023-05-11T09:26:22.510449Z"
    }
   }
  },
  {
   "cell_type": "code",
   "execution_count": 27,
   "outputs": [
    {
     "data": {
      "text/plain": "                                                geometry              ADDRESS  \\\n19362  POLYGON ((2696222.625 252275.592, 2696218.000 ...    1315 W WILLIAM ST   \n24622  POLYGON ((2715286.418 259291.295, 2715303.347 ...     1665 ORTHODOX ST   \n7908   POLYGON ((2688491.892 268860.573, 2688483.508 ...    52 E PASTORIUS ST   \n24682  POLYGON ((2697791.230 268680.105, 2697560.856 ...    1419 W GRANGE AVE   \n26815  POLYGON ((2689081.844 230414.678, 2689079.761 ...       1229 S 22ND ST   \n14449  POLYGON ((2690060.891 229962.416, 2690053.607 ...        1932 TITAN ST   \n21173  POLYGON ((2676564.488 240509.270, 2676550.060 ...      5144 FUNSTON ST   \n23553  POLYGON ((2668825.523 214109.913, 2668873.839 ...       2718 S 86TH ST   \n7266   POLYGON ((2692936.616 264052.937, 2692929.807 ...  4931 GERMANTOWN AVE   \n22768  POLYGON ((2691063.047 229097.293, 2691061.069 ...   1413 S COLORADO ST   \n\n                   BLDG_DESC     OPA_ID COUNCILDISTRICT ZIPCODE  \\\n19362    VAC LAND RES < ACRE  372370500               5   19132   \n24622    VAC LAND RES < ACRE  232100500               7   19124   \n7908     VAC LAND RES < ACRE  592000009               8   19144   \n24682  VAC LAND COMM. < ACRE  881076300               8   19141   \n26815      ROW 2 STY MASONRY  361218600               2   19146   \n14449    VAC LAND RES < ACRE  361100115               2   19146   \n21173    VAC LAND RES < ACRE  441283610               3   19139   \n23553    VAC LAND RES < ACRE  405061036               2   19153   \n7266   VAC LAND COMM. < ACRE  885123100               8   19144   \n22768      ROW 3 STY MASONRY  365215000               2   19146   \n\n      ZONINGBASEDISTRICT      type                                    OWNER  \\\n19362               RM-1       Lot                        STABLE GENIUS LLC   \n24622               RM-1       Lot                     ZWICK PROPERTIES LLC   \n7908               RSA-5       Lot                             MATYANOR LLC   \n24682              CMX-2       Lot                   GRANGE DEVELOPMENT LLC   \n26815              RSA-5  Building      BROWN ELIZABETH; BROWN RONALD ISAAC   \n14449              RSA-5       Lot                   PHILADELPHIA LAND BANK   \n21173              RSA-5       Lot                    WE BUY CITY HOMES INC   \n23553              RSA-5       Lot  REDEVELOPMENT AUTHORITY OF PHILADELPHIA   \n7266             CMX-2.5       Lot                            SEITAJ BRIGET   \n22768              RSA-5       Lot            BOODY ELISA; BELKOWSKI MARK A   \n\n       public_owner COMM_PARTN  \n19362         False       None  \n24622         False       None  \n7908          False       None  \n24682         False       None  \n26815         False       None  \n14449          True       None  \n21173         False       MoMC  \n23553          True       None  \n7266          False       None  \n22768         False       None  ",
      "text/html": "<div>\n<style scoped>\n    .dataframe tbody tr th:only-of-type {\n        vertical-align: middle;\n    }\n\n    .dataframe tbody tr th {\n        vertical-align: top;\n    }\n\n    .dataframe thead th {\n        text-align: right;\n    }\n</style>\n<table border=\"1\" class=\"dataframe\">\n  <thead>\n    <tr style=\"text-align: right;\">\n      <th></th>\n      <th>geometry</th>\n      <th>ADDRESS</th>\n      <th>BLDG_DESC</th>\n      <th>OPA_ID</th>\n      <th>COUNCILDISTRICT</th>\n      <th>ZIPCODE</th>\n      <th>ZONINGBASEDISTRICT</th>\n      <th>type</th>\n      <th>OWNER</th>\n      <th>public_owner</th>\n      <th>COMM_PARTN</th>\n    </tr>\n  </thead>\n  <tbody>\n    <tr>\n      <th>19362</th>\n      <td>POLYGON ((2696222.625 252275.592, 2696218.000 ...</td>\n      <td>1315 W WILLIAM ST</td>\n      <td>VAC LAND RES &lt; ACRE</td>\n      <td>372370500</td>\n      <td>5</td>\n      <td>19132</td>\n      <td>RM-1</td>\n      <td>Lot</td>\n      <td>STABLE GENIUS LLC</td>\n      <td>False</td>\n      <td>None</td>\n    </tr>\n    <tr>\n      <th>24622</th>\n      <td>POLYGON ((2715286.418 259291.295, 2715303.347 ...</td>\n      <td>1665 ORTHODOX ST</td>\n      <td>VAC LAND RES &lt; ACRE</td>\n      <td>232100500</td>\n      <td>7</td>\n      <td>19124</td>\n      <td>RM-1</td>\n      <td>Lot</td>\n      <td>ZWICK PROPERTIES LLC</td>\n      <td>False</td>\n      <td>None</td>\n    </tr>\n    <tr>\n      <th>7908</th>\n      <td>POLYGON ((2688491.892 268860.573, 2688483.508 ...</td>\n      <td>52 E PASTORIUS ST</td>\n      <td>VAC LAND RES &lt; ACRE</td>\n      <td>592000009</td>\n      <td>8</td>\n      <td>19144</td>\n      <td>RSA-5</td>\n      <td>Lot</td>\n      <td>MATYANOR LLC</td>\n      <td>False</td>\n      <td>None</td>\n    </tr>\n    <tr>\n      <th>24682</th>\n      <td>POLYGON ((2697791.230 268680.105, 2697560.856 ...</td>\n      <td>1419 W GRANGE AVE</td>\n      <td>VAC LAND COMM. &lt; ACRE</td>\n      <td>881076300</td>\n      <td>8</td>\n      <td>19141</td>\n      <td>CMX-2</td>\n      <td>Lot</td>\n      <td>GRANGE DEVELOPMENT LLC</td>\n      <td>False</td>\n      <td>None</td>\n    </tr>\n    <tr>\n      <th>26815</th>\n      <td>POLYGON ((2689081.844 230414.678, 2689079.761 ...</td>\n      <td>1229 S 22ND ST</td>\n      <td>ROW 2 STY MASONRY</td>\n      <td>361218600</td>\n      <td>2</td>\n      <td>19146</td>\n      <td>RSA-5</td>\n      <td>Building</td>\n      <td>BROWN ELIZABETH; BROWN RONALD ISAAC</td>\n      <td>False</td>\n      <td>None</td>\n    </tr>\n    <tr>\n      <th>14449</th>\n      <td>POLYGON ((2690060.891 229962.416, 2690053.607 ...</td>\n      <td>1932 TITAN ST</td>\n      <td>VAC LAND RES &lt; ACRE</td>\n      <td>361100115</td>\n      <td>2</td>\n      <td>19146</td>\n      <td>RSA-5</td>\n      <td>Lot</td>\n      <td>PHILADELPHIA LAND BANK</td>\n      <td>True</td>\n      <td>None</td>\n    </tr>\n    <tr>\n      <th>21173</th>\n      <td>POLYGON ((2676564.488 240509.270, 2676550.060 ...</td>\n      <td>5144 FUNSTON ST</td>\n      <td>VAC LAND RES &lt; ACRE</td>\n      <td>441283610</td>\n      <td>3</td>\n      <td>19139</td>\n      <td>RSA-5</td>\n      <td>Lot</td>\n      <td>WE BUY CITY HOMES INC</td>\n      <td>False</td>\n      <td>MoMC</td>\n    </tr>\n    <tr>\n      <th>23553</th>\n      <td>POLYGON ((2668825.523 214109.913, 2668873.839 ...</td>\n      <td>2718 S 86TH ST</td>\n      <td>VAC LAND RES &lt; ACRE</td>\n      <td>405061036</td>\n      <td>2</td>\n      <td>19153</td>\n      <td>RSA-5</td>\n      <td>Lot</td>\n      <td>REDEVELOPMENT AUTHORITY OF PHILADELPHIA</td>\n      <td>True</td>\n      <td>None</td>\n    </tr>\n    <tr>\n      <th>7266</th>\n      <td>POLYGON ((2692936.616 264052.937, 2692929.807 ...</td>\n      <td>4931 GERMANTOWN AVE</td>\n      <td>VAC LAND COMM. &lt; ACRE</td>\n      <td>885123100</td>\n      <td>8</td>\n      <td>19144</td>\n      <td>CMX-2.5</td>\n      <td>Lot</td>\n      <td>SEITAJ BRIGET</td>\n      <td>False</td>\n      <td>None</td>\n    </tr>\n    <tr>\n      <th>22768</th>\n      <td>POLYGON ((2691063.047 229097.293, 2691061.069 ...</td>\n      <td>1413 S COLORADO ST</td>\n      <td>ROW 3 STY MASONRY</td>\n      <td>365215000</td>\n      <td>2</td>\n      <td>19146</td>\n      <td>RSA-5</td>\n      <td>Lot</td>\n      <td>BOODY ELISA; BELKOWSKI MARK A</td>\n      <td>False</td>\n      <td>None</td>\n    </tr>\n  </tbody>\n</table>\n</div>"
     },
     "execution_count": 27,
     "metadata": {},
     "output_type": "execute_result"
    }
   ],
   "source": [
    "joined_gdf.sample(10)"
   ],
   "metadata": {
    "collapsed": false,
    "ExecuteTime": {
     "start_time": "2023-05-11T09:26:22.464447Z",
     "end_time": "2023-05-11T09:26:22.541516Z"
    }
   }
  },
  {
   "cell_type": "code",
   "execution_count": 28,
   "outputs": [
    {
     "data": {
      "text/plain": "<Figure size 640x480 with 1 Axes>",
      "image/png": "[encoded data removed]"
     },
     "metadata": {},
     "output_type": "display_data"
    }
   ],
   "source": [
    "import matplotlib.pyplot as plt\n",
    "\n",
    "# Count the occurrences of each category in the COMM_PARTN column\n",
    "category_counts = joined_gdf['COMM_PARTN'].value_counts()\n",
    "\n",
    "# Create a bar chart\n",
    "category_counts.plot(kind='bar')\n",
    "\n",
    "# Set the chart title and axis labels\n",
    "plt.title('Category Distribution in COMM_PARTN')\n",
    "plt.xlabel('Category')\n",
    "plt.ylabel('Count')\n",
    "\n",
    "# Display the chart\n",
    "plt.show()"
   ],
   "metadata": {
    "collapsed": false,
    "ExecuteTime": {
     "start_time": "2023-05-11T09:26:22.499446Z",
     "end_time": "2023-05-11T09:26:22.704033Z"
    }
   }
  },
  {
   "cell_type": "code",
   "execution_count": 29,
   "outputs": [
    {
     "data": {
      "text/plain": "                                            geometry           ADDRESS  \\\n0  POLYGON ((2687288.658 256633.610, 2687182.517 ...    3232 HENRY AVE   \n1  POLYGON ((2675581.284 242098.205, 2675611.529 ...     633 N 53RD ST   \n2  POLYGON ((2694596.085 250002.568, 2694596.038 ...    2424 N MOLE ST   \n3  POLYGON ((2699251.414 246745.626, 2699244.611 ...  437 ARLINGTON ST   \n4  POLYGON ((2695074.333 251699.409, 2695026.589 ...   2735 N HICKS ST   \n\n                BLDG_DESC     OPA_ID COUNCILDISTRICT ZIPCODE  \\\n0  COM.CONDO.1STY MASONRY  882921188               4   19129   \n1     VAC LAND RES < ACRE  442316810               3   19131   \n2     VAC LAND RES < ACRE  161064101               5   19132   \n3     VAC LAND RES < ACRE  183194500               7   19122   \n4     VAC LAND RES < ACRE  111168200               8   19132   \n\n  ZONINGBASEDISTRICT type                                    OWNER  \\\n0              RSA-5  Lot                  NEWCOURTLAND ELDER SVCS   \n1               ICMX  Lot  REDEVELOPMENT AUTHORITY OF PHILADELPHIA   \n2              RSA-5  Lot  REDEVELOPMENT AUTHORITY OF PHILADELPHIA   \n3              RSA-5  Lot                              MCHUGH JOHN   \n4              RSA-5  Lot               VICTORIA; HERBERT MITCHELL   \n\n   public_owner COMM_PARTN  \n0         False       None  \n1          True        PHS  \n2          True       None  \n3         False       None  \n4         False       None  ",
      "text/html": "<div>\n<style scoped>\n    .dataframe tbody tr th:only-of-type {\n        vertical-align: middle;\n    }\n\n    .dataframe tbody tr th {\n        vertical-align: top;\n    }\n\n    .dataframe thead th {\n        text-align: right;\n    }\n</style>\n<table border=\"1\" class=\"dataframe\">\n  <thead>\n    <tr style=\"text-align: right;\">\n      <th></th>\n      <th>geometry</th>\n      <th>ADDRESS</th>\n      <th>BLDG_DESC</th>\n      <th>OPA_ID</th>\n      <th>COUNCILDISTRICT</th>\n      <th>ZIPCODE</th>\n      <th>ZONINGBASEDISTRICT</th>\n      <th>type</th>\n      <th>OWNER</th>\n      <th>public_owner</th>\n      <th>COMM_PARTN</th>\n    </tr>\n  </thead>\n  <tbody>\n    <tr>\n      <th>0</th>\n      <td>POLYGON ((2687288.658 256633.610, 2687182.517 ...</td>\n      <td>3232 HENRY AVE</td>\n      <td>COM.CONDO.1STY MASONRY</td>\n      <td>882921188</td>\n      <td>4</td>\n      <td>19129</td>\n      <td>RSA-5</td>\n      <td>Lot</td>\n      <td>NEWCOURTLAND ELDER SVCS</td>\n      <td>False</td>\n      <td>None</td>\n    </tr>\n    <tr>\n      <th>1</th>\n      <td>POLYGON ((2675581.284 242098.205, 2675611.529 ...</td>\n      <td>633 N 53RD ST</td>\n      <td>VAC LAND RES &lt; ACRE</td>\n      <td>442316810</td>\n      <td>3</td>\n      <td>19131</td>\n      <td>ICMX</td>\n      <td>Lot</td>\n      <td>REDEVELOPMENT AUTHORITY OF PHILADELPHIA</td>\n      <td>True</td>\n      <td>PHS</td>\n    </tr>\n    <tr>\n      <th>2</th>\n      <td>POLYGON ((2694596.085 250002.568, 2694596.038 ...</td>\n      <td>2424 N MOLE ST</td>\n      <td>VAC LAND RES &lt; ACRE</td>\n      <td>161064101</td>\n      <td>5</td>\n      <td>19132</td>\n      <td>RSA-5</td>\n      <td>Lot</td>\n      <td>REDEVELOPMENT AUTHORITY OF PHILADELPHIA</td>\n      <td>True</td>\n      <td>None</td>\n    </tr>\n    <tr>\n      <th>3</th>\n      <td>POLYGON ((2699251.414 246745.626, 2699244.611 ...</td>\n      <td>437 ARLINGTON ST</td>\n      <td>VAC LAND RES &lt; ACRE</td>\n      <td>183194500</td>\n      <td>7</td>\n      <td>19122</td>\n      <td>RSA-5</td>\n      <td>Lot</td>\n      <td>MCHUGH JOHN</td>\n      <td>False</td>\n      <td>None</td>\n    </tr>\n    <tr>\n      <th>4</th>\n      <td>POLYGON ((2695074.333 251699.409, 2695026.589 ...</td>\n      <td>2735 N HICKS ST</td>\n      <td>VAC LAND RES &lt; ACRE</td>\n      <td>111168200</td>\n      <td>8</td>\n      <td>19132</td>\n      <td>RSA-5</td>\n      <td>Lot</td>\n      <td>VICTORIA; HERBERT MITCHELL</td>\n      <td>False</td>\n      <td>None</td>\n    </tr>\n  </tbody>\n</table>\n</div>"
     },
     "execution_count": 29,
     "metadata": {},
     "output_type": "execute_result"
    }
   ],
   "source": [
    "joined_gdf.head()"
   ],
   "metadata": {
    "collapsed": false,
    "ExecuteTime": {
     "start_time": "2023-05-11T09:26:22.697030Z",
     "end_time": "2023-05-11T09:26:22.714002Z"
    }
   }
  },
  {
   "cell_type": "code",
   "execution_count": 30,
   "outputs": [
    {
     "data": {
      "text/plain": "7315"
     },
     "execution_count": 30,
     "metadata": {},
     "output_type": "execute_result"
    }
   ],
   "source": [
    "# return the number of rows in joined_gdf where COMM_PARTN is not None\n",
    "len(joined_gdf[joined_gdf['COMM_PARTN'] != 'None'])"
   ],
   "metadata": {
    "collapsed": false,
    "ExecuteTime": {
     "start_time": "2023-05-11T09:26:22.711003Z",
     "end_time": "2023-05-11T09:26:22.771338Z"
    }
   }
  },
  {
   "cell_type": "code",
   "execution_count": 31,
   "outputs": [
    {
     "data": {
      "text/plain": "                                             geometry          ADDRESS  \\\n1   POLYGON ((2675581.284 242098.205, 2675611.529 ...    633 N 53RD ST   \n8   POLYGON ((2671363.932 240660.448, 2671409.874 ...    252 N 61ST ST   \n12  POLYGON ((2692912.046 249149.713, 2692909.862 ...   2233 N UBER ST   \n14  POLYGON ((2675321.835 238410.298, 2675306.316 ...   5332 MARKET ST   \n21  POLYGON ((2702604.971 251022.145, 2702603.181 ...  2802 N WATER ST   \n\n                BLDG_DESC     OPA_ID COUNCILDISTRICT ZIPCODE  \\\n1     VAC LAND RES < ACRE  442316810               3   19131   \n8       ROW 2 STY MASONRY  341145900               4   19139   \n12    VAC LAND RES < ACRE  162113701               5   19132   \n14  VAC LAND COMM. < ACRE  885607760               3   19139   \n21    VAC LAND RES < ACRE  071335000               7   19134   \n\n   ZONINGBASEDISTRICT type                                    OWNER  \\\n1                ICMX  Lot  REDEVELOPMENT AUTHORITY OF PHILADELPHIA   \n8                RM-1  Lot                CITY BLOCK ACQUISITION XI   \n12              RSA-5  Lot                            CITY OF PHILA   \n14              CMX-2  Lot                 NEIGHBORHOOD RESTORATION   \n21              RSA-5  Lot                     PHILLY HOME BUILDERS   \n\n    public_owner       COMM_PARTN  \n1           True              PHS  \n8          False              PHS  \n12          True            SCUPU  \n14         False              PHS  \n21         False  Iglesias Unidas  ",
      "text/html": "<div>\n<style scoped>\n    .dataframe tbody tr th:only-of-type {\n        vertical-align: middle;\n    }\n\n    .dataframe tbody tr th {\n        vertical-align: top;\n    }\n\n    .dataframe thead th {\n        text-align: right;\n    }\n</style>\n<table border=\"1\" class=\"dataframe\">\n  <thead>\n    <tr style=\"text-align: right;\">\n      <th></th>\n      <th>geometry</th>\n      <th>ADDRESS</th>\n      <th>BLDG_DESC</th>\n      <th>OPA_ID</th>\n      <th>COUNCILDISTRICT</th>\n      <th>ZIPCODE</th>\n      <th>ZONINGBASEDISTRICT</th>\n      <th>type</th>\n      <th>OWNER</th>\n      <th>public_owner</th>\n      <th>COMM_PARTN</th>\n    </tr>\n  </thead>\n  <tbody>\n    <tr>\n      <th>1</th>\n      <td>POLYGON ((2675581.284 242098.205, 2675611.529 ...</td>\n      <td>633 N 53RD ST</td>\n      <td>VAC LAND RES &lt; ACRE</td>\n      <td>442316810</td>\n      <td>3</td>\n      <td>19131</td>\n      <td>ICMX</td>\n      <td>Lot</td>\n      <td>REDEVELOPMENT AUTHORITY OF PHILADELPHIA</td>\n      <td>True</td>\n      <td>PHS</td>\n    </tr>\n    <tr>\n      <th>8</th>\n      <td>POLYGON ((2671363.932 240660.448, 2671409.874 ...</td>\n      <td>252 N 61ST ST</td>\n      <td>ROW 2 STY MASONRY</td>\n      <td>341145900</td>\n      <td>4</td>\n      <td>19139</td>\n      <td>RM-1</td>\n      <td>Lot</td>\n      <td>CITY BLOCK ACQUISITION XI</td>\n      <td>False</td>\n      <td>PHS</td>\n    </tr>\n    <tr>\n      <th>12</th>\n      <td>POLYGON ((2692912.046 249149.713, 2692909.862 ...</td>\n      <td>2233 N UBER ST</td>\n      <td>VAC LAND RES &lt; ACRE</td>\n      <td>162113701</td>\n      <td>5</td>\n      <td>19132</td>\n      <td>RSA-5</td>\n      <td>Lot</td>\n      <td>CITY OF PHILA</td>\n      <td>True</td>\n      <td>SCUPU</td>\n    </tr>\n    <tr>\n      <th>14</th>\n      <td>POLYGON ((2675321.835 238410.298, 2675306.316 ...</td>\n      <td>5332 MARKET ST</td>\n      <td>VAC LAND COMM. &lt; ACRE</td>\n      <td>885607760</td>\n      <td>3</td>\n      <td>19139</td>\n      <td>CMX-2</td>\n      <td>Lot</td>\n      <td>NEIGHBORHOOD RESTORATION</td>\n      <td>False</td>\n      <td>PHS</td>\n    </tr>\n    <tr>\n      <th>21</th>\n      <td>POLYGON ((2702604.971 251022.145, 2702603.181 ...</td>\n      <td>2802 N WATER ST</td>\n      <td>VAC LAND RES &lt; ACRE</td>\n      <td>071335000</td>\n      <td>7</td>\n      <td>19134</td>\n      <td>RSA-5</td>\n      <td>Lot</td>\n      <td>PHILLY HOME BUILDERS</td>\n      <td>False</td>\n      <td>Iglesias Unidas</td>\n    </tr>\n  </tbody>\n</table>\n</div>"
     },
     "execution_count": 31,
     "metadata": {},
     "output_type": "execute_result"
    }
   ],
   "source": [
    "# return the first five rows of joined_gdf where COMM_PARTN is not None\n",
    "joined_gdf[joined_gdf['COMM_PARTN'] != 'None'].head()"
   ],
   "metadata": {
    "collapsed": false,
    "ExecuteTime": {
     "start_time": "2023-05-11T09:26:22.726339Z",
     "end_time": "2023-05-11T09:26:22.771338Z"
    }
   }
  },
  {
   "cell_type": "code",
   "execution_count": 32,
   "metadata": {
    "ExecuteTime": {
     "start_time": "2023-05-11T09:26:22.742339Z",
     "end_time": "2023-05-11T09:26:22.801338Z"
    }
   },
   "outputs": [
    {
     "data": {
      "text/plain": "Index(['geometry', 'ADDRESS', 'BLDG_DESC', 'OPA_ID', 'COUNCILDISTRICT',\n       'ZIPCODE', 'ZONINGBASEDISTRICT', 'type', 'OWNER', 'public_owner',\n       'COMM_PARTN'],\n      dtype='object')"
     },
     "execution_count": 32,
     "metadata": {},
     "output_type": "execute_result"
    }
   ],
   "source": [
    "joined_gdf.columns"
   ]
  },
  {
   "attachments": {},
   "cell_type": "markdown",
   "metadata": {},
   "source": [
    "Now we need to import two more datasets from the City's Carto database (SQL)."
   ]
  },
  {
   "cell_type": "code",
   "execution_count": 33,
   "outputs": [],
   "source": [
    "import datetime\n",
    "\n",
    "def get_data(sql_query):\n",
    "    response = requests.get(\"https://phl.carto.com/api/v2/sql\", params={\"q\": sql_query})\n",
    "    data = response.json()[\"rows\"]\n",
    "    df = pd.DataFrame(data)\n",
    "    return df\n",
    "\n",
    "# Calculate one year ago from today's date\n",
    "one_year_ago = (datetime.datetime.now() - datetime.timedelta(days=365)).strftime(\"%Y-%m-%d\")"
   ],
   "metadata": {
    "collapsed": false,
    "ExecuteTime": {
     "start_time": "2023-05-11T09:26:22.759338Z",
     "end_time": "2023-05-11T09:26:22.814340Z"
    }
   }
  },
  {
   "attachments": {},
   "cell_type": "markdown",
   "metadata": {},
   "source": [
    "### 1. L&I Complaints"
   ]
  },
  {
   "cell_type": "code",
   "execution_count": 34,
   "outputs": [],
   "source": [
    "complaints_sql_query = \"SELECT address, service_request_id, subject, status, service_name, service_code FROM public_cases_fc WHERE requested_datetime >= '{}'\".format(one_year_ago)\n",
    "\n",
    "complaints_df = get_data(complaints_sql_query)"
   ],
   "metadata": {
    "collapsed": false,
    "ExecuteTime": {
     "start_time": "2023-05-11T09:26:22.774339Z",
     "end_time": "2023-05-11T09:26:36.712495Z"
    }
   }
  },
  {
   "cell_type": "code",
   "execution_count": 35,
   "outputs": [],
   "source": [
    "complaints_count_df = complaints_df.groupby('address').agg(\n",
    "    all_complaints_past_year=('service_request_id', 'count'),\n",
    "    open_complaints_past_year=('status', lambda x: sum(status.lower() == 'open' for status in x))\n",
    ").reset_index()\n",
    "\n",
    "complaints_count_df['open_complaints_past_year'] = complaints_count_df['open_complaints_past_year'].astype(int)"
   ],
   "metadata": {
    "collapsed": false,
    "ExecuteTime": {
     "start_time": "2023-05-11T09:26:36.713495Z",
     "end_time": "2023-05-11T09:26:38.441875Z"
    }
   }
  },
  {
   "cell_type": "code",
   "execution_count": 36,
   "metadata": {
    "ExecuteTime": {
     "start_time": "2023-05-11T09:26:38.442874Z",
     "end_time": "2023-05-11T09:26:38.457981Z"
    }
   },
   "outputs": [
    {
     "data": {
      "text/plain": "                     address  all_complaints_past_year  \\\n28607         1836 WILDER ST                         5   \n100564     5930 CATHARINE ST                         3   \n98451         5747 N 13TH ST                         5   \n75874          4136 OGDEN ST                         2   \n53859       2700 BOUDINOT ST                         5   \n24662       1717 FOULKROD ST                         4   \n27206     1812 GILLINGHAM ST                         1   \n114534         718 ADAMS AVE                         2   \n369        1000 W GIRARD AVE                         7   \n34702   2028 E ALLEGHENY AVE                         1   \n\n        open_complaints_past_year  \n28607                           0  \n100564                          2  \n98451                           1  \n75874                           1  \n53859                           0  \n24662                           0  \n27206                           0  \n114534                          1  \n369                             1  \n34702                           0  ",
      "text/html": "<div>\n<style scoped>\n    .dataframe tbody tr th:only-of-type {\n        vertical-align: middle;\n    }\n\n    .dataframe tbody tr th {\n        vertical-align: top;\n    }\n\n    .dataframe thead th {\n        text-align: right;\n    }\n</style>\n<table border=\"1\" class=\"dataframe\">\n  <thead>\n    <tr style=\"text-align: right;\">\n      <th></th>\n      <th>address</th>\n      <th>all_complaints_past_year</th>\n      <th>open_complaints_past_year</th>\n    </tr>\n  </thead>\n  <tbody>\n    <tr>\n      <th>28607</th>\n      <td>1836 WILDER ST</td>\n      <td>5</td>\n      <td>0</td>\n    </tr>\n    <tr>\n      <th>100564</th>\n      <td>5930 CATHARINE ST</td>\n      <td>3</td>\n      <td>2</td>\n    </tr>\n    <tr>\n      <th>98451</th>\n      <td>5747 N 13TH ST</td>\n      <td>5</td>\n      <td>1</td>\n    </tr>\n    <tr>\n      <th>75874</th>\n      <td>4136 OGDEN ST</td>\n      <td>2</td>\n      <td>1</td>\n    </tr>\n    <tr>\n      <th>53859</th>\n      <td>2700 BOUDINOT ST</td>\n      <td>5</td>\n      <td>0</td>\n    </tr>\n    <tr>\n      <th>24662</th>\n      <td>1717 FOULKROD ST</td>\n      <td>4</td>\n      <td>0</td>\n    </tr>\n    <tr>\n      <th>27206</th>\n      <td>1812 GILLINGHAM ST</td>\n      <td>1</td>\n      <td>0</td>\n    </tr>\n    <tr>\n      <th>114534</th>\n      <td>718 ADAMS AVE</td>\n      <td>2</td>\n      <td>1</td>\n    </tr>\n    <tr>\n      <th>369</th>\n      <td>1000 W GIRARD AVE</td>\n      <td>7</td>\n      <td>1</td>\n    </tr>\n    <tr>\n      <th>34702</th>\n      <td>2028 E ALLEGHENY AVE</td>\n      <td>1</td>\n      <td>0</td>\n    </tr>\n  </tbody>\n</table>\n</div>"
     },
     "execution_count": 36,
     "metadata": {},
     "output_type": "execute_result"
    }
   ],
   "source": [
    "complaints_count_df.sample(10)"
   ]
  },
  {
   "cell_type": "markdown",
   "metadata": {},
   "source": [
    "### 2. L&I Code Violations"
   ]
  },
  {
   "cell_type": "code",
   "execution_count": 37,
   "metadata": {
    "ExecuteTime": {
     "start_time": "2023-05-11T09:26:38.458980Z",
     "end_time": "2023-05-11T09:26:42.323271Z"
    }
   },
   "outputs": [],
   "source": [
    "# Create the SQL query\n",
    "violations_sql_query = \"SELECT parcel_id_num, casenumber, casecreateddate, casetype, casestatus, violationnumber, violationcodetitle, violationstatus, opa_account_num, address, opa_owner, geocode_x, geocode_y FROM violations WHERE violationdate >= '{}'\".format(one_year_ago)\n",
    "\n",
    "violations_df = get_data(violations_sql_query)"
   ]
  },
  {
   "cell_type": "code",
   "execution_count": 38,
   "outputs": [],
   "source": [
    "violations_count_df = violations_df.groupby('address').agg(\n",
    "    all_violations_past_year=('violationnumber', 'count'),\n",
    "    open_violations_past_year=('violationstatus', lambda x: sum(status.lower() == 'open' for status in x))\n",
    ").reset_index()\n",
    "\n",
    "violations_count_df['open_violations_past_year'] = violations_count_df['open_violations_past_year'].astype(int)"
   ],
   "metadata": {
    "collapsed": false,
    "ExecuteTime": {
     "start_time": "2023-05-11T09:26:42.325271Z",
     "end_time": "2023-05-11T09:26:42.767687Z"
    }
   }
  },
  {
   "cell_type": "code",
   "execution_count": 39,
   "outputs": [
    {
     "data": {
      "text/plain": "                address  all_violations_past_year  open_violations_past_year\n18476   3751 N PERCY ST                         6                          6\n24388  5337 PULASKI AVE                         4                          4\n9086       2116 EARP ST                        11                          6\n25896    5731 MARKET ST                        16                          8\n34133     993 SANGER ST                         1                          0",
      "text/html": "<div>\n<style scoped>\n    .dataframe tbody tr th:only-of-type {\n        vertical-align: middle;\n    }\n\n    .dataframe tbody tr th {\n        vertical-align: top;\n    }\n\n    .dataframe thead th {\n        text-align: right;\n    }\n</style>\n<table border=\"1\" class=\"dataframe\">\n  <thead>\n    <tr style=\"text-align: right;\">\n      <th></th>\n      <th>address</th>\n      <th>all_violations_past_year</th>\n      <th>open_violations_past_year</th>\n    </tr>\n  </thead>\n  <tbody>\n    <tr>\n      <th>18476</th>\n      <td>3751 N PERCY ST</td>\n      <td>6</td>\n      <td>6</td>\n    </tr>\n    <tr>\n      <th>24388</th>\n      <td>5337 PULASKI AVE</td>\n      <td>4</td>\n      <td>4</td>\n    </tr>\n    <tr>\n      <th>9086</th>\n      <td>2116 EARP ST</td>\n      <td>11</td>\n      <td>6</td>\n    </tr>\n    <tr>\n      <th>25896</th>\n      <td>5731 MARKET ST</td>\n      <td>16</td>\n      <td>8</td>\n    </tr>\n    <tr>\n      <th>34133</th>\n      <td>993 SANGER ST</td>\n      <td>1</td>\n      <td>0</td>\n    </tr>\n  </tbody>\n</table>\n</div>"
     },
     "execution_count": 39,
     "metadata": {},
     "output_type": "execute_result"
    }
   ],
   "source": [
    "violations_count_df.sample(5)"
   ],
   "metadata": {
    "collapsed": false,
    "ExecuteTime": {
     "start_time": "2023-05-11T09:26:42.767687Z",
     "end_time": "2023-05-11T09:26:42.783102Z"
    }
   }
  },
  {
   "cell_type": "code",
   "execution_count": 40,
   "outputs": [
    {
     "data": {
      "text/plain": "                                            geometry           ADDRESS  \\\n0  POLYGON ((2687288.658 256633.610, 2687182.517 ...    3232 HENRY AVE   \n1  POLYGON ((2675581.284 242098.205, 2675611.529 ...     633 N 53RD ST   \n2  POLYGON ((2694596.085 250002.568, 2694596.038 ...    2424 N MOLE ST   \n3  POLYGON ((2699251.414 246745.626, 2699244.611 ...  437 ARLINGTON ST   \n4  POLYGON ((2695074.333 251699.409, 2695026.589 ...   2735 N HICKS ST   \n\n                BLDG_DESC     OPA_ID COUNCILDISTRICT ZIPCODE  \\\n0  COM.CONDO.1STY MASONRY  882921188               4   19129   \n1     VAC LAND RES < ACRE  442316810               3   19131   \n2     VAC LAND RES < ACRE  161064101               5   19132   \n3     VAC LAND RES < ACRE  183194500               7   19122   \n4     VAC LAND RES < ACRE  111168200               8   19132   \n\n  ZONINGBASEDISTRICT type                                    OWNER  \\\n0              RSA-5  Lot                  NEWCOURTLAND ELDER SVCS   \n1               ICMX  Lot  REDEVELOPMENT AUTHORITY OF PHILADELPHIA   \n2              RSA-5  Lot  REDEVELOPMENT AUTHORITY OF PHILADELPHIA   \n3              RSA-5  Lot                              MCHUGH JOHN   \n4              RSA-5  Lot               VICTORIA; HERBERT MITCHELL   \n\n   public_owner COMM_PARTN  \n0         False       None  \n1          True        PHS  \n2          True       None  \n3         False       None  \n4         False       None  ",
      "text/html": "<div>\n<style scoped>\n    .dataframe tbody tr th:only-of-type {\n        vertical-align: middle;\n    }\n\n    .dataframe tbody tr th {\n        vertical-align: top;\n    }\n\n    .dataframe thead th {\n        text-align: right;\n    }\n</style>\n<table border=\"1\" class=\"dataframe\">\n  <thead>\n    <tr style=\"text-align: right;\">\n      <th></th>\n      <th>geometry</th>\n      <th>ADDRESS</th>\n      <th>BLDG_DESC</th>\n      <th>OPA_ID</th>\n      <th>COUNCILDISTRICT</th>\n      <th>ZIPCODE</th>\n      <th>ZONINGBASEDISTRICT</th>\n      <th>type</th>\n      <th>OWNER</th>\n      <th>public_owner</th>\n      <th>COMM_PARTN</th>\n    </tr>\n  </thead>\n  <tbody>\n    <tr>\n      <th>0</th>\n      <td>POLYGON ((2687288.658 256633.610, 2687182.517 ...</td>\n      <td>3232 HENRY AVE</td>\n      <td>COM.CONDO.1STY MASONRY</td>\n      <td>882921188</td>\n      <td>4</td>\n      <td>19129</td>\n      <td>RSA-5</td>\n      <td>Lot</td>\n      <td>NEWCOURTLAND ELDER SVCS</td>\n      <td>False</td>\n      <td>None</td>\n    </tr>\n    <tr>\n      <th>1</th>\n      <td>POLYGON ((2675581.284 242098.205, 2675611.529 ...</td>\n      <td>633 N 53RD ST</td>\n      <td>VAC LAND RES &lt; ACRE</td>\n      <td>442316810</td>\n      <td>3</td>\n      <td>19131</td>\n      <td>ICMX</td>\n      <td>Lot</td>\n      <td>REDEVELOPMENT AUTHORITY OF PHILADELPHIA</td>\n      <td>True</td>\n      <td>PHS</td>\n    </tr>\n    <tr>\n      <th>2</th>\n      <td>POLYGON ((2694596.085 250002.568, 2694596.038 ...</td>\n      <td>2424 N MOLE ST</td>\n      <td>VAC LAND RES &lt; ACRE</td>\n      <td>161064101</td>\n      <td>5</td>\n      <td>19132</td>\n      <td>RSA-5</td>\n      <td>Lot</td>\n      <td>REDEVELOPMENT AUTHORITY OF PHILADELPHIA</td>\n      <td>True</td>\n      <td>None</td>\n    </tr>\n    <tr>\n      <th>3</th>\n      <td>POLYGON ((2699251.414 246745.626, 2699244.611 ...</td>\n      <td>437 ARLINGTON ST</td>\n      <td>VAC LAND RES &lt; ACRE</td>\n      <td>183194500</td>\n      <td>7</td>\n      <td>19122</td>\n      <td>RSA-5</td>\n      <td>Lot</td>\n      <td>MCHUGH JOHN</td>\n      <td>False</td>\n      <td>None</td>\n    </tr>\n    <tr>\n      <th>4</th>\n      <td>POLYGON ((2695074.333 251699.409, 2695026.589 ...</td>\n      <td>2735 N HICKS ST</td>\n      <td>VAC LAND RES &lt; ACRE</td>\n      <td>111168200</td>\n      <td>8</td>\n      <td>19132</td>\n      <td>RSA-5</td>\n      <td>Lot</td>\n      <td>VICTORIA; HERBERT MITCHELL</td>\n      <td>False</td>\n      <td>None</td>\n    </tr>\n  </tbody>\n</table>\n</div>"
     },
     "execution_count": 40,
     "metadata": {},
     "output_type": "execute_result"
    }
   ],
   "source": [
    "joined_gdf.head()"
   ],
   "metadata": {
    "collapsed": false,
    "ExecuteTime": {
     "start_time": "2023-05-11T09:26:42.783102Z",
     "end_time": "2023-05-11T09:26:42.820065Z"
    }
   }
  },
  {
   "cell_type": "code",
   "execution_count": 41,
   "metadata": {
    "ExecuteTime": {
     "start_time": "2023-05-11T09:26:42.798062Z",
     "end_time": "2023-05-11T09:26:42.956604Z"
    }
   },
   "outputs": [],
   "source": [
    "joined_gdf = joined_gdf.merge(complaints_count_df, how='left', left_on='ADDRESS', right_on='address')"
   ]
  },
  {
   "cell_type": "code",
   "execution_count": 42,
   "outputs": [],
   "source": [
    "joined_gdf = joined_gdf.drop('address', axis=1)"
   ],
   "metadata": {
    "collapsed": false,
    "ExecuteTime": {
     "start_time": "2023-05-11T09:26:42.877547Z",
     "end_time": "2023-05-11T09:26:42.957605Z"
    }
   }
  },
  {
   "cell_type": "code",
   "execution_count": 43,
   "outputs": [
    {
     "data": {
      "text/plain": "                                            geometry           ADDRESS  \\\n0  POLYGON ((2687288.658 256633.610, 2687182.517 ...    3232 HENRY AVE   \n1  POLYGON ((2675581.284 242098.205, 2675611.529 ...     633 N 53RD ST   \n2  POLYGON ((2694596.085 250002.568, 2694596.038 ...    2424 N MOLE ST   \n3  POLYGON ((2699251.414 246745.626, 2699244.611 ...  437 ARLINGTON ST   \n4  POLYGON ((2695074.333 251699.409, 2695026.589 ...   2735 N HICKS ST   \n\n                BLDG_DESC     OPA_ID COUNCILDISTRICT ZIPCODE  \\\n0  COM.CONDO.1STY MASONRY  882921188               4   19129   \n1     VAC LAND RES < ACRE  442316810               3   19131   \n2     VAC LAND RES < ACRE  161064101               5   19132   \n3     VAC LAND RES < ACRE  183194500               7   19122   \n4     VAC LAND RES < ACRE  111168200               8   19132   \n\n  ZONINGBASEDISTRICT type                                    OWNER  \\\n0              RSA-5  Lot                  NEWCOURTLAND ELDER SVCS   \n1               ICMX  Lot  REDEVELOPMENT AUTHORITY OF PHILADELPHIA   \n2              RSA-5  Lot  REDEVELOPMENT AUTHORITY OF PHILADELPHIA   \n3              RSA-5  Lot                              MCHUGH JOHN   \n4              RSA-5  Lot               VICTORIA; HERBERT MITCHELL   \n\n   public_owner COMM_PARTN  all_complaints_past_year  \\\n0         False       None                       3.0   \n1          True        PHS                       NaN   \n2          True       None                       NaN   \n3         False       None                       NaN   \n4         False       None                       NaN   \n\n   open_complaints_past_year  \n0                        0.0  \n1                        NaN  \n2                        NaN  \n3                        NaN  \n4                        NaN  ",
      "text/html": "<div>\n<style scoped>\n    .dataframe tbody tr th:only-of-type {\n        vertical-align: middle;\n    }\n\n    .dataframe tbody tr th {\n        vertical-align: top;\n    }\n\n    .dataframe thead th {\n        text-align: right;\n    }\n</style>\n<table border=\"1\" class=\"dataframe\">\n  <thead>\n    <tr style=\"text-align: right;\">\n      <th></th>\n      <th>geometry</th>\n      <th>ADDRESS</th>\n      <th>BLDG_DESC</th>\n      <th>OPA_ID</th>\n      <th>COUNCILDISTRICT</th>\n      <th>ZIPCODE</th>\n      <th>ZONINGBASEDISTRICT</th>\n      <th>type</th>\n      <th>OWNER</th>\n      <th>public_owner</th>\n      <th>COMM_PARTN</th>\n      <th>all_complaints_past_year</th>\n      <th>open_complaints_past_year</th>\n    </tr>\n  </thead>\n  <tbody>\n    <tr>\n      <th>0</th>\n      <td>POLYGON ((2687288.658 256633.610, 2687182.517 ...</td>\n      <td>3232 HENRY AVE</td>\n      <td>COM.CONDO.1STY MASONRY</td>\n      <td>882921188</td>\n      <td>4</td>\n      <td>19129</td>\n      <td>RSA-5</td>\n      <td>Lot</td>\n      <td>NEWCOURTLAND ELDER SVCS</td>\n      <td>False</td>\n      <td>None</td>\n      <td>3.0</td>\n      <td>0.0</td>\n    </tr>\n    <tr>\n      <th>1</th>\n      <td>POLYGON ((2675581.284 242098.205, 2675611.529 ...</td>\n      <td>633 N 53RD ST</td>\n      <td>VAC LAND RES &lt; ACRE</td>\n      <td>442316810</td>\n      <td>3</td>\n      <td>19131</td>\n      <td>ICMX</td>\n      <td>Lot</td>\n      <td>REDEVELOPMENT AUTHORITY OF PHILADELPHIA</td>\n      <td>True</td>\n      <td>PHS</td>\n      <td>NaN</td>\n      <td>NaN</td>\n    </tr>\n    <tr>\n      <th>2</th>\n      <td>POLYGON ((2694596.085 250002.568, 2694596.038 ...</td>\n      <td>2424 N MOLE ST</td>\n      <td>VAC LAND RES &lt; ACRE</td>\n      <td>161064101</td>\n      <td>5</td>\n      <td>19132</td>\n      <td>RSA-5</td>\n      <td>Lot</td>\n      <td>REDEVELOPMENT AUTHORITY OF PHILADELPHIA</td>\n      <td>True</td>\n      <td>None</td>\n      <td>NaN</td>\n      <td>NaN</td>\n    </tr>\n    <tr>\n      <th>3</th>\n      <td>POLYGON ((2699251.414 246745.626, 2699244.611 ...</td>\n      <td>437 ARLINGTON ST</td>\n      <td>VAC LAND RES &lt; ACRE</td>\n      <td>183194500</td>\n      <td>7</td>\n      <td>19122</td>\n      <td>RSA-5</td>\n      <td>Lot</td>\n      <td>MCHUGH JOHN</td>\n      <td>False</td>\n      <td>None</td>\n      <td>NaN</td>\n      <td>NaN</td>\n    </tr>\n    <tr>\n      <th>4</th>\n      <td>POLYGON ((2695074.333 251699.409, 2695026.589 ...</td>\n      <td>2735 N HICKS ST</td>\n      <td>VAC LAND RES &lt; ACRE</td>\n      <td>111168200</td>\n      <td>8</td>\n      <td>19132</td>\n      <td>RSA-5</td>\n      <td>Lot</td>\n      <td>VICTORIA; HERBERT MITCHELL</td>\n      <td>False</td>\n      <td>None</td>\n      <td>NaN</td>\n      <td>NaN</td>\n    </tr>\n  </tbody>\n</table>\n</div>"
     },
     "execution_count": 43,
     "metadata": {},
     "output_type": "execute_result"
    }
   ],
   "source": [
    "joined_gdf.head()"
   ],
   "metadata": {
    "collapsed": false,
    "ExecuteTime": {
     "start_time": "2023-05-11T09:26:42.890545Z",
     "end_time": "2023-05-11T09:26:42.958606Z"
    }
   }
  },
  {
   "cell_type": "code",
   "execution_count": 44,
   "outputs": [],
   "source": [
    "joined_gdf = joined_gdf.merge(violations_count_df, how='left', left_on='ADDRESS', right_on='address')"
   ],
   "metadata": {
    "collapsed": false,
    "ExecuteTime": {
     "start_time": "2023-05-11T09:26:42.905839Z",
     "end_time": "2023-05-11T09:26:42.980603Z"
    }
   }
  },
  {
   "cell_type": "code",
   "execution_count": 45,
   "outputs": [],
   "source": [
    "joined_gdf = joined_gdf.drop('address', axis=1)"
   ],
   "metadata": {
    "collapsed": false,
    "ExecuteTime": {
     "start_time": "2023-05-11T09:26:42.968607Z",
     "end_time": "2023-05-11T09:26:43.011603Z"
    }
   }
  },
  {
   "cell_type": "code",
   "execution_count": 46,
   "outputs": [
    {
     "data": {
      "text/plain": "                                            geometry           ADDRESS  \\\n0  POLYGON ((2687288.658 256633.610, 2687182.517 ...    3232 HENRY AVE   \n1  POLYGON ((2675581.284 242098.205, 2675611.529 ...     633 N 53RD ST   \n2  POLYGON ((2694596.085 250002.568, 2694596.038 ...    2424 N MOLE ST   \n3  POLYGON ((2699251.414 246745.626, 2699244.611 ...  437 ARLINGTON ST   \n4  POLYGON ((2695074.333 251699.409, 2695026.589 ...   2735 N HICKS ST   \n\n                BLDG_DESC     OPA_ID COUNCILDISTRICT ZIPCODE  \\\n0  COM.CONDO.1STY MASONRY  882921188               4   19129   \n1     VAC LAND RES < ACRE  442316810               3   19131   \n2     VAC LAND RES < ACRE  161064101               5   19132   \n3     VAC LAND RES < ACRE  183194500               7   19122   \n4     VAC LAND RES < ACRE  111168200               8   19132   \n\n  ZONINGBASEDISTRICT type                                    OWNER  \\\n0              RSA-5  Lot                  NEWCOURTLAND ELDER SVCS   \n1               ICMX  Lot  REDEVELOPMENT AUTHORITY OF PHILADELPHIA   \n2              RSA-5  Lot  REDEVELOPMENT AUTHORITY OF PHILADELPHIA   \n3              RSA-5  Lot                              MCHUGH JOHN   \n4              RSA-5  Lot               VICTORIA; HERBERT MITCHELL   \n\n   public_owner COMM_PARTN  all_complaints_past_year  \\\n0         False       None                       3.0   \n1          True        PHS                       NaN   \n2          True       None                       NaN   \n3         False       None                       NaN   \n4         False       None                       NaN   \n\n   open_complaints_past_year  all_violations_past_year  \\\n0                        0.0                       NaN   \n1                        NaN                       NaN   \n2                        NaN                       NaN   \n3                        NaN                       NaN   \n4                        NaN                       2.0   \n\n   open_violations_past_year  \n0                        NaN  \n1                        NaN  \n2                        NaN  \n3                        NaN  \n4                        0.0  ",
      "text/html": "<div>\n<style scoped>\n    .dataframe tbody tr th:only-of-type {\n        vertical-align: middle;\n    }\n\n    .dataframe tbody tr th {\n        vertical-align: top;\n    }\n\n    .dataframe thead th {\n        text-align: right;\n    }\n</style>\n<table border=\"1\" class=\"dataframe\">\n  <thead>\n    <tr style=\"text-align: right;\">\n      <th></th>\n      <th>geometry</th>\n      <th>ADDRESS</th>\n      <th>BLDG_DESC</th>\n      <th>OPA_ID</th>\n      <th>COUNCILDISTRICT</th>\n      <th>ZIPCODE</th>\n      <th>ZONINGBASEDISTRICT</th>\n      <th>type</th>\n      <th>OWNER</th>\n      <th>public_owner</th>\n      <th>COMM_PARTN</th>\n      <th>all_complaints_past_year</th>\n      <th>open_complaints_past_year</th>\n      <th>all_violations_past_year</th>\n      <th>open_violations_past_year</th>\n    </tr>\n  </thead>\n  <tbody>\n    <tr>\n      <th>0</th>\n      <td>POLYGON ((2687288.658 256633.610, 2687182.517 ...</td>\n      <td>3232 HENRY AVE</td>\n      <td>COM.CONDO.1STY MASONRY</td>\n      <td>882921188</td>\n      <td>4</td>\n      <td>19129</td>\n      <td>RSA-5</td>\n      <td>Lot</td>\n      <td>NEWCOURTLAND ELDER SVCS</td>\n      <td>False</td>\n      <td>None</td>\n      <td>3.0</td>\n      <td>0.0</td>\n      <td>NaN</td>\n      <td>NaN</td>\n    </tr>\n    <tr>\n      <th>1</th>\n      <td>POLYGON ((2675581.284 242098.205, 2675611.529 ...</td>\n      <td>633 N 53RD ST</td>\n      <td>VAC LAND RES &lt; ACRE</td>\n      <td>442316810</td>\n      <td>3</td>\n      <td>19131</td>\n      <td>ICMX</td>\n      <td>Lot</td>\n      <td>REDEVELOPMENT AUTHORITY OF PHILADELPHIA</td>\n      <td>True</td>\n      <td>PHS</td>\n      <td>NaN</td>\n      <td>NaN</td>\n      <td>NaN</td>\n      <td>NaN</td>\n    </tr>\n    <tr>\n      <th>2</th>\n      <td>POLYGON ((2694596.085 250002.568, 2694596.038 ...</td>\n      <td>2424 N MOLE ST</td>\n      <td>VAC LAND RES &lt; ACRE</td>\n      <td>161064101</td>\n      <td>5</td>\n      <td>19132</td>\n      <td>RSA-5</td>\n      <td>Lot</td>\n      <td>REDEVELOPMENT AUTHORITY OF PHILADELPHIA</td>\n      <td>True</td>\n      <td>None</td>\n      <td>NaN</td>\n      <td>NaN</td>\n      <td>NaN</td>\n      <td>NaN</td>\n    </tr>\n    <tr>\n      <th>3</th>\n      <td>POLYGON ((2699251.414 246745.626, 2699244.611 ...</td>\n      <td>437 ARLINGTON ST</td>\n      <td>VAC LAND RES &lt; ACRE</td>\n      <td>183194500</td>\n      <td>7</td>\n      <td>19122</td>\n      <td>RSA-5</td>\n      <td>Lot</td>\n      <td>MCHUGH JOHN</td>\n      <td>False</td>\n      <td>None</td>\n      <td>NaN</td>\n      <td>NaN</td>\n      <td>NaN</td>\n      <td>NaN</td>\n    </tr>\n    <tr>\n      <th>4</th>\n      <td>POLYGON ((2695074.333 251699.409, 2695026.589 ...</td>\n      <td>2735 N HICKS ST</td>\n      <td>VAC LAND RES &lt; ACRE</td>\n      <td>111168200</td>\n      <td>8</td>\n      <td>19132</td>\n      <td>RSA-5</td>\n      <td>Lot</td>\n      <td>VICTORIA; HERBERT MITCHELL</td>\n      <td>False</td>\n      <td>None</td>\n      <td>NaN</td>\n      <td>NaN</td>\n      <td>2.0</td>\n      <td>0.0</td>\n    </tr>\n  </tbody>\n</table>\n</div>"
     },
     "execution_count": 46,
     "metadata": {},
     "output_type": "execute_result"
    }
   ],
   "source": [
    "joined_gdf.head()"
   ],
   "metadata": {
    "collapsed": false,
    "ExecuteTime": {
     "start_time": "2023-05-11T09:26:42.982605Z",
     "end_time": "2023-05-11T09:26:43.054119Z"
    }
   }
  },
  {
   "attachments": {},
   "cell_type": "markdown",
   "metadata": {},
   "source": [
    "### Next, we'll add a centroids column to the joined_gdf in order to make it easier to cleanly join neighborhoods, RCOs, tree canopy, and guncrime data."
   ]
  },
  {
   "attachments": {},
   "cell_type": "markdown",
   "metadata": {},
   "source": [
    "Joining by points rather than polygons makes it far less likely that a point straddles two polygons, which make the join ambiguous and potentially incorrect."
   ]
  },
  {
   "cell_type": "code",
   "execution_count": 47,
   "metadata": {
    "ExecuteTime": {
     "start_time": "2023-05-11T09:26:42.998605Z",
     "end_time": "2023-05-11T09:26:43.876831Z"
    }
   },
   "outputs": [],
   "source": [
    "# add a column for centroids geometry to use for joins and to extrct raster values\n",
    "joined_gdf['centroid'] = joined_gdf['geometry'].centroid\n",
    "\n",
    "# create a geodata of polygon geoms and opa_id\n",
    "poly_gdf = joined_gdf[['OPA_ID', 'geometry']]\n",
    "\n",
    "# drop the 'geometry' column from joined_gdf\n",
    "joined_gdf.drop(['geometry'], axis=1, inplace=True)\n",
    "\n",
    "# set the 'centroid' column as the geometry column\n",
    "joined_gdf.set_geometry('centroid', inplace=True)"
   ]
  },
  {
   "attachments": {},
   "cell_type": "markdown",
   "metadata": {},
   "source": [
    "### Import Philadelphia's Neighborhoods from Azavea"
   ]
  },
  {
   "cell_type": "code",
   "execution_count": 48,
   "metadata": {
    "ExecuteTime": {
     "start_time": "2023-05-11T09:26:43.877829Z",
     "end_time": "2023-05-11T09:26:44.354308Z"
    }
   },
   "outputs": [],
   "source": [
    "hoods_url = 'https://github.com/azavea/geo-data/raw/master/Neighborhoods_Philadelphia/Neighborhoods_Philadelphia.zip'\n",
    "\n",
    "hoods_response = requests.get(hoods_url)\n",
    "\n",
    "with io.BytesIO(hoods_response.content) as f:\n",
    "    with zipfile.ZipFile(f, 'r') as zip_ref:\n",
    "        zip_ref.extractall(\"path/to/destination/folder\")\n",
    "        \n",
    "hoods = gpd.read_file(\"path/to/destination/folder/Neighborhoods_Philadelphia.shp\")\n",
    "\n",
    "hoods = hoods.to_crs(epsg=2272)"
   ]
  },
  {
   "cell_type": "code",
   "execution_count": 49,
   "metadata": {
    "ExecuteTime": {
     "start_time": "2023-05-11T09:26:44.355264Z",
     "end_time": "2023-05-11T09:26:45.605842Z"
    }
   },
   "outputs": [],
   "source": [
    "joined_gdf = gpd.sjoin(joined_gdf, hoods, how='left', predicate='intersects')\n",
    "\n",
    "joined_gdf = joined_gdf.drop(['index_right', 'NAME', 'LISTNAME', 'Shape_Leng', 'Shape_Area'], axis=1)\n",
    "\n",
    "joined_gdf.rename(columns={'MAPNAME': 'neighborhood'}, inplace=True)"
   ]
  },
  {
   "attachments": {},
   "cell_type": "markdown",
   "metadata": {},
   "source": [
    "### Import RCOs from the City"
   ]
  },
  {
   "cell_type": "code",
   "execution_count": 50,
   "metadata": {
    "ExecuteTime": {
     "start_time": "2023-05-11T09:26:45.605842Z",
     "end_time": "2023-05-11T09:26:45.620803Z"
    }
   },
   "outputs": [],
   "source": [
    "# Define the URL for the RCOs feature service\n",
    "rcos_url = 'https://services.arcgis.com/fLeGjb7u4uXqeF9q/ArcGIS/rest/services/Zoning_RCO/FeatureServer/0/query'\n",
    "\n",
    "# Define the parameters for the RCOs API request\n",
    "rcos_params = {\n",
    "    'where': '1=1',\n",
    "    'outFields': '*',\n",
    "    'returnGeometry': 'true',\n",
    "    'f': 'json'\n",
    "}"
   ]
  },
  {
   "cell_type": "code",
   "execution_count": 51,
   "outputs": [
    {
     "data": {
      "text/plain": "            ADDRESS               BLDG_DESC     OPA_ID COUNCILDISTRICT  \\\n0    3232 HENRY AVE  COM.CONDO.1STY MASONRY  882921188               4   \n1     633 N 53RD ST     VAC LAND RES < ACRE  442316810               3   \n2    2424 N MOLE ST     VAC LAND RES < ACRE  161064101               5   \n3  437 ARLINGTON ST     VAC LAND RES < ACRE  183194500               7   \n4   2735 N HICKS ST     VAC LAND RES < ACRE  111168200               8   \n\n  ZIPCODE ZONINGBASEDISTRICT type                                    OWNER  \\\n0   19129              RSA-5  Lot                  NEWCOURTLAND ELDER SVCS   \n1   19131               ICMX  Lot  REDEVELOPMENT AUTHORITY OF PHILADELPHIA   \n2   19132              RSA-5  Lot  REDEVELOPMENT AUTHORITY OF PHILADELPHIA   \n3   19122              RSA-5  Lot                              MCHUGH JOHN   \n4   19132              RSA-5  Lot               VICTORIA; HERBERT MITCHELL   \n\n   public_owner COMM_PARTN  all_complaints_past_year  \\\n0         False       None                       3.0   \n1          True        PHS                       NaN   \n2          True       None                       NaN   \n3         False       None                       NaN   \n4         False       None                       NaN   \n\n   open_complaints_past_year  all_violations_past_year  \\\n0                        0.0                       NaN   \n1                        NaN                       NaN   \n2                        NaN                       NaN   \n3                        NaN                       NaN   \n4                        NaN                       2.0   \n\n   open_violations_past_year                        centroid     neighborhood  \\\n0                        NaN  POINT (2687670.823 256881.851)   Allegheny West   \n1                        NaN  POINT (2675594.984 242079.100)       Haddington   \n2                        NaN  POINT (2694579.985 249997.339)          Stanton   \n3                        NaN  POINT (2699242.101 246724.058)  West Kensington   \n4                        0.0  POINT (2695051.365 251709.399)          Stanton   \n\n                                  organization_name  \\\n0                      East Falls Community Council   \n1                              Parkside Association   \n2  Uptown Entertainment and Development Corporation   \n3                                   Zulu Nation RCO   \n4                                Tioga United, Inc.   \n\n                                organization_address  \\\n0                                PO Box 12672, 19129   \n1  Parkside Evans Recreation Center, 53rd & Parks...   \n2  2227 N. Broad St. 2nd Floor\\r\\nPhiladelphia, P...   \n3   2045 N Lawrence Street\\r\\nPhiladelphia, PA 19133   \n4  1539 W. Venango Street \\r\\nPhiladelphia, PA 19140   \n\n                     primary_email primary_phone  \n0        hilary.j.langer@gmail.com    2156034279  \n1  lhudson@parksideassociation.org    2158699752  \n2               uedc.rco@gmail.com    9083341793  \n3          zulunationcdc@gmail.com    2155205686  \n4         tiogaunitedrco@gmail.com    2152397471  ",
      "text/html": "<div>\n<style scoped>\n    .dataframe tbody tr th:only-of-type {\n        vertical-align: middle;\n    }\n\n    .dataframe tbody tr th {\n        vertical-align: top;\n    }\n\n    .dataframe thead th {\n        text-align: right;\n    }\n</style>\n<table border=\"1\" class=\"dataframe\">\n  <thead>\n    <tr style=\"text-align: right;\">\n      <th></th>\n      <th>ADDRESS</th>\n      <th>BLDG_DESC</th>\n      <th>OPA_ID</th>\n      <th>COUNCILDISTRICT</th>\n      <th>ZIPCODE</th>\n      <th>ZONINGBASEDISTRICT</th>\n      <th>type</th>\n      <th>OWNER</th>\n      <th>public_owner</th>\n      <th>COMM_PARTN</th>\n      <th>all_complaints_past_year</th>\n      <th>open_complaints_past_year</th>\n      <th>all_violations_past_year</th>\n      <th>open_violations_past_year</th>\n      <th>centroid</th>\n      <th>neighborhood</th>\n      <th>organization_name</th>\n      <th>organization_address</th>\n      <th>primary_email</th>\n      <th>primary_phone</th>\n    </tr>\n  </thead>\n  <tbody>\n    <tr>\n      <th>0</th>\n      <td>3232 HENRY AVE</td>\n      <td>COM.CONDO.1STY MASONRY</td>\n      <td>882921188</td>\n      <td>4</td>\n      <td>19129</td>\n      <td>RSA-5</td>\n      <td>Lot</td>\n      <td>NEWCOURTLAND ELDER SVCS</td>\n      <td>False</td>\n      <td>None</td>\n      <td>3.0</td>\n      <td>0.0</td>\n      <td>NaN</td>\n      <td>NaN</td>\n      <td>POINT (2687670.823 256881.851)</td>\n      <td>Allegheny West</td>\n      <td>East Falls Community Council</td>\n      <td>PO Box 12672, 19129</td>\n      <td>hilary.j.langer@gmail.com</td>\n      <td>2156034279</td>\n    </tr>\n    <tr>\n      <th>1</th>\n      <td>633 N 53RD ST</td>\n      <td>VAC LAND RES &lt; ACRE</td>\n      <td>442316810</td>\n      <td>3</td>\n      <td>19131</td>\n      <td>ICMX</td>\n      <td>Lot</td>\n      <td>REDEVELOPMENT AUTHORITY OF PHILADELPHIA</td>\n      <td>True</td>\n      <td>PHS</td>\n      <td>NaN</td>\n      <td>NaN</td>\n      <td>NaN</td>\n      <td>NaN</td>\n      <td>POINT (2675594.984 242079.100)</td>\n      <td>Haddington</td>\n      <td>Parkside Association</td>\n      <td>Parkside Evans Recreation Center, 53rd &amp; Parks...</td>\n      <td>lhudson@parksideassociation.org</td>\n      <td>2158699752</td>\n    </tr>\n    <tr>\n      <th>2</th>\n      <td>2424 N MOLE ST</td>\n      <td>VAC LAND RES &lt; ACRE</td>\n      <td>161064101</td>\n      <td>5</td>\n      <td>19132</td>\n      <td>RSA-5</td>\n      <td>Lot</td>\n      <td>REDEVELOPMENT AUTHORITY OF PHILADELPHIA</td>\n      <td>True</td>\n      <td>None</td>\n      <td>NaN</td>\n      <td>NaN</td>\n      <td>NaN</td>\n      <td>NaN</td>\n      <td>POINT (2694579.985 249997.339)</td>\n      <td>Stanton</td>\n      <td>Uptown Entertainment and Development Corporation</td>\n      <td>2227 N. Broad St. 2nd Floor\\r\\nPhiladelphia, P...</td>\n      <td>uedc.rco@gmail.com</td>\n      <td>9083341793</td>\n    </tr>\n    <tr>\n      <th>3</th>\n      <td>437 ARLINGTON ST</td>\n      <td>VAC LAND RES &lt; ACRE</td>\n      <td>183194500</td>\n      <td>7</td>\n      <td>19122</td>\n      <td>RSA-5</td>\n      <td>Lot</td>\n      <td>MCHUGH JOHN</td>\n      <td>False</td>\n      <td>None</td>\n      <td>NaN</td>\n      <td>NaN</td>\n      <td>NaN</td>\n      <td>NaN</td>\n      <td>POINT (2699242.101 246724.058)</td>\n      <td>West Kensington</td>\n      <td>Zulu Nation RCO</td>\n      <td>2045 N Lawrence Street\\r\\nPhiladelphia, PA 19133</td>\n      <td>zulunationcdc@gmail.com</td>\n      <td>2155205686</td>\n    </tr>\n    <tr>\n      <th>4</th>\n      <td>2735 N HICKS ST</td>\n      <td>VAC LAND RES &lt; ACRE</td>\n      <td>111168200</td>\n      <td>8</td>\n      <td>19132</td>\n      <td>RSA-5</td>\n      <td>Lot</td>\n      <td>VICTORIA; HERBERT MITCHELL</td>\n      <td>False</td>\n      <td>None</td>\n      <td>NaN</td>\n      <td>NaN</td>\n      <td>2.0</td>\n      <td>0.0</td>\n      <td>POINT (2695051.365 251709.399)</td>\n      <td>Stanton</td>\n      <td>Tioga United, Inc.</td>\n      <td>1539 W. Venango Street \\r\\nPhiladelphia, PA 19140</td>\n      <td>tiogaunitedrco@gmail.com</td>\n      <td>2152397471</td>\n    </tr>\n  </tbody>\n</table>\n</div>"
     },
     "execution_count": 51,
     "metadata": {},
     "output_type": "execute_result"
    }
   ],
   "source": [
    "# Convert the pandas dataframe to a geopandas geodataframe\n",
    "rcos_gdf = make_api_requests(rcos_url, rcos_params)\n",
    "\n",
    "# Select columns and convert 'PRIMARY_PHONE' and 'EXPIRATIONYEAR' to strings\n",
    "rcos_gdf = rcos_gdf[['geometry', 'ORGANIZATION_NAME', 'ORGANIZATION_ADDRESS', 'PRIMARY_EMAIL', 'PRIMARY_PHONE']]\n",
    "rcos_gdf['PRIMARY_PHONE'] = rcos_gdf['PRIMARY_PHONE'].astype(str)\n",
    "\n",
    "# Lowercase column names\n",
    "rcos_gdf.columns = rcos_gdf.columns.str.lower()\n",
    "\n",
    "# Spatially join rcos_gdf to joined_gdf\n",
    "w_rcos_gdf = gpd.sjoin(joined_gdf, rcos_gdf, how='left', predicate='within')\n",
    "\n",
    "# Drop the 'index_right' column and remove duplicates by 'OPA_ID'\n",
    "w_rcos_gdf = w_rcos_gdf.drop('index_right', axis=1).drop_duplicates(subset='OPA_ID')\n",
    "\n",
    "w_rcos_gdf.head()"
   ],
   "metadata": {
    "collapsed": false,
    "ExecuteTime": {
     "start_time": "2023-05-11T09:28:53.818602Z",
     "end_time": "2023-05-11T09:28:55.769402Z"
    }
   }
  },
  {
   "attachments": {},
   "cell_type": "markdown",
   "metadata": {},
   "source": [
    "### Finally, tree canopy data."
   ]
  },
  {
   "cell_type": "code",
   "execution_count": 52,
   "metadata": {
    "ExecuteTime": {
     "start_time": "2023-05-11T09:29:44.678980Z",
     "end_time": "2023-05-11T09:29:47.605330Z"
    }
   },
   "outputs": [
    {
     "data": {
      "text/plain": "      tree_canopy_gap                                           geometry\n5395         0.216832  POLYGON ((2698038.313 234970.868, 2697586.173 ...\n5396         0.196093  POLYGON ((2699640.691 237442.051, 2699638.100 ...\n5397         0.297005  POLYGON ((2696855.043 237339.498, 2696827.290 ...\n5398         0.346134  POLYGON ((2693798.320 238055.129, 2693725.464 ...\n5399         0.097603  POLYGON ((2689575.081 237146.348, 2689561.703 ...",
      "text/html": "<div>\n<style scoped>\n    .dataframe tbody tr th:only-of-type {\n        vertical-align: middle;\n    }\n\n    .dataframe tbody tr th {\n        vertical-align: top;\n    }\n\n    .dataframe thead th {\n        text-align: right;\n    }\n</style>\n<table border=\"1\" class=\"dataframe\">\n  <thead>\n    <tr style=\"text-align: right;\">\n      <th></th>\n      <th>tree_canopy_gap</th>\n      <th>geometry</th>\n    </tr>\n  </thead>\n  <tbody>\n    <tr>\n      <th>5395</th>\n      <td>0.216832</td>\n      <td>POLYGON ((2698038.313 234970.868, 2697586.173 ...</td>\n    </tr>\n    <tr>\n      <th>5396</th>\n      <td>0.196093</td>\n      <td>POLYGON ((2699640.691 237442.051, 2699638.100 ...</td>\n    </tr>\n    <tr>\n      <th>5397</th>\n      <td>0.297005</td>\n      <td>POLYGON ((2696855.043 237339.498, 2696827.290 ...</td>\n    </tr>\n    <tr>\n      <th>5398</th>\n      <td>0.346134</td>\n      <td>POLYGON ((2693798.320 238055.129, 2693725.464 ...</td>\n    </tr>\n    <tr>\n      <th>5399</th>\n      <td>0.097603</td>\n      <td>POLYGON ((2689575.081 237146.348, 2689561.703 ...</td>\n    </tr>\n  </tbody>\n</table>\n</div>"
     },
     "execution_count": 52,
     "metadata": {},
     "output_type": "execute_result"
    }
   ],
   "source": [
    "tree_url = 'https://national-tes-data-share.s3.amazonaws.com/national_tes_share/pa.zip.zip'\n",
    "\n",
    "tree_response = requests.get(tree_url)\n",
    "\n",
    "with io.BytesIO(tree_response.content) as f:\n",
    "    with zipfile.ZipFile(f, 'r') as zip_ref:\n",
    "        zip_ref.extractall(\"path/to/destination/folder\")\n",
    "        \n",
    "pa = gpd.read_file(\"path/to/destination/folder/pa.shp\")\n",
    "\n",
    "pa = pa.to_crs(epsg=2272)\n",
    "\n",
    "phl = pa[pa['county'] == 'Philadelphia County']\n",
    "\n",
    "tree_cols = ['tc_gap', 'geometry']\n",
    "\n",
    "phl = phl[tree_cols]\n",
    "\n",
    "phl.rename(columns={'tc_gap': 'tree_canopy_gap'}, inplace=True)\n",
    "\n",
    "phl.head()"
   ]
  },
  {
   "cell_type": "code",
   "execution_count": 54,
   "metadata": {
    "ExecuteTime": {
     "start_time": "2023-05-11T09:30:36.589803Z",
     "end_time": "2023-05-11T09:30:38.134827Z"
    }
   },
   "outputs": [],
   "source": [
    "# spatially join phl to joined_gdf\n",
    "w_rcos_gdf = gpd.sjoin(w_rcos_gdf, phl, how='left', predicate='intersects')\n",
    "\n",
    "w_rcos_gdf = w_rcos_gdf.drop(['index_right'], axis=1)\n",
    "\n",
    "# drop duplicate opa_ids\n",
    "w_rcos_gdf = w_rcos_gdf.drop_duplicates(subset='OPA_ID')"
   ]
  },
  {
   "cell_type": "code",
   "execution_count": 55,
   "metadata": {
    "ExecuteTime": {
     "start_time": "2023-05-11T09:30:39.680775Z",
     "end_time": "2023-05-11T09:30:39.703855Z"
    }
   },
   "outputs": [
    {
     "data": {
      "text/plain": "            ADDRESS               BLDG_DESC     OPA_ID COUNCILDISTRICT  \\\n0    3232 HENRY AVE  COM.CONDO.1STY MASONRY  882921188               4   \n1     633 N 53RD ST     VAC LAND RES < ACRE  442316810               3   \n2    2424 N MOLE ST     VAC LAND RES < ACRE  161064101               5   \n3  437 ARLINGTON ST     VAC LAND RES < ACRE  183194500               7   \n4   2735 N HICKS ST     VAC LAND RES < ACRE  111168200               8   \n\n  ZIPCODE ZONINGBASEDISTRICT type                                    OWNER  \\\n0   19129              RSA-5  Lot                  NEWCOURTLAND ELDER SVCS   \n1   19131               ICMX  Lot  REDEVELOPMENT AUTHORITY OF PHILADELPHIA   \n2   19132              RSA-5  Lot  REDEVELOPMENT AUTHORITY OF PHILADELPHIA   \n3   19122              RSA-5  Lot                              MCHUGH JOHN   \n4   19132              RSA-5  Lot               VICTORIA; HERBERT MITCHELL   \n\n   public_owner COMM_PARTN  ...  open_complaints_past_year  \\\n0         False       None  ...                        0.0   \n1          True        PHS  ...                        NaN   \n2          True       None  ...                        NaN   \n3         False       None  ...                        NaN   \n4         False       None  ...                        NaN   \n\n   all_violations_past_year  open_violations_past_year  \\\n0                       NaN                        NaN   \n1                       NaN                        NaN   \n2                       NaN                        NaN   \n3                       NaN                        NaN   \n4                       2.0                        0.0   \n\n                         centroid     neighborhood  \\\n0  POINT (2687670.823 256881.851)   Allegheny West   \n1  POINT (2675594.984 242079.100)       Haddington   \n2  POINT (2694579.985 249997.339)          Stanton   \n3  POINT (2699242.101 246724.058)  West Kensington   \n4  POINT (2695051.365 251709.399)          Stanton   \n\n                                  organization_name  \\\n0                      East Falls Community Council   \n1                              Parkside Association   \n2  Uptown Entertainment and Development Corporation   \n3                                   Zulu Nation RCO   \n4                                Tioga United, Inc.   \n\n                                organization_address  \\\n0                                PO Box 12672, 19129   \n1  Parkside Evans Recreation Center, 53rd & Parks...   \n2  2227 N. Broad St. 2nd Floor\\r\\nPhiladelphia, P...   \n3   2045 N Lawrence Street\\r\\nPhiladelphia, PA 19133   \n4  1539 W. Venango Street \\r\\nPhiladelphia, PA 19140   \n\n                     primary_email primary_phone tree_canopy_gap  \n0        hilary.j.langer@gmail.com    2156034279        0.230223  \n1  lhudson@parksideassociation.org    2158699752        0.104381  \n2               uedc.rco@gmail.com    9083341793        0.165151  \n3          zulunationcdc@gmail.com    2155205686        0.199069  \n4         tiogaunitedrco@gmail.com    2152397471        0.327281  \n\n[5 rows x 21 columns]",
      "text/html": "<div>\n<style scoped>\n    .dataframe tbody tr th:only-of-type {\n        vertical-align: middle;\n    }\n\n    .dataframe tbody tr th {\n        vertical-align: top;\n    }\n\n    .dataframe thead th {\n        text-align: right;\n    }\n</style>\n<table border=\"1\" class=\"dataframe\">\n  <thead>\n    <tr style=\"text-align: right;\">\n      <th></th>\n      <th>ADDRESS</th>\n      <th>BLDG_DESC</th>\n      <th>OPA_ID</th>\n      <th>COUNCILDISTRICT</th>\n      <th>ZIPCODE</th>\n      <th>ZONINGBASEDISTRICT</th>\n      <th>type</th>\n      <th>OWNER</th>\n      <th>public_owner</th>\n      <th>COMM_PARTN</th>\n      <th>...</th>\n      <th>open_complaints_past_year</th>\n      <th>all_violations_past_year</th>\n      <th>open_violations_past_year</th>\n      <th>centroid</th>\n      <th>neighborhood</th>\n      <th>organization_name</th>\n      <th>organization_address</th>\n      <th>primary_email</th>\n      <th>primary_phone</th>\n      <th>tree_canopy_gap</th>\n    </tr>\n  </thead>\n  <tbody>\n    <tr>\n      <th>0</th>\n      <td>3232 HENRY AVE</td>\n      <td>COM.CONDO.1STY MASONRY</td>\n      <td>882921188</td>\n      <td>4</td>\n      <td>19129</td>\n      <td>RSA-5</td>\n      <td>Lot</td>\n      <td>NEWCOURTLAND ELDER SVCS</td>\n      <td>False</td>\n      <td>None</td>\n      <td>...</td>\n      <td>0.0</td>\n      <td>NaN</td>\n      <td>NaN</td>\n      <td>POINT (2687670.823 256881.851)</td>\n      <td>Allegheny West</td>\n      <td>East Falls Community Council</td>\n      <td>PO Box 12672, 19129</td>\n      <td>hilary.j.langer@gmail.com</td>\n      <td>2156034279</td>\n      <td>0.230223</td>\n    </tr>\n    <tr>\n      <th>1</th>\n      <td>633 N 53RD ST</td>\n      <td>VAC LAND RES &lt; ACRE</td>\n      <td>442316810</td>\n      <td>3</td>\n      <td>19131</td>\n      <td>ICMX</td>\n      <td>Lot</td>\n      <td>REDEVELOPMENT AUTHORITY OF PHILADELPHIA</td>\n      <td>True</td>\n      <td>PHS</td>\n      <td>...</td>\n      <td>NaN</td>\n      <td>NaN</td>\n      <td>NaN</td>\n      <td>POINT (2675594.984 242079.100)</td>\n      <td>Haddington</td>\n      <td>Parkside Association</td>\n      <td>Parkside Evans Recreation Center, 53rd &amp; Parks...</td>\n      <td>lhudson@parksideassociation.org</td>\n      <td>2158699752</td>\n      <td>0.104381</td>\n    </tr>\n    <tr>\n      <th>2</th>\n      <td>2424 N MOLE ST</td>\n      <td>VAC LAND RES &lt; ACRE</td>\n      <td>161064101</td>\n      <td>5</td>\n      <td>19132</td>\n      <td>RSA-5</td>\n      <td>Lot</td>\n      <td>REDEVELOPMENT AUTHORITY OF PHILADELPHIA</td>\n      <td>True</td>\n      <td>None</td>\n      <td>...</td>\n      <td>NaN</td>\n      <td>NaN</td>\n      <td>NaN</td>\n      <td>POINT (2694579.985 249997.339)</td>\n      <td>Stanton</td>\n      <td>Uptown Entertainment and Development Corporation</td>\n      <td>2227 N. Broad St. 2nd Floor\\r\\nPhiladelphia, P...</td>\n      <td>uedc.rco@gmail.com</td>\n      <td>9083341793</td>\n      <td>0.165151</td>\n    </tr>\n    <tr>\n      <th>3</th>\n      <td>437 ARLINGTON ST</td>\n      <td>VAC LAND RES &lt; ACRE</td>\n      <td>183194500</td>\n      <td>7</td>\n      <td>19122</td>\n      <td>RSA-5</td>\n      <td>Lot</td>\n      <td>MCHUGH JOHN</td>\n      <td>False</td>\n      <td>None</td>\n      <td>...</td>\n      <td>NaN</td>\n      <td>NaN</td>\n      <td>NaN</td>\n      <td>POINT (2699242.101 246724.058)</td>\n      <td>West Kensington</td>\n      <td>Zulu Nation RCO</td>\n      <td>2045 N Lawrence Street\\r\\nPhiladelphia, PA 19133</td>\n      <td>zulunationcdc@gmail.com</td>\n      <td>2155205686</td>\n      <td>0.199069</td>\n    </tr>\n    <tr>\n      <th>4</th>\n      <td>2735 N HICKS ST</td>\n      <td>VAC LAND RES &lt; ACRE</td>\n      <td>111168200</td>\n      <td>8</td>\n      <td>19132</td>\n      <td>RSA-5</td>\n      <td>Lot</td>\n      <td>VICTORIA; HERBERT MITCHELL</td>\n      <td>False</td>\n      <td>None</td>\n      <td>...</td>\n      <td>NaN</td>\n      <td>2.0</td>\n      <td>0.0</td>\n      <td>POINT (2695051.365 251709.399)</td>\n      <td>Stanton</td>\n      <td>Tioga United, Inc.</td>\n      <td>1539 W. Venango Street \\r\\nPhiladelphia, PA 19140</td>\n      <td>tiogaunitedrco@gmail.com</td>\n      <td>2152397471</td>\n      <td>0.327281</td>\n    </tr>\n  </tbody>\n</table>\n<p>5 rows × 21 columns</p>\n</div>"
     },
     "execution_count": 55,
     "metadata": {},
     "output_type": "execute_result"
    }
   ],
   "source": [
    "w_rcos_gdf.head()"
   ]
  },
  {
   "attachments": {},
   "cell_type": "markdown",
   "metadata": {},
   "source": [
    "# Gun Crimes\n",
    "\n",
    "For our gun crime kernel density estimate, we have two steps:"
   ]
  },
  {
   "attachments": {},
   "cell_type": "markdown",
   "metadata": {},
   "source": [
    "### 1. Import gun crime data from the City's Carto database (SQL):"
   ]
  },
  {
   "cell_type": "code",
   "execution_count": 62,
   "metadata": {
    "ExecuteTime": {
     "start_time": "2023-05-11T09:48:32.321330Z",
     "end_time": "2023-05-11T09:48:33.152248Z"
    }
   },
   "outputs": [],
   "source": [
    "import requests\n",
    "import pandas as pd\n",
    "import geopandas as gpd\n",
    "import numpy as np\n",
    "import datetime\n",
    "import matplotlib.pyplot as plt\n",
    "import rasterio\n",
    "import seaborn as sns\n",
    "from matplotlib import pyplot as plt\n",
    "from rasterio.plot import show\n",
    "\n",
    "\n",
    "# Calculate one year ago from today's date\n",
    "one_year_ago = (datetime.datetime.now() - datetime.timedelta(days=365)).strftime(\"%Y-%m-%d\")\n",
    "\n",
    "# Modify the SQL query\n",
    "guncrime_sql_query = \"SELECT text_general_code, dispatch_date, point_x, point_y FROM incidents_part1_part2 WHERE dispatch_date_time >= '{}' AND text_general_code IN ('Aggravated Assault Firearm', 'Robbery Firearm')\".format(one_year_ago)\n",
    "\n",
    "# Make the GET request\n",
    "guncrime_response = requests.get(\"https://phl.carto.com/api/v2/sql\", params={\"q\": guncrime_sql_query})\n",
    "\n",
    "# Get the data\n",
    "guncrime_data = guncrime_response.json()[\"rows\"]\n",
    "\n",
    "# convert guncrime_data to a pandas dataframe\n",
    "guncrime_df = pd.DataFrame(guncrime_data)\n",
    "\n",
    "# drop null geometry values\n",
    "guncrime_df = guncrime_df[guncrime_df['point_x'].notnull()]\n",
    "guncrime_df = guncrime_df[guncrime_df['point_y'].notnull()]\n",
    "\n",
    "# Convert the data to a geopandas dataframe\n",
    "guncrime_gdf = gpd.GeoDataFrame(guncrime_df, geometry=gpd.points_from_xy(guncrime_df.point_x, guncrime_df.point_y), crs='EPSG:4326')\n",
    "\n",
    "# drop the lat and lon columns\n",
    "guncrime_gdf.drop(['point_x', 'point_y'], axis=1, inplace=True)\n",
    "\n",
    "# convert the geometry column to a CRS 2272\n",
    "guncrime_gdf.to_crs(epsg=2272, inplace=True)"
   ]
  },
  {
   "cell_type": "code",
   "execution_count": 63,
   "metadata": {
    "ExecuteTime": {
     "start_time": "2023-05-11T09:48:35.892613Z",
     "end_time": "2023-05-11T09:48:35.920125Z"
    }
   },
   "outputs": [
    {
     "data": {
      "text/plain": "            text_general_code dispatch_date                        geometry\n0  Aggravated Assault Firearm    2023-03-11  POINT (2701499.991 254527.321)\n1  Aggravated Assault Firearm    2023-02-26  POINT (2687640.511 228770.118)\n2  Aggravated Assault Firearm    2023-02-26  POINT (2713880.884 277084.477)\n3  Aggravated Assault Firearm    2023-03-11  POINT (2693641.638 272700.071)\n4             Robbery Firearm    2023-02-22  POINT (2686795.954 250843.724)",
      "text/html": "<div>\n<style scoped>\n    .dataframe tbody tr th:only-of-type {\n        vertical-align: middle;\n    }\n\n    .dataframe tbody tr th {\n        vertical-align: top;\n    }\n\n    .dataframe thead th {\n        text-align: right;\n    }\n</style>\n<table border=\"1\" class=\"dataframe\">\n  <thead>\n    <tr style=\"text-align: right;\">\n      <th></th>\n      <th>text_general_code</th>\n      <th>dispatch_date</th>\n      <th>geometry</th>\n    </tr>\n  </thead>\n  <tbody>\n    <tr>\n      <th>0</th>\n      <td>Aggravated Assault Firearm</td>\n      <td>2023-03-11</td>\n      <td>POINT (2701499.991 254527.321)</td>\n    </tr>\n    <tr>\n      <th>1</th>\n      <td>Aggravated Assault Firearm</td>\n      <td>2023-02-26</td>\n      <td>POINT (2687640.511 228770.118)</td>\n    </tr>\n    <tr>\n      <th>2</th>\n      <td>Aggravated Assault Firearm</td>\n      <td>2023-02-26</td>\n      <td>POINT (2713880.884 277084.477)</td>\n    </tr>\n    <tr>\n      <th>3</th>\n      <td>Aggravated Assault Firearm</td>\n      <td>2023-03-11</td>\n      <td>POINT (2693641.638 272700.071)</td>\n    </tr>\n    <tr>\n      <th>4</th>\n      <td>Robbery Firearm</td>\n      <td>2023-02-22</td>\n      <td>POINT (2686795.954 250843.724)</td>\n    </tr>\n  </tbody>\n</table>\n</div>"
     },
     "execution_count": 63,
     "metadata": {},
     "output_type": "execute_result"
    }
   ],
   "source": [
    "guncrime_gdf.head()"
   ]
  },
  {
   "cell_type": "code",
   "execution_count": 64,
   "metadata": {
    "ExecuteTime": {
     "start_time": "2023-05-11T09:48:39.027808Z",
     "end_time": "2023-05-11T09:48:39.036237Z"
    }
   },
   "outputs": [
    {
     "data": {
      "text/plain": "(6022, 3)"
     },
     "execution_count": 64,
     "metadata": {},
     "output_type": "execute_result"
    }
   ],
   "source": [
    "guncrime_gdf.shape"
   ]
  },
  {
   "attachments": {},
   "cell_type": "markdown",
   "metadata": {},
   "source": [
    "### 2. Create a kernel density estimate from the gun crime data:"
   ]
  },
  {
   "attachments": {},
   "cell_type": "markdown",
   "metadata": {},
   "source": [
    "Note that, rather than following the one mile bandwidth used in the original research, I'm using an adaptive bandwidth based on Silverman's rule to account for varying local densities. Silverman's is more robust than Scott's method as well. I'm implementing this in scipy's gaussian_kde function.\n",
    "\n",
    "\\Silverman, B., 1986. Density estimation for statistic and data analysis. London, UK: Chapman and Hall. https://ned.ipac.caltech.edu/level5/March02/Silverman/paper.pdf.\n",
    "\n",
    "Note that ArcGIS Pro implements Silverman's Rule of Thumb: https://pro.arcgis.com/en/pro-app/latest/tool-reference/spatial-analyst/how-kernel-density-works.htm\n",
    "\n",
    "However, I really need to look into this more to make sure that I've implemented it correctly. The distribution of my data is non-parametric, meaning that neither Scott's nor Silverman's methods are appropriate."
   ]
  },
  {
   "cell_type": "code",
   "execution_count": 83,
   "metadata": {
    "ExecuteTime": {
     "start_time": "2023-05-11T10:54:47.602451Z",
     "end_time": "2023-05-11T10:54:47.613456Z"
    }
   },
   "outputs": [],
   "source": [
    "import rasterio\n",
    "from rasterio.transform import from_origin\n",
    "import numpy as np\n",
    "from sklearn.neighbors import KernelDensity\n",
    "from scipy import stats\n",
    "import pandas as pd\n",
    "\n",
    "\n",
    "def compute_adaptive_bandwidth(data, initial_bandwidth):\n",
    "    \"\"\"\n",
    "    This function computes the adaptive bandwidth based on initial KDE.\n",
    "    \"\"\"\n",
    "    # Step 1: Compute a KDE with a fixed bandwidth\n",
    "    kde_skl = KernelDensity(bandwidth=initial_bandwidth)\n",
    "    kde_skl.fit(data)\n",
    "\n",
    "    # Step 2: Compute the densities\n",
    "    density = np.exp(kde_skl.score_samples(data))\n",
    "\n",
    "    # Step 3: Compute the adaptive bandwidth\n",
    "    adaptive_bandwidth = initial_bandwidth * (1/density)**(0.5)\n",
    "\n",
    "    return adaptive_bandwidth"
   ]
  },
  {
   "cell_type": "code",
   "execution_count": 65,
   "outputs": [],
   "source": [
    "def adaptive_kde_partition_to_raster(data, extent_data, initial_bandwidth, ngroups=None, raster_file='kde.tif', resolution=100):\n",
    "    \"\"\"\n",
    "    This function computes the KDE with adaptive bandwidth using partitioning and save the density to a raster file.\n",
    "    The extent and resolution of the output raster is determined by the extent_data.\n",
    "    \"\"\"\n",
    "    # Step 1: Compute the adaptive bandwidth\n",
    "    adaptive_bandwidth = compute_adaptive_bandwidth(data, initial_bandwidth)\n",
    "\n",
    "    # Add small random noise to the bandwidth values\n",
    "    adaptive_bandwidth += np.random.uniform(-0.01, 0.01, size=len(adaptive_bandwidth))\n",
    "\n",
    "    # Step 2: Partition the data into groups\n",
    "    if ngroups is None:\n",
    "        ngroups = int(np.sqrt(len(data)))\n",
    "\n",
    "    # Create a DataFrame for easier data manipulation\n",
    "    df = pd.DataFrame(data, columns=['x', 'y'])\n",
    "    df['bw'] = adaptive_bandwidth\n",
    "\n",
    "    # Create the partitions\n",
    "    df['group'] = pd.qcut(df['bw'], q=ngroups, labels=False)\n",
    "\n",
    "    # Define the grid\n",
    "    min_x, min_y, max_x, max_y = extent_data['x'].min(), extent_data['y'].min(), extent_data['x'].max(), extent_data['y'].max()\n",
    "    x_grid, y_grid = np.mgrid[min_x:max_x:complex(0, resolution), min_y:max_y:complex(0, resolution)]\n",
    "\n",
    "    # Step 3: Compute the KDE for each group and accumulate the density on the grid\n",
    "    density = np.zeros(x_grid.shape)\n",
    "    for group in df['group'].unique():\n",
    "        group_data = df[df['group'] == group][['x', 'y']]\n",
    "        group_bw = df[df['group'] == group]['bw'].mean()\n",
    "\n",
    "        kde_skl = KernelDensity(bandwidth=group_bw)\n",
    "        kde_skl.fit(group_data)\n",
    "\n",
    "        # Evaluate the KDE on the grid and add to the accumulated density\n",
    "        grid_positions = np.vstack([x_grid.ravel(), y_grid.ravel()])\n",
    "        group_density = np.exp(kde_skl.score_samples(grid_positions.T))\n",
    "        density += group_density.reshape(x_grid.shape)\n",
    "\n",
    "    # Step 4: Save the density to a raster file\n",
    "    transform = from_origin(min_x, max_y, (max_x - min_x) / resolution, (max_y - min_y) / resolution)\n",
    "    new_dataset = rasterio.open(raster_file, 'w', driver='GTiff',\n",
    "                                height = density.shape[0],\n",
    "                                width = density.shape[1],\n",
    "                                count=1, dtype=str(density.dtype),\n",
    "                                crs='EPSG:2272',\n",
    "                                transform=transform)\n",
    "    new_dataset.write(density, 1)\n",
    "    new_dataset.close()"
   ],
   "metadata": {
    "collapsed": false
   }
  },
  {
   "cell_type": "code",
   "execution_count": 84,
   "outputs": [],
   "source": [
    "# Extract x and y coordinates from the geometry column\n",
    "guncrime_gdf['x'] = guncrime_gdf.geometry.x\n",
    "guncrime_gdf['y'] = guncrime_gdf.geometry.y\n",
    "\n",
    "# Select only the x and y columns\n",
    "guncrime_coords = pd.DataFrame(guncrime_gdf[['x', 'y']].values)\n",
    "\n",
    "guncrime_coords = guncrime_coords.rename(columns={0: 'x', 1: 'y'})\n",
    "\n",
    "# Extract x and y coordinates from the geometry column\n",
    "w_rcos_gdf['x'] = w_rcos_gdf.geometry.x\n",
    "w_rcos_gdf['y'] = w_rcos_gdf.geometry.y\n",
    "\n",
    "# Select only the x and y columns\n",
    "w_rcos_coords = pd.DataFrame(w_rcos_gdf[['x', 'y']].values)\n",
    "\n",
    "w_rcos_coords = w_rcos_coords.rename(columns={0: 'x', 1: 'y'})"
   ],
   "metadata": {
    "collapsed": false,
    "ExecuteTime": {
     "start_time": "2023-05-11T10:56:53.277291Z",
     "end_time": "2023-05-11T10:56:53.818263Z"
    }
   }
  },
  {
   "cell_type": "code",
   "execution_count": 85,
   "outputs": [
    {
     "name": "stderr",
     "output_type": "stream",
     "text": [
      "C:\\Users\\Nissim\\.conda\\envs\\vacant-lots-proj\\lib\\site-packages\\sklearn\\base.py:420: UserWarning: X does not have valid feature names, but KernelDensity was fitted with feature names\n",
      "  warnings.warn(\n",
      "C:\\Users\\Nissim\\.conda\\envs\\vacant-lots-proj\\lib\\site-packages\\sklearn\\base.py:420: UserWarning: X does not have valid feature names, but KernelDensity was fitted with feature names\n",
      "  warnings.warn(\n",
      "C:\\Users\\Nissim\\.conda\\envs\\vacant-lots-proj\\lib\\site-packages\\sklearn\\base.py:420: UserWarning: X does not have valid feature names, but KernelDensity was fitted with feature names\n",
      "  warnings.warn(\n",
      "C:\\Users\\Nissim\\.conda\\envs\\vacant-lots-proj\\lib\\site-packages\\sklearn\\base.py:420: UserWarning: X does not have valid feature names, but KernelDensity was fitted with feature names\n",
      "  warnings.warn(\n",
      "C:\\Users\\Nissim\\.conda\\envs\\vacant-lots-proj\\lib\\site-packages\\sklearn\\base.py:420: UserWarning: X does not have valid feature names, but KernelDensity was fitted with feature names\n",
      "  warnings.warn(\n",
      "C:\\Users\\Nissim\\.conda\\envs\\vacant-lots-proj\\lib\\site-packages\\sklearn\\base.py:420: UserWarning: X does not have valid feature names, but KernelDensity was fitted with feature names\n",
      "  warnings.warn(\n",
      "C:\\Users\\Nissim\\.conda\\envs\\vacant-lots-proj\\lib\\site-packages\\sklearn\\base.py:420: UserWarning: X does not have valid feature names, but KernelDensity was fitted with feature names\n",
      "  warnings.warn(\n",
      "C:\\Users\\Nissim\\.conda\\envs\\vacant-lots-proj\\lib\\site-packages\\sklearn\\base.py:420: UserWarning: X does not have valid feature names, but KernelDensity was fitted with feature names\n",
      "  warnings.warn(\n",
      "C:\\Users\\Nissim\\.conda\\envs\\vacant-lots-proj\\lib\\site-packages\\sklearn\\base.py:420: UserWarning: X does not have valid feature names, but KernelDensity was fitted with feature names\n",
      "  warnings.warn(\n",
      "C:\\Users\\Nissim\\.conda\\envs\\vacant-lots-proj\\lib\\site-packages\\sklearn\\base.py:420: UserWarning: X does not have valid feature names, but KernelDensity was fitted with feature names\n",
      "  warnings.warn(\n",
      "C:\\Users\\Nissim\\.conda\\envs\\vacant-lots-proj\\lib\\site-packages\\sklearn\\base.py:420: UserWarning: X does not have valid feature names, but KernelDensity was fitted with feature names\n",
      "  warnings.warn(\n",
      "C:\\Users\\Nissim\\.conda\\envs\\vacant-lots-proj\\lib\\site-packages\\sklearn\\base.py:420: UserWarning: X does not have valid feature names, but KernelDensity was fitted with feature names\n",
      "  warnings.warn(\n",
      "C:\\Users\\Nissim\\.conda\\envs\\vacant-lots-proj\\lib\\site-packages\\sklearn\\base.py:420: UserWarning: X does not have valid feature names, but KernelDensity was fitted with feature names\n",
      "  warnings.warn(\n",
      "C:\\Users\\Nissim\\.conda\\envs\\vacant-lots-proj\\lib\\site-packages\\sklearn\\base.py:420: UserWarning: X does not have valid feature names, but KernelDensity was fitted with feature names\n",
      "  warnings.warn(\n",
      "C:\\Users\\Nissim\\.conda\\envs\\vacant-lots-proj\\lib\\site-packages\\sklearn\\base.py:420: UserWarning: X does not have valid feature names, but KernelDensity was fitted with feature names\n",
      "  warnings.warn(\n",
      "C:\\Users\\Nissim\\.conda\\envs\\vacant-lots-proj\\lib\\site-packages\\sklearn\\base.py:420: UserWarning: X does not have valid feature names, but KernelDensity was fitted with feature names\n",
      "  warnings.warn(\n",
      "C:\\Users\\Nissim\\.conda\\envs\\vacant-lots-proj\\lib\\site-packages\\sklearn\\base.py:420: UserWarning: X does not have valid feature names, but KernelDensity was fitted with feature names\n",
      "  warnings.warn(\n",
      "C:\\Users\\Nissim\\.conda\\envs\\vacant-lots-proj\\lib\\site-packages\\sklearn\\base.py:420: UserWarning: X does not have valid feature names, but KernelDensity was fitted with feature names\n",
      "  warnings.warn(\n",
      "C:\\Users\\Nissim\\.conda\\envs\\vacant-lots-proj\\lib\\site-packages\\sklearn\\base.py:420: UserWarning: X does not have valid feature names, but KernelDensity was fitted with feature names\n",
      "  warnings.warn(\n",
      "C:\\Users\\Nissim\\.conda\\envs\\vacant-lots-proj\\lib\\site-packages\\sklearn\\base.py:420: UserWarning: X does not have valid feature names, but KernelDensity was fitted with feature names\n",
      "  warnings.warn(\n",
      "C:\\Users\\Nissim\\.conda\\envs\\vacant-lots-proj\\lib\\site-packages\\sklearn\\base.py:420: UserWarning: X does not have valid feature names, but KernelDensity was fitted with feature names\n",
      "  warnings.warn(\n",
      "C:\\Users\\Nissim\\.conda\\envs\\vacant-lots-proj\\lib\\site-packages\\sklearn\\base.py:420: UserWarning: X does not have valid feature names, but KernelDensity was fitted with feature names\n",
      "  warnings.warn(\n",
      "C:\\Users\\Nissim\\.conda\\envs\\vacant-lots-proj\\lib\\site-packages\\sklearn\\base.py:420: UserWarning: X does not have valid feature names, but KernelDensity was fitted with feature names\n",
      "  warnings.warn(\n",
      "C:\\Users\\Nissim\\.conda\\envs\\vacant-lots-proj\\lib\\site-packages\\sklearn\\base.py:420: UserWarning: X does not have valid feature names, but KernelDensity was fitted with feature names\n",
      "  warnings.warn(\n",
      "C:\\Users\\Nissim\\.conda\\envs\\vacant-lots-proj\\lib\\site-packages\\sklearn\\base.py:420: UserWarning: X does not have valid feature names, but KernelDensity was fitted with feature names\n",
      "  warnings.warn(\n",
      "C:\\Users\\Nissim\\.conda\\envs\\vacant-lots-proj\\lib\\site-packages\\sklearn\\base.py:420: UserWarning: X does not have valid feature names, but KernelDensity was fitted with feature names\n",
      "  warnings.warn(\n",
      "C:\\Users\\Nissim\\.conda\\envs\\vacant-lots-proj\\lib\\site-packages\\sklearn\\base.py:420: UserWarning: X does not have valid feature names, but KernelDensity was fitted with feature names\n",
      "  warnings.warn(\n",
      "C:\\Users\\Nissim\\.conda\\envs\\vacant-lots-proj\\lib\\site-packages\\sklearn\\base.py:420: UserWarning: X does not have valid feature names, but KernelDensity was fitted with feature names\n",
      "  warnings.warn(\n",
      "C:\\Users\\Nissim\\.conda\\envs\\vacant-lots-proj\\lib\\site-packages\\sklearn\\base.py:420: UserWarning: X does not have valid feature names, but KernelDensity was fitted with feature names\n",
      "  warnings.warn(\n",
      "C:\\Users\\Nissim\\.conda\\envs\\vacant-lots-proj\\lib\\site-packages\\sklearn\\base.py:420: UserWarning: X does not have valid feature names, but KernelDensity was fitted with feature names\n",
      "  warnings.warn(\n",
      "C:\\Users\\Nissim\\.conda\\envs\\vacant-lots-proj\\lib\\site-packages\\sklearn\\base.py:420: UserWarning: X does not have valid feature names, but KernelDensity was fitted with feature names\n",
      "  warnings.warn(\n",
      "C:\\Users\\Nissim\\.conda\\envs\\vacant-lots-proj\\lib\\site-packages\\sklearn\\base.py:420: UserWarning: X does not have valid feature names, but KernelDensity was fitted with feature names\n",
      "  warnings.warn(\n",
      "C:\\Users\\Nissim\\.conda\\envs\\vacant-lots-proj\\lib\\site-packages\\sklearn\\base.py:420: UserWarning: X does not have valid feature names, but KernelDensity was fitted with feature names\n",
      "  warnings.warn(\n",
      "C:\\Users\\Nissim\\.conda\\envs\\vacant-lots-proj\\lib\\site-packages\\sklearn\\base.py:420: UserWarning: X does not have valid feature names, but KernelDensity was fitted with feature names\n",
      "  warnings.warn(\n",
      "C:\\Users\\Nissim\\.conda\\envs\\vacant-lots-proj\\lib\\site-packages\\sklearn\\base.py:420: UserWarning: X does not have valid feature names, but KernelDensity was fitted with feature names\n",
      "  warnings.warn(\n",
      "C:\\Users\\Nissim\\.conda\\envs\\vacant-lots-proj\\lib\\site-packages\\sklearn\\base.py:420: UserWarning: X does not have valid feature names, but KernelDensity was fitted with feature names\n",
      "  warnings.warn(\n",
      "C:\\Users\\Nissim\\.conda\\envs\\vacant-lots-proj\\lib\\site-packages\\sklearn\\base.py:420: UserWarning: X does not have valid feature names, but KernelDensity was fitted with feature names\n",
      "  warnings.warn(\n",
      "C:\\Users\\Nissim\\.conda\\envs\\vacant-lots-proj\\lib\\site-packages\\sklearn\\base.py:420: UserWarning: X does not have valid feature names, but KernelDensity was fitted with feature names\n",
      "  warnings.warn(\n",
      "C:\\Users\\Nissim\\.conda\\envs\\vacant-lots-proj\\lib\\site-packages\\sklearn\\base.py:420: UserWarning: X does not have valid feature names, but KernelDensity was fitted with feature names\n",
      "  warnings.warn(\n",
      "C:\\Users\\Nissim\\.conda\\envs\\vacant-lots-proj\\lib\\site-packages\\sklearn\\base.py:420: UserWarning: X does not have valid feature names, but KernelDensity was fitted with feature names\n",
      "  warnings.warn(\n",
      "C:\\Users\\Nissim\\.conda\\envs\\vacant-lots-proj\\lib\\site-packages\\sklearn\\base.py:420: UserWarning: X does not have valid feature names, but KernelDensity was fitted with feature names\n",
      "  warnings.warn(\n",
      "C:\\Users\\Nissim\\.conda\\envs\\vacant-lots-proj\\lib\\site-packages\\sklearn\\base.py:420: UserWarning: X does not have valid feature names, but KernelDensity was fitted with feature names\n",
      "  warnings.warn(\n",
      "C:\\Users\\Nissim\\.conda\\envs\\vacant-lots-proj\\lib\\site-packages\\sklearn\\base.py:420: UserWarning: X does not have valid feature names, but KernelDensity was fitted with feature names\n",
      "  warnings.warn(\n",
      "C:\\Users\\Nissim\\.conda\\envs\\vacant-lots-proj\\lib\\site-packages\\sklearn\\base.py:420: UserWarning: X does not have valid feature names, but KernelDensity was fitted with feature names\n",
      "  warnings.warn(\n",
      "C:\\Users\\Nissim\\.conda\\envs\\vacant-lots-proj\\lib\\site-packages\\sklearn\\base.py:420: UserWarning: X does not have valid feature names, but KernelDensity was fitted with feature names\n",
      "  warnings.warn(\n",
      "C:\\Users\\Nissim\\.conda\\envs\\vacant-lots-proj\\lib\\site-packages\\sklearn\\base.py:420: UserWarning: X does not have valid feature names, but KernelDensity was fitted with feature names\n",
      "  warnings.warn(\n",
      "C:\\Users\\Nissim\\.conda\\envs\\vacant-lots-proj\\lib\\site-packages\\sklearn\\base.py:420: UserWarning: X does not have valid feature names, but KernelDensity was fitted with feature names\n",
      "  warnings.warn(\n",
      "C:\\Users\\Nissim\\.conda\\envs\\vacant-lots-proj\\lib\\site-packages\\sklearn\\base.py:420: UserWarning: X does not have valid feature names, but KernelDensity was fitted with feature names\n",
      "  warnings.warn(\n",
      "C:\\Users\\Nissim\\.conda\\envs\\vacant-lots-proj\\lib\\site-packages\\sklearn\\base.py:420: UserWarning: X does not have valid feature names, but KernelDensity was fitted with feature names\n",
      "  warnings.warn(\n",
      "C:\\Users\\Nissim\\.conda\\envs\\vacant-lots-proj\\lib\\site-packages\\sklearn\\base.py:420: UserWarning: X does not have valid feature names, but KernelDensity was fitted with feature names\n",
      "  warnings.warn(\n",
      "C:\\Users\\Nissim\\.conda\\envs\\vacant-lots-proj\\lib\\site-packages\\sklearn\\base.py:420: UserWarning: X does not have valid feature names, but KernelDensity was fitted with feature names\n",
      "  warnings.warn(\n",
      "C:\\Users\\Nissim\\.conda\\envs\\vacant-lots-proj\\lib\\site-packages\\sklearn\\base.py:420: UserWarning: X does not have valid feature names, but KernelDensity was fitted with feature names\n",
      "  warnings.warn(\n",
      "C:\\Users\\Nissim\\.conda\\envs\\vacant-lots-proj\\lib\\site-packages\\sklearn\\base.py:420: UserWarning: X does not have valid feature names, but KernelDensity was fitted with feature names\n",
      "  warnings.warn(\n",
      "C:\\Users\\Nissim\\.conda\\envs\\vacant-lots-proj\\lib\\site-packages\\sklearn\\base.py:420: UserWarning: X does not have valid feature names, but KernelDensity was fitted with feature names\n",
      "  warnings.warn(\n",
      "C:\\Users\\Nissim\\.conda\\envs\\vacant-lots-proj\\lib\\site-packages\\sklearn\\base.py:420: UserWarning: X does not have valid feature names, but KernelDensity was fitted with feature names\n",
      "  warnings.warn(\n",
      "C:\\Users\\Nissim\\.conda\\envs\\vacant-lots-proj\\lib\\site-packages\\sklearn\\base.py:420: UserWarning: X does not have valid feature names, but KernelDensity was fitted with feature names\n",
      "  warnings.warn(\n",
      "C:\\Users\\Nissim\\.conda\\envs\\vacant-lots-proj\\lib\\site-packages\\sklearn\\base.py:420: UserWarning: X does not have valid feature names, but KernelDensity was fitted with feature names\n",
      "  warnings.warn(\n",
      "C:\\Users\\Nissim\\.conda\\envs\\vacant-lots-proj\\lib\\site-packages\\sklearn\\base.py:420: UserWarning: X does not have valid feature names, but KernelDensity was fitted with feature names\n",
      "  warnings.warn(\n",
      "C:\\Users\\Nissim\\.conda\\envs\\vacant-lots-proj\\lib\\site-packages\\sklearn\\base.py:420: UserWarning: X does not have valid feature names, but KernelDensity was fitted with feature names\n",
      "  warnings.warn(\n",
      "C:\\Users\\Nissim\\.conda\\envs\\vacant-lots-proj\\lib\\site-packages\\sklearn\\base.py:420: UserWarning: X does not have valid feature names, but KernelDensity was fitted with feature names\n",
      "  warnings.warn(\n",
      "C:\\Users\\Nissim\\.conda\\envs\\vacant-lots-proj\\lib\\site-packages\\sklearn\\base.py:420: UserWarning: X does not have valid feature names, but KernelDensity was fitted with feature names\n",
      "  warnings.warn(\n",
      "C:\\Users\\Nissim\\.conda\\envs\\vacant-lots-proj\\lib\\site-packages\\sklearn\\base.py:420: UserWarning: X does not have valid feature names, but KernelDensity was fitted with feature names\n",
      "  warnings.warn(\n",
      "C:\\Users\\Nissim\\.conda\\envs\\vacant-lots-proj\\lib\\site-packages\\sklearn\\base.py:420: UserWarning: X does not have valid feature names, but KernelDensity was fitted with feature names\n",
      "  warnings.warn(\n",
      "C:\\Users\\Nissim\\.conda\\envs\\vacant-lots-proj\\lib\\site-packages\\sklearn\\base.py:420: UserWarning: X does not have valid feature names, but KernelDensity was fitted with feature names\n",
      "  warnings.warn(\n",
      "C:\\Users\\Nissim\\.conda\\envs\\vacant-lots-proj\\lib\\site-packages\\sklearn\\base.py:420: UserWarning: X does not have valid feature names, but KernelDensity was fitted with feature names\n",
      "  warnings.warn(\n",
      "C:\\Users\\Nissim\\.conda\\envs\\vacant-lots-proj\\lib\\site-packages\\sklearn\\base.py:420: UserWarning: X does not have valid feature names, but KernelDensity was fitted with feature names\n",
      "  warnings.warn(\n",
      "C:\\Users\\Nissim\\.conda\\envs\\vacant-lots-proj\\lib\\site-packages\\sklearn\\base.py:420: UserWarning: X does not have valid feature names, but KernelDensity was fitted with feature names\n",
      "  warnings.warn(\n",
      "C:\\Users\\Nissim\\.conda\\envs\\vacant-lots-proj\\lib\\site-packages\\sklearn\\base.py:420: UserWarning: X does not have valid feature names, but KernelDensity was fitted with feature names\n",
      "  warnings.warn(\n",
      "C:\\Users\\Nissim\\.conda\\envs\\vacant-lots-proj\\lib\\site-packages\\sklearn\\base.py:420: UserWarning: X does not have valid feature names, but KernelDensity was fitted with feature names\n",
      "  warnings.warn(\n",
      "C:\\Users\\Nissim\\.conda\\envs\\vacant-lots-proj\\lib\\site-packages\\sklearn\\base.py:420: UserWarning: X does not have valid feature names, but KernelDensity was fitted with feature names\n",
      "  warnings.warn(\n",
      "C:\\Users\\Nissim\\.conda\\envs\\vacant-lots-proj\\lib\\site-packages\\sklearn\\base.py:420: UserWarning: X does not have valid feature names, but KernelDensity was fitted with feature names\n",
      "  warnings.warn(\n",
      "C:\\Users\\Nissim\\.conda\\envs\\vacant-lots-proj\\lib\\site-packages\\sklearn\\base.py:420: UserWarning: X does not have valid feature names, but KernelDensity was fitted with feature names\n",
      "  warnings.warn(\n",
      "C:\\Users\\Nissim\\.conda\\envs\\vacant-lots-proj\\lib\\site-packages\\sklearn\\base.py:420: UserWarning: X does not have valid feature names, but KernelDensity was fitted with feature names\n",
      "  warnings.warn(\n",
      "C:\\Users\\Nissim\\.conda\\envs\\vacant-lots-proj\\lib\\site-packages\\sklearn\\base.py:420: UserWarning: X does not have valid feature names, but KernelDensity was fitted with feature names\n",
      "  warnings.warn(\n",
      "C:\\Users\\Nissim\\.conda\\envs\\vacant-lots-proj\\lib\\site-packages\\sklearn\\base.py:420: UserWarning: X does not have valid feature names, but KernelDensity was fitted with feature names\n",
      "  warnings.warn(\n",
      "C:\\Users\\Nissim\\.conda\\envs\\vacant-lots-proj\\lib\\site-packages\\sklearn\\base.py:420: UserWarning: X does not have valid feature names, but KernelDensity was fitted with feature names\n",
      "  warnings.warn(\n",
      "C:\\Users\\Nissim\\.conda\\envs\\vacant-lots-proj\\lib\\site-packages\\sklearn\\base.py:420: UserWarning: X does not have valid feature names, but KernelDensity was fitted with feature names\n",
      "  warnings.warn(\n"
     ]
    }
   ],
   "source": [
    "adaptive_kde_partition_to_raster(\n",
    "    data=guncrime_coords,\n",
    "    extent_data=w_rcos_coords,\n",
    "    initial_bandwidth=0.1,\n",
    "    raster_file=\"adaptive_bw_test_rast.tif\",\n",
    "    resolution=100\n",
    ")"
   ],
   "metadata": {
    "collapsed": false,
    "ExecuteTime": {
     "start_time": "2023-05-11T10:57:04.565513Z",
     "end_time": "2023-05-11T10:57:06.873819Z"
    }
   }
  },
  {
   "cell_type": "code",
   "execution_count": 86,
   "outputs": [
    {
     "data": {
      "text/plain": "<Figure size 1000x1000 with 2 Axes>",
      "image/png": "[encoded data removed]"
     },
     "metadata": {},
     "output_type": "display_data"
    }
   ],
   "source": [
    "import rasterio\n",
    "import matplotlib.pyplot as plt\n",
    "\n",
    "# Open the file:\n",
    "raster = rasterio.open('adaptive_bw_test_rast.tif')\n",
    "\n",
    "# Read the grid values into numpy array (note that this is how you access the data in rasterio)\n",
    "array = raster.read(1)\n",
    "\n",
    "# Plot the grid\n",
    "plt.figure(figsize=(10,10))\n",
    "plt.imshow(array, cmap='viridis')\n",
    "plt.colorbar(label='Density')\n",
    "plt.title('Kernel Density Estimate')\n",
    "plt.show()"
   ],
   "metadata": {
    "collapsed": false,
    "ExecuteTime": {
     "start_time": "2023-05-11T10:57:10.944204Z",
     "end_time": "2023-05-11T10:57:11.132207Z"
    }
   }
  },
  {
   "cell_type": "code",
   "execution_count": null,
   "metadata": {
    "ExecuteTime": {
     "start_time": "2023-05-11T06:41:04.150279Z",
     "end_time": "2023-05-11T06:41:04.157281Z"
    }
   },
   "outputs": [],
   "source": [
    "import numpy as np\n",
    "from sklearn.neighbors import KernelDensity\n",
    "from scipy import stats\n",
    "import pandas as pd\n",
    "\n",
    "\n",
    "def compute_adaptive_bandwidth(data, initial_bandwidth):\n",
    "    \"\"\"\n",
    "    This function computes the adaptive bandwidth based on initial KDE.\n",
    "    \"\"\"\n",
    "    # Step 1: Compute a KDE with a fixed bandwidth\n",
    "    kde_skl = KernelDensity(bandwidth=initial_bandwidth)\n",
    "    kde_skl.fit(data)\n",
    "\n",
    "    # Step 2: Compute the densities\n",
    "    density = np.exp(kde_skl.score_samples(data))\n",
    "\n",
    "    # Step 3: Compute the adaptive bandwidth\n",
    "    adaptive_bandwidth = initial_bandwidth * (1/density)**(0.5)\n",
    "\n",
    "    return adaptive_bandwidth"
   ]
  },
  {
   "cell_type": "code",
   "execution_count": null,
   "metadata": {
    "ExecuteTime": {
     "start_time": "2023-05-11T07:17:37.743250Z",
     "end_time": "2023-05-11T07:17:37.754250Z"
    }
   },
   "outputs": [],
   "source": [
    "def adaptive_kde_partition(data, initial_bandwidth, ngroups=None, resolution=50):\n",
    "    \"\"\"\n",
    "    This function computes the KDE with adaptive bandwidth using partitioning and returns a 2D density grid.\n",
    "    \"\"\"\n",
    "    # Step 1: Compute the adaptive bandwidth\n",
    "    adaptive_bandwidth = compute_adaptive_bandwidth(data, initial_bandwidth)\n",
    "\n",
    "    # Add small random noise to the bandwidth values\n",
    "    adaptive_bandwidth += np.random.uniform(-0.01, 0.01, size=len(adaptive_bandwidth))\n",
    "\n",
    "    # Step 2: Partition the data into groups\n",
    "    if ngroups is None:\n",
    "        ngroups = int(np.sqrt(len(data)))\n",
    "\n",
    "    # Create a DataFrame for easier data manipulation\n",
    "    df = pd.DataFrame(data, columns=['x', 'y'])\n",
    "    df['bw'] = adaptive_bandwidth\n",
    "\n",
    "    # Create the partitions\n",
    "    df['group'] = pd.qcut(df['bw'], q=ngroups, labels=False)\n",
    "\n",
    "    # Step 3: Compute the KDE for each group and store the density in the DataFrame\n",
    "    xmin, ymin, xmax, ymax = np.min(data[:, 0]), np.min(data[:, 1]), np.max(data[:, 0]), np.max(data[:, 1])\n",
    "    x_resolution = (xmax - xmin) / resolution\n",
    "    y_resolution = (ymax - ymin) / resolution\n",
    "    x_vals = np.arange(xmin, xmax, x_resolution)\n",
    "    y_vals = np.arange(ymin, ymax, y_resolution)\n",
    "    xx, yy = np.meshgrid(x_vals, y_vals)\n",
    "    points = np.column_stack((xx.flatten(), yy.flatten()))\n",
    "    densities = np.zeros(len(points))\n",
    "\n",
    "    for group in df['group'].unique():\n",
    "        group_bw = df[df['group'] == group]['bw'].mean()\n",
    "        group_data = points\n",
    "\n",
    "        kde_skl = KernelDensity(bandwidth=group_bw)\n",
    "        kde_skl.fit(group_data)\n",
    "\n",
    "        group_densities = np.exp(kde_skl.score_samples(group_data))\n",
    "        group_indices = df[df['group'] == group].index\n",
    "        densities[group_indices] = group_densities\n",
    "\n",
    "    density_grid = densities.reshape(xx.shape)\n",
    "    return density_grid"
   ]
  },
  {
   "cell_type": "code",
   "execution_count": null,
   "outputs": [],
   "source": [
    "# Extract x and y coordinates from the geometry column\n",
    "guncrime_gdf['x'] = guncrime_gdf.geometry.x\n",
    "guncrime_gdf['y'] = guncrime_gdf.geometry.y\n",
    "\n",
    "# Select only the x and y columns\n",
    "guncrime_coords = guncrime_gdf[['x', 'y']].values"
   ],
   "metadata": {
    "collapsed": false,
    "ExecuteTime": {
     "start_time": "2023-05-11T07:13:40.962047Z",
     "end_time": "2023-05-11T07:13:41.051264Z"
    }
   }
  },
  {
   "cell_type": "code",
   "execution_count": null,
   "outputs": [],
   "source": [
    "input_bandwidth = silverman_bandwidth(guncrime_gdf)\n",
    "\n",
    "# Use these coordinates as input to the function\n",
    "guncrime_rast = adaptive_kde_partition(guncrime_coords, 0.1, 50)"
   ],
   "metadata": {
    "collapsed": false,
    "ExecuteTime": {
     "start_time": "2023-05-11T07:13:44.690836Z",
     "end_time": "2023-05-11T07:13:44.920481Z"
    }
   }
  },
  {
   "cell_type": "code",
   "execution_count": null,
   "outputs": [],
   "source": [
    "import matplotlib.pyplot as plt\n",
    "\n",
    "fig = plt.figure(figsize=(10, 10))\n",
    "plt.imshow(guncrime_rast, cmap='plasma_r')\n",
    "plt.colorbar()\n",
    "plt.show()\n"
   ],
   "metadata": {
    "collapsed": false
   }
  },
  {
   "cell_type": "code",
   "execution_count": null,
   "outputs": [],
   "source": [
    "guncrime_kde.head()"
   ],
   "metadata": {
    "collapsed": false,
    "ExecuteTime": {
     "start_time": "2023-05-11T06:46:06.446376Z",
     "end_time": "2023-05-11T06:46:06.462893Z"
    }
   }
  },
  {
   "cell_type": "code",
   "execution_count": null,
   "outputs": [],
   "source": [
    "# print the names of the"
   ],
   "metadata": {
    "collapsed": false
   }
  },
  {
   "cell_type": "code",
   "execution_count": null,
   "outputs": [],
   "source": [
    "# Convert the data to a geopandas dataframe\n",
    "guncrime_kde = gpd.GeoDataFrame(guncrime_kde, geometry=gpd.points_from_xy(guncrime_kde['x'], guncrime_kde['y']), crs='EPSG:2272')\n",
    "\n",
    "# drop the lat and lon columns\n",
    "guncrime_kde.drop(['x', 'y'], axis=1, inplace=True)"
   ],
   "metadata": {
    "collapsed": false,
    "ExecuteTime": {
     "start_time": "2023-05-11T06:48:02.783739Z",
     "end_time": "2023-05-11T06:48:02.896420Z"
    }
   }
  },
  {
   "cell_type": "code",
   "execution_count": null,
   "outputs": [],
   "source": [
    "guncrime_kde['density'] = guncrime_kde['density'] *100\n",
    "\n",
    "guncrime_kde.sample(20)"
   ],
   "metadata": {
    "collapsed": false,
    "ExecuteTime": {
     "start_time": "2023-05-11T06:57:00.074851Z",
     "end_time": "2023-05-11T06:57:00.107360Z"
    }
   }
  },
  {
   "cell_type": "code",
   "execution_count": null,
   "outputs": [],
   "source": [
    "bounds = joined_gdf.total_bounds\n",
    "\n",
    "res = 250\n",
    "transform = rasterio.transform.from_origin(\n",
    "    west=bounds[0],\n",
    "    north=bounds[3],\n",
    "    xsize=res,\n",
    "    ysize=res\n",
    ")\n",
    "transform"
   ],
   "metadata": {
    "collapsed": false,
    "ExecuteTime": {
     "start_time": "2023-05-11T06:57:27.167553Z",
     "end_time": "2023-05-11T06:57:28.276409Z"
    }
   }
  },
  {
   "cell_type": "code",
   "execution_count": null,
   "outputs": [],
   "source": [
    "import math\n",
    "\n",
    "rows = math.ceil((bounds[3] - bounds[1]) / res)\n",
    "cols = math.ceil((bounds[2] - bounds[0]) / res)\n",
    "shape = (rows, cols)\n",
    "shape"
   ],
   "metadata": {
    "collapsed": false,
    "ExecuteTime": {
     "start_time": "2023-05-11T06:57:29.617600Z",
     "end_time": "2023-05-11T06:57:29.633206Z"
    }
   }
  },
  {
   "cell_type": "code",
   "execution_count": null,
   "outputs": [],
   "source": [
    "from rasterio import features\n",
    "\n",
    "guncrime_raster = rasterio.features.rasterize(\n",
    "    ((g, v) for g, v in guncrime_kde[['geometry', 'density']] \\\n",
    "        .dropna(subset='density')\n",
    "        .to_numpy() \\\n",
    "        .tolist()),\n",
    "    out_shape=shape,\n",
    "    transform=transform,\n",
    "    merge_alg=rasterio.enums.MergeAlg.add\n",
    ")"
   ],
   "metadata": {
    "collapsed": false,
    "ExecuteTime": {
     "start_time": "2023-05-11T06:57:31.765783Z",
     "end_time": "2023-05-11T06:57:31.829506Z"
    }
   }
  },
  {
   "cell_type": "code",
   "execution_count": null,
   "outputs": [],
   "source": [
    "# print the range of values in the guncrime_raster array\n",
    "print(\"Max is\", np.max(guncrime_raster))\n",
    "print(\"Max is\", np.min(guncrime_raster))"
   ],
   "metadata": {
    "collapsed": false,
    "ExecuteTime": {
     "start_time": "2023-05-11T06:57:34.500492Z",
     "end_time": "2023-05-11T06:57:34.528682Z"
    }
   }
  },
  {
   "cell_type": "code",
   "execution_count": null,
   "outputs": [],
   "source": [
    "import matplotlib.pyplot as plt\n",
    "\n",
    "fig = plt.figure(figsize=(10, 10))\n",
    "plt.imshow(guncrime_raster, cmap='plasma_r')\n",
    "plt.colorbar()\n",
    "plt.show()"
   ],
   "metadata": {
    "collapsed": false,
    "ExecuteTime": {
     "start_time": "2023-05-11T06:57:36.409846Z",
     "end_time": "2023-05-11T06:57:36.567219Z"
    }
   }
  },
  {
   "cell_type": "code",
   "execution_count": null,
   "outputs": [],
   "source": [
    "import geopandas as gpd\n",
    "import matplotlib.pyplot as plt\n",
    "\n",
    "fig = plt.figure(figsize=(10, 10))\n",
    "plt.imshow(guncrime_raster, cmap='Blues')\n",
    "\n",
    "# Assuming `joined_gdf` is a GeoDataFrame with polygon geometries\n",
    "joined_gdf.plot(ax=plt.gca(), edgecolor='red', facecolor='none')\n",
    "\n",
    "plt.show()"
   ],
   "metadata": {
    "collapsed": false,
    "ExecuteTime": {
     "start_time": "2023-05-11T06:59:48.869026Z",
     "end_time": "2023-05-11T06:59:52.499546Z"
    }
   }
  },
  {
   "cell_type": "code",
   "execution_count": null,
   "outputs": [],
   "source": [
    "from rasterio.features import rasterize\n",
    "\n",
    "# Create an empty raster to rasterize the points\n",
    "raster_width = int((guncrime_kde.total_bounds[2] - guncrime_kde.total_bounds[0]) / 100)  # Cell size: 100 ft\n",
    "raster_height = int((guncrime_kde.total_bounds[3] - guncrime_kde.total_bounds[1]) / 100)\n",
    "raster_transform = rasterio.Affine(100, 0, guncrime_kde.total_bounds[0], 0, -100, guncrime_kde.total_bounds[3])\n",
    "\n",
    "raster = rasterize(\n",
    "    shapes=guncrime_kde.geometry,\n",
    "    out_shape=(raster_height, raster_width),\n",
    "    transform=raster_transform,\n",
    "    fill=0,\n",
    "    default_value=0,\n",
    "    all_touched=True,\n",
    "    dtype='float32'\n",
    ")\n",
    "\n",
    "# Save the raster to a file\n",
    "with rasterio.open('guncrime_raster.tif', 'w', driver='GTiff', height=raster.shape[0], width=raster.shape[1],\n",
    "                   count=1, dtype=raster.dtype, crs=guncrime_kde.crs, transform=raster_transform) as dst:\n",
    "    dst.write(raster, 1)"
   ],
   "metadata": {
    "collapsed": false,
    "ExecuteTime": {
     "start_time": "2023-05-11T07:05:48.674531Z",
     "end_time": "2023-05-11T07:05:49.018493Z"
    }
   }
  },
  {
   "cell_type": "code",
   "execution_count": null,
   "outputs": [],
   "source": [
    "joined_points = joined_gdf\n",
    "\n",
    "# Open the raster file\n",
    "with rasterio.open('guncrime_raster.tif') as src:\n",
    "    # Create an empty list to store the raster values\n",
    "    raster_values = []\n",
    "\n",
    "    # Iterate over each point and extract the raster value\n",
    "    for point in joined_points.geometry.centroid:\n",
    "        row, col = src.index(point.x, point.y)\n",
    "        value = src.read(1)[row, col]\n",
    "        raster_values.append(value)\n",
    "\n",
    "    # Assign the raster values to the 'density' column\n",
    "    joined_points['density'] = raster_values"
   ],
   "metadata": {
    "collapsed": false,
    "ExecuteTime": {
     "start_time": "2023-05-11T07:06:52.772896Z",
     "end_time": "2023-05-11T07:07:55.315698Z"
    }
   }
  },
  {
   "cell_type": "code",
   "execution_count": null,
   "outputs": [],
   "source": [],
   "metadata": {
    "collapsed": false
   }
  },
  {
   "cell_type": "code",
   "execution_count": null,
   "outputs": [],
   "source": [
    "joined_points['density'].sample(20)"
   ],
   "metadata": {
    "collapsed": false,
    "ExecuteTime": {
     "start_time": "2023-05-11T07:09:15.382792Z",
     "end_time": "2023-05-11T07:09:15.397300Z"
    }
   }
  },
  {
   "cell_type": "code",
   "execution_count": null,
   "outputs": [],
   "source": [
    "# plot joined_points with the color based on \"density\n"
   ],
   "metadata": {
    "collapsed": false
   }
  },
  {
   "cell_type": "code",
   "execution_count": null,
   "metadata": {},
   "outputs": [],
   "source": [
    "today = datetime.datetime.today().strftime('%Y_%m_%d')\n",
    "\n",
    "\n",
    "def export_kde_raster(Z, XX, YY, min_x, max_x, min_y, max_y, proj, filename):\n",
    "    '''Export and save a kernel density raster.'''\n",
    "\n",
    "    # Flip array vertically and rotate 270 degrees\n",
    "    Z_export = np.rot90(np.flip(Z, 0), 3)\n",
    "\n",
    "    # Get resolution\n",
    "    xres = (max_x - min_x) / len(XX)\n",
    "    yres = (max_y - min_y) / len(YY)\n",
    "\n",
    "    # Set transform\n",
    "    transform = rasterio.Affine.translation(min_x - xres / 2, min_y - yres / 2) * rasterio.Affine.scale(xres, yres)\n",
    "\n",
    "    # Export array as raster\n",
    "    with rasterio.open(\n",
    "            filename,\n",
    "            mode = \"w\",\n",
    "            driver = \"GTiff\",\n",
    "            height = Z_export.shape[0],\n",
    "            width = Z_export.shape[1],\n",
    "            count = 1,\n",
    "            dtype = Z_export.dtype,\n",
    "            crs = proj,\n",
    "            transform = transform,\n",
    "    ) as new_dataset:\n",
    "            new_dataset.write(Z_export, 1)\n",
    "\n",
    "# Export raster\n",
    "kde_filename = f\"C:/Users/Nissim/Desktop/Vacant Lots Project/guncrime_kde_rast_{today}.tif\"\n",
    "export_kde_raster(Z = Z_sk, XX = XX_sk, YY = YY_sk,\n",
    "                  min_x = min_x_sk, max_x = max_x_sk, min_y = min_y_sk, max_y = max_y_sk,\n",
    "                  proj = 2272, filename = kde_filename)"
   ]
  },
  {
   "cell_type": "code",
   "execution_count": null,
   "metadata": {},
   "outputs": [],
   "source": [
    "src = rasterio.open(kde_filename)"
   ]
  },
  {
   "cell_type": "code",
   "execution_count": null,
   "metadata": {},
   "outputs": [],
   "source": [
    "from rasterio.plot import show\n",
    "\n",
    "fix, ax = plt.subplots(figsize=(10, 10))\n",
    "\n",
    "extent = (src.bounds.left, src.bounds.right, src.bounds.bottom, src.bounds.top)\n",
    "ax = rasterio.plot.show(src, extent=extent, ax=ax, cmap='Blues')\n",
    "\n",
    "joined_gdf.plot(ax=ax)"
   ]
  },
  {
   "cell_type": "code",
   "execution_count": null,
   "metadata": {},
   "outputs": [],
   "source": [
    "coord_list = [(x,y) for x,y in zip(joined_gdf['centroid'].x, joined_gdf['centroid'].y)]\n",
    "\n",
    "joined_gdf['guncrime_density'] = [x for x in src.sample(coord_list)]\n",
    "\n",
    "# convert 'guncrime_density' column to float\n",
    "joined_gdf['guncrime_density'] = joined_gdf['guncrime_density'].astype(float)"
   ]
  },
  {
   "cell_type": "code",
   "execution_count": null,
   "metadata": {},
   "outputs": [],
   "source": [
    "# plot the centroids with the guncrime density as the color\n",
    "joined_gdf.plot(column='guncrime_density', cmap='Reds', legend=True)"
   ]
  },
  {
   "attachments": {},
   "cell_type": "markdown",
   "metadata": {},
   "source": [
    "Reclassify data into percentiles."
   ]
  },
  {
   "cell_type": "code",
   "execution_count": null,
   "outputs": [],
   "source": [
    "top_list = ['Top ' + str(i) + '%' for i in range(1, 51)]\n",
    "bottom_list = ['Bottom ' + str(i) + '%' for i in range(1, 51)]\n",
    "result_list = top_list + bottom_list[::-1]\n",
    "\n",
    "pct_list = list(range(100, 0, -1))"
   ],
   "metadata": {
    "collapsed": false
   }
  },
  {
   "cell_type": "code",
   "execution_count": null,
   "outputs": [],
   "source": [
    "guncrime_classifier = mapclassify.Percentiles(guncrime_kde['gun_crime_density'], pct=pct_list)\n",
    "w_rcos_gdf['gun_crime_density'] = guncrime_kde[['gun_crime_density']].apply(guncrime_classifier)\n",
    "\n",
    "drug_crime_classifier = mapclassify.Percentiles(guncrime_kde['drug_crime_density'], pct=pct_list)\n",
    "w_rcos_gdf['drug_crime_density'] = guncrime_kde[['drug_crime_density']].apply(drug_crime_classifier)\n",
    "\n",
    "tree_canopy_classifier = mapclassify.Percentiles(guncrime_kde['tree_canopy_gap'], pct=pct_list)\n",
    "w_rcos_gdf['tree_canopy_gap'] = guncrime_kde[['tree_canopy_gap']].apply(tree_canopy_classifier)"
   ],
   "metadata": {
    "collapsed": false
   }
  },
  {
   "cell_type": "code",
   "execution_count": null,
   "metadata": {},
   "outputs": [],
   "source": [
    "joined_gdf.head()"
   ]
  },
  {
   "cell_type": "code",
   "execution_count": null,
   "metadata": {},
   "outputs": [],
   "source": [
    "# now join the poly_gdf back to the joined_gdf on the opa_id column\n",
    "joined_gdf = joined_gdf.join(poly_gdf.set_index('OPA_ID'), on='OPA_ID')\n",
    "\n",
    "# drop the 'centroids' column\n",
    "#joined_gdf = joined_gdf.drop(columns=['centroid'])\n",
    "\n",
    "# make 'geometry' the geometry column\n",
    "joined_gdf = joined_gdf.set_geometry('geometry')"
   ]
  },
  {
   "cell_type": "code",
   "execution_count": null,
   "metadata": {},
   "outputs": [],
   "source": [
    "# set all column names to lowercase\n",
    "joined_gdf.columns = map(str.lower, joined_gdf.columns)"
   ]
  },
  {
   "cell_type": "code",
   "execution_count": null,
   "metadata": {},
   "outputs": [],
   "source": [
    "joined_gdf.shape"
   ]
  },
  {
   "cell_type": "code",
   "execution_count": 56,
   "metadata": {
    "ExecuteTime": {
     "start_time": "2023-05-11T09:33:07.994659Z",
     "end_time": "2023-05-11T09:33:18.826361Z"
    }
   },
   "outputs": [],
   "source": [
    "# Create the SQL query\n",
    "opa_sql_query = \"SELECT parcel_number, market_value FROM opa_properties_public\"\n",
    "\n",
    "# Get the data\n",
    "opa_df = get_data(opa_sql_query)"
   ]
  },
  {
   "cell_type": "code",
   "execution_count": null,
   "metadata": {},
   "outputs": [],
   "source": [
    "# join the two dataframes such that opa_id = opa_number\n",
    "joined_gdf = joined_gdf.merge(opa_df, left_on='opa_id', right_on='parcel_number', how='left')\n",
    "\n",
    "# drop the parcel_number column\n",
    "joined_gdf = joined_gdf.drop(columns=['parcel_number'])\n",
    "\n",
    "joined_gdf.head()"
   ]
  },
  {
   "cell_type": "code",
   "execution_count": 87,
   "metadata": {
    "ExecuteTime": {
     "start_time": "2023-05-11T11:33:19.698101Z",
     "end_time": "2023-05-11T11:33:24.017330Z"
    }
   },
   "outputs": [],
   "source": [
    "# Create the SQL query\n",
    "delinq_sql_query = \"SELECT * FROM real_estate_tax_delinquencies\"\n",
    "\n",
    "# Make the GET request\n",
    "delinq_df = get_data(delinq_sql_query)"
   ]
  },
  {
   "cell_type": "code",
   "execution_count": 88,
   "metadata": {
    "ExecuteTime": {
     "start_time": "2023-05-11T11:33:29.959368Z",
     "end_time": "2023-05-11T11:33:30.021439Z"
    }
   },
   "outputs": [
    {
     "data": {
      "text/plain": "   opa_number  total_due is_actionable payment_agreement  num_years_owed  \\\n0   871051350      83.90          true             false               1   \n1    34127500     248.48          true             false               2   \n2    34128800     298.10          true             false               1   \n3    34130400      96.94          true             false               1   \n4    34137700    3330.48         false              true               6   \n\n   most_recent_year_owed  total_assessment sheriff_sale  \n0                   2021           78600.0            N  \n1                   2021           40600.0            N  \n2                   2021            9000.0            N  \n3                   2018           63900.0            N  \n4                   2021           75100.0            N  ",
      "text/html": "<div>\n<style scoped>\n    .dataframe tbody tr th:only-of-type {\n        vertical-align: middle;\n    }\n\n    .dataframe tbody tr th {\n        vertical-align: top;\n    }\n\n    .dataframe thead th {\n        text-align: right;\n    }\n</style>\n<table border=\"1\" class=\"dataframe\">\n  <thead>\n    <tr style=\"text-align: right;\">\n      <th></th>\n      <th>opa_number</th>\n      <th>total_due</th>\n      <th>is_actionable</th>\n      <th>payment_agreement</th>\n      <th>num_years_owed</th>\n      <th>most_recent_year_owed</th>\n      <th>total_assessment</th>\n      <th>sheriff_sale</th>\n    </tr>\n  </thead>\n  <tbody>\n    <tr>\n      <th>0</th>\n      <td>871051350</td>\n      <td>83.90</td>\n      <td>true</td>\n      <td>false</td>\n      <td>1</td>\n      <td>2021</td>\n      <td>78600.0</td>\n      <td>N</td>\n    </tr>\n    <tr>\n      <th>1</th>\n      <td>34127500</td>\n      <td>248.48</td>\n      <td>true</td>\n      <td>false</td>\n      <td>2</td>\n      <td>2021</td>\n      <td>40600.0</td>\n      <td>N</td>\n    </tr>\n    <tr>\n      <th>2</th>\n      <td>34128800</td>\n      <td>298.10</td>\n      <td>true</td>\n      <td>false</td>\n      <td>1</td>\n      <td>2021</td>\n      <td>9000.0</td>\n      <td>N</td>\n    </tr>\n    <tr>\n      <th>3</th>\n      <td>34130400</td>\n      <td>96.94</td>\n      <td>true</td>\n      <td>false</td>\n      <td>1</td>\n      <td>2018</td>\n      <td>63900.0</td>\n      <td>N</td>\n    </tr>\n    <tr>\n      <th>4</th>\n      <td>34137700</td>\n      <td>3330.48</td>\n      <td>false</td>\n      <td>true</td>\n      <td>6</td>\n      <td>2021</td>\n      <td>75100.0</td>\n      <td>N</td>\n    </tr>\n  </tbody>\n</table>\n</div>"
     },
     "execution_count": 88,
     "metadata": {},
     "output_type": "execute_result"
    }
   ],
   "source": [
    "red_cols_to_keep = ['opa_number', \n",
    "                    'total_due', \n",
    "                    'is_actionable',\n",
    "                    'payment_agreement', \n",
    "                    'num_years_owed', \n",
    "                    'most_recent_year_owed', \n",
    "                    'total_assessment',\n",
    "                    'sheriff_sale']\n",
    "\n",
    "\n",
    "red_delinq_df = delinq_df[red_cols_to_keep]\n",
    "\n",
    "red_delinq_df.head()"
   ]
  },
  {
   "cell_type": "code",
   "execution_count": 89,
   "metadata": {
    "ExecuteTime": {
     "start_time": "2023-05-11T11:33:32.254157Z",
     "end_time": "2023-05-11T11:33:32.307336Z"
    }
   },
   "outputs": [
    {
     "name": "stderr",
     "output_type": "stream",
     "text": [
      "C:\\Users\\Nissim\\AppData\\Local\\Temp\\ipykernel_12268\\4015881813.py:2: SettingWithCopyWarning: \n",
      "A value is trying to be set on a copy of a slice from a DataFrame.\n",
      "Try using .loc[row_indexer,col_indexer] = value instead\n",
      "\n",
      "See the caveats in the documentation: https://pandas.pydata.org/pandas-docs/stable/user_guide/indexing.html#returning-a-view-versus-a-copy\n",
      "  red_delinq_df['opa_number'] = red_delinq_df['opa_number'].astype('string')\n"
     ]
    }
   ],
   "source": [
    "# convert opa_number to an object\n",
    "red_delinq_df['opa_number'] = red_delinq_df['opa_number'].astype('string')"
   ]
  },
  {
   "cell_type": "code",
   "execution_count": null,
   "metadata": {},
   "outputs": [],
   "source": [
    "# join the two dataframes such that opa_id = opa_number\n",
    "joined_gdf = joined_gdf.merge(red_delinq_df, left_on='opa_id', right_on='opa_number', how='left')"
   ]
  },
  {
   "cell_type": "code",
   "execution_count": null,
   "metadata": {},
   "outputs": [],
   "source": [
    "# Define the conditions and values to assign for each condition\n",
    "cond1 = joined_gdf[\"public_owner\"]\n",
    "val1 = \"Deed from City\"\n",
    "\n",
    "cond2 = (~joined_gdf[\"public_owner\"]) & (joined_gdf[\"opa_number\"].isna())\n",
    "val2 = \"Work with owner\"\n",
    "\n",
    "cond3 = (~joined_gdf[\"public_owner\"]) & (joined_gdf[\"opa_number\"].notna()) & (joined_gdf[\"num_years_owed\"] > 3)\n",
    "val3 = \"Sherrif's sale\"\n",
    "\n",
    "cond4 = (~joined_gdf[\"public_owner\"]) & (joined_gdf[\"opa_number\"].notna()) & (joined_gdf[\"num_years_owed\"] <= 3) & (joined_gdf[\"owner\"].str.contains(\"LLC\"))\n",
    "val4 = \"Force foreclosure\"\n",
    "\n",
    "cond5 = (~joined_gdf[\"public_owner\"]) & (joined_gdf[\"opa_number\"].notna()) & (joined_gdf[\"num_years_owed\"] <= 3) & (~joined_gdf[\"owner\"].str.contains(\"LLC\")) & (joined_gdf[\"market_value\"] < 100000)\n",
    "val5 = \"Buy from owner\"\n",
    "\n",
    "cond6 = (~joined_gdf[\"public_owner\"]) & (joined_gdf[\"opa_number\"].notna()) & (joined_gdf[\"num_years_owed\"] <= 3) & (~joined_gdf[\"owner\"].str.contains(\"LLC\")) & (joined_gdf[\"market_value\"] >= 100000)\n",
    "val6 = \"Turn over to developer\"\n",
    "\n",
    "# Use np.select to create the new column based on the conditions and values\n",
    "joined_gdf[\"acquisition_process\"] = np.select([cond1, cond2, cond3, cond4, cond5, cond6], [val1, val2, val3, val4, val5, val6], default=\"Too complicated\")"
   ]
  },
  {
   "cell_type": "code",
   "execution_count": null,
   "metadata": {},
   "outputs": [],
   "source": [
    "tree_cond1 = (joined_gdf[\"guncrime_density\"] == \"Bottom 50%\") & ((joined_gdf[\"tree_canopy_gap\"] == \"Bottom 50%\") | (joined_gdf[\"tree_canopy_gap\"] == \"Top 50%\"))\n",
    "tree_val1 = \"Low Priority\"\n",
    "\n",
    "tree_cond2 = ((joined_gdf[\"guncrime_density\"] == \"Top 50%\") & ((joined_gdf[\"tree_canopy_gap\"] == \"Bottom 50%\") | (joined_gdf[\"tree_canopy_gap\"] == \"Top 50%\"))) | ((joined_gdf[\"guncrime_density\"] == \"Bottom 50%\") & ~((joined_gdf[\"tree_canopy_gap\"] == \"Bottom 50%\") | (joined_gdf[\"tree_canopy_gap\"] == \"Top 50%\")))\n",
    "tree_val2 = \"Medium Priority\"\n",
    "\n",
    "joined_gdf[\"priority_level\"] = np.select([tree_cond1, tree_cond2], [tree_val1, tree_val2], default=\"High Priority\")"
   ]
  },
  {
   "cell_type": "code",
   "execution_count": 90,
   "metadata": {},
   "outputs": [
    {
     "ename": "KeyError",
     "evalue": "'address'",
     "output_type": "error",
     "traceback": [
      "\u001B[1;31m---------------------------------------------------------------------------\u001B[0m",
      "\u001B[1;31mKeyError\u001B[0m                                  Traceback (most recent call last)",
      "File \u001B[1;32m~\\AppData\\Roaming\\Python\\Python310\\site-packages\\pandas\\core\\indexes\\base.py:3803\u001B[0m, in \u001B[0;36mIndex.get_loc\u001B[1;34m(self, key, method, tolerance)\u001B[0m\n\u001B[0;32m   3802\u001B[0m \u001B[38;5;28;01mtry\u001B[39;00m:\n\u001B[1;32m-> 3803\u001B[0m     \u001B[38;5;28;01mreturn\u001B[39;00m \u001B[38;5;28;43mself\u001B[39;49m\u001B[38;5;241;43m.\u001B[39;49m\u001B[43m_engine\u001B[49m\u001B[38;5;241;43m.\u001B[39;49m\u001B[43mget_loc\u001B[49m\u001B[43m(\u001B[49m\u001B[43mcasted_key\u001B[49m\u001B[43m)\u001B[49m\n\u001B[0;32m   3804\u001B[0m \u001B[38;5;28;01mexcept\u001B[39;00m \u001B[38;5;167;01mKeyError\u001B[39;00m \u001B[38;5;28;01mas\u001B[39;00m err:\n",
      "File \u001B[1;32m~\\AppData\\Roaming\\Python\\Python310\\site-packages\\pandas\\_libs\\index.pyx:138\u001B[0m, in \u001B[0;36mpandas._libs.index.IndexEngine.get_loc\u001B[1;34m()\u001B[0m\n",
      "File \u001B[1;32m~\\AppData\\Roaming\\Python\\Python310\\site-packages\\pandas\\_libs\\index.pyx:165\u001B[0m, in \u001B[0;36mpandas._libs.index.IndexEngine.get_loc\u001B[1;34m()\u001B[0m\n",
      "File \u001B[1;32mpandas\\_libs\\hashtable_class_helper.pxi:5745\u001B[0m, in \u001B[0;36mpandas._libs.hashtable.PyObjectHashTable.get_item\u001B[1;34m()\u001B[0m\n",
      "File \u001B[1;32mpandas\\_libs\\hashtable_class_helper.pxi:5753\u001B[0m, in \u001B[0;36mpandas._libs.hashtable.PyObjectHashTable.get_item\u001B[1;34m()\u001B[0m\n",
      "\u001B[1;31mKeyError\u001B[0m: 'address'",
      "\nThe above exception was the direct cause of the following exception:\n",
      "\u001B[1;31mKeyError\u001B[0m                                  Traceback (most recent call last)",
      "Cell \u001B[1;32mIn [90], line 2\u001B[0m\n\u001B[0;32m      1\u001B[0m \u001B[38;5;66;03m# adds a column to link users to the atlas page for each property\u001B[39;00m\n\u001B[1;32m----> 2\u001B[0m joined_gdf[\u001B[38;5;124m'\u001B[39m\u001B[38;5;124matlas_url\u001B[39m\u001B[38;5;124m'\u001B[39m] \u001B[38;5;241m=\u001B[39m \u001B[38;5;124m'\u001B[39m\u001B[38;5;124m<a href=\u001B[39m\u001B[38;5;124m\"\u001B[39m\u001B[38;5;124mhttps://atlas.phila.gov/\u001B[39m\u001B[38;5;124m'\u001B[39m \u001B[38;5;241m+\u001B[39m \u001B[43mjoined_gdf\u001B[49m\u001B[43m[\u001B[49m\u001B[38;5;124;43m'\u001B[39;49m\u001B[38;5;124;43maddress\u001B[39;49m\u001B[38;5;124;43m'\u001B[39;49m\u001B[43m]\u001B[49m \u001B[38;5;241m+\u001B[39m \u001B[38;5;124m'\u001B[39m\u001B[38;5;124m\"\u001B[39m\u001B[38;5;124m>Click here</a>\u001B[39m\u001B[38;5;124m'\u001B[39m\n",
      "File \u001B[1;32m~\\AppData\\Roaming\\Python\\Python310\\site-packages\\geopandas\\geodataframe.py:1327\u001B[0m, in \u001B[0;36mGeoDataFrame.__getitem__\u001B[1;34m(self, key)\u001B[0m\n\u001B[0;32m   1321\u001B[0m \u001B[38;5;28;01mdef\u001B[39;00m \u001B[38;5;21m__getitem__\u001B[39m(\u001B[38;5;28mself\u001B[39m, key):\n\u001B[0;32m   1322\u001B[0m     \u001B[38;5;124;03m\"\"\"\u001B[39;00m\n\u001B[0;32m   1323\u001B[0m \u001B[38;5;124;03m    If the result is a column containing only 'geometry', return a\u001B[39;00m\n\u001B[0;32m   1324\u001B[0m \u001B[38;5;124;03m    GeoSeries. If it's a DataFrame with a 'geometry' column, return a\u001B[39;00m\n\u001B[0;32m   1325\u001B[0m \u001B[38;5;124;03m    GeoDataFrame.\u001B[39;00m\n\u001B[0;32m   1326\u001B[0m \u001B[38;5;124;03m    \"\"\"\u001B[39;00m\n\u001B[1;32m-> 1327\u001B[0m     result \u001B[38;5;241m=\u001B[39m \u001B[38;5;28;43msuper\u001B[39;49m\u001B[43m(\u001B[49m\u001B[43m)\u001B[49m\u001B[38;5;241;43m.\u001B[39;49m\u001B[38;5;21;43m__getitem__\u001B[39;49m\u001B[43m(\u001B[49m\u001B[43mkey\u001B[49m\u001B[43m)\u001B[49m\n\u001B[0;32m   1328\u001B[0m     geo_col \u001B[38;5;241m=\u001B[39m \u001B[38;5;28mself\u001B[39m\u001B[38;5;241m.\u001B[39m_geometry_column_name\n\u001B[0;32m   1329\u001B[0m     \u001B[38;5;28;01mif\u001B[39;00m \u001B[38;5;28misinstance\u001B[39m(result, Series) \u001B[38;5;129;01mand\u001B[39;00m \u001B[38;5;28misinstance\u001B[39m(result\u001B[38;5;241m.\u001B[39mdtype, GeometryDtype):\n",
      "File \u001B[1;32m~\\AppData\\Roaming\\Python\\Python310\\site-packages\\pandas\\core\\frame.py:3805\u001B[0m, in \u001B[0;36mDataFrame.__getitem__\u001B[1;34m(self, key)\u001B[0m\n\u001B[0;32m   3803\u001B[0m \u001B[38;5;28;01mif\u001B[39;00m \u001B[38;5;28mself\u001B[39m\u001B[38;5;241m.\u001B[39mcolumns\u001B[38;5;241m.\u001B[39mnlevels \u001B[38;5;241m>\u001B[39m \u001B[38;5;241m1\u001B[39m:\n\u001B[0;32m   3804\u001B[0m     \u001B[38;5;28;01mreturn\u001B[39;00m \u001B[38;5;28mself\u001B[39m\u001B[38;5;241m.\u001B[39m_getitem_multilevel(key)\n\u001B[1;32m-> 3805\u001B[0m indexer \u001B[38;5;241m=\u001B[39m \u001B[38;5;28;43mself\u001B[39;49m\u001B[38;5;241;43m.\u001B[39;49m\u001B[43mcolumns\u001B[49m\u001B[38;5;241;43m.\u001B[39;49m\u001B[43mget_loc\u001B[49m\u001B[43m(\u001B[49m\u001B[43mkey\u001B[49m\u001B[43m)\u001B[49m\n\u001B[0;32m   3806\u001B[0m \u001B[38;5;28;01mif\u001B[39;00m is_integer(indexer):\n\u001B[0;32m   3807\u001B[0m     indexer \u001B[38;5;241m=\u001B[39m [indexer]\n",
      "File \u001B[1;32m~\\AppData\\Roaming\\Python\\Python310\\site-packages\\pandas\\core\\indexes\\base.py:3805\u001B[0m, in \u001B[0;36mIndex.get_loc\u001B[1;34m(self, key, method, tolerance)\u001B[0m\n\u001B[0;32m   3803\u001B[0m     \u001B[38;5;28;01mreturn\u001B[39;00m \u001B[38;5;28mself\u001B[39m\u001B[38;5;241m.\u001B[39m_engine\u001B[38;5;241m.\u001B[39mget_loc(casted_key)\n\u001B[0;32m   3804\u001B[0m \u001B[38;5;28;01mexcept\u001B[39;00m \u001B[38;5;167;01mKeyError\u001B[39;00m \u001B[38;5;28;01mas\u001B[39;00m err:\n\u001B[1;32m-> 3805\u001B[0m     \u001B[38;5;28;01mraise\u001B[39;00m \u001B[38;5;167;01mKeyError\u001B[39;00m(key) \u001B[38;5;28;01mfrom\u001B[39;00m \u001B[38;5;21;01merr\u001B[39;00m\n\u001B[0;32m   3806\u001B[0m \u001B[38;5;28;01mexcept\u001B[39;00m \u001B[38;5;167;01mTypeError\u001B[39;00m:\n\u001B[0;32m   3807\u001B[0m     \u001B[38;5;66;03m# If we have a listlike key, _check_indexing_error will raise\u001B[39;00m\n\u001B[0;32m   3808\u001B[0m     \u001B[38;5;66;03m#  InvalidIndexError. Otherwise we fall through and re-raise\u001B[39;00m\n\u001B[0;32m   3809\u001B[0m     \u001B[38;5;66;03m#  the TypeError.\u001B[39;00m\n\u001B[0;32m   3810\u001B[0m     \u001B[38;5;28mself\u001B[39m\u001B[38;5;241m.\u001B[39m_check_indexing_error(key)\n",
      "\u001B[1;31mKeyError\u001B[0m: 'address'"
     ]
    }
   ],
   "source": [
    "# adds a column to link users to the atlas page for each property\n",
    "joined_gdf['atlas_url'] = '<a href=\"https://atlas.phila.gov/' + joined_gdf['address'] + '\">Click here</a>'"
   ]
  },
  {
   "cell_type": "code",
   "execution_count": null,
   "metadata": {},
   "outputs": [],
   "source": [
    "joined_gdf.head()"
   ]
  },
  {
   "cell_type": "code",
   "execution_count": null,
   "metadata": {},
   "outputs": [],
   "source": [
    "# loop through joined_gdf and return one row per guncrime_density category\n",
    "guncrime_df = pd.DataFrame()\n",
    "for i in joined_gdf['guncrime_density'].unique():\n",
    "    temp_df = joined_gdf[joined_gdf['guncrime_density'] == i]\n",
    "    guncrime_df = guncrime_df.append(temp_df.sample(n=1))\n",
    "\n",
    "guncrime_df.head(10)"
   ]
  },
  {
   "cell_type": "code",
   "execution_count": null,
   "metadata": {},
   "outputs": [],
   "source": [
    "guncrime_df.columns"
   ]
  },
  {
   "cell_type": "code",
   "execution_count": null,
   "metadata": {},
   "outputs": [],
   "source": [
    "pct_cmap = {\n",
    "    'Bottom 50%': '#00876c',\n",
    "    'Top 50%': '#61a96e',\n",
    "    'Top 25%': '#aac872',\n",
    "    'Top 10%': '#f5af5c', \n",
    "    'Top 5%' : '#ea784d',\n",
    "    'Top 1%': '#d43d51'\n",
    "}"
   ]
  },
  {
   "cell_type": "code",
   "execution_count": null,
   "metadata": {},
   "outputs": [],
   "source": [
    "# solution found here: https://www.earthdatascience.org/courses/scientists-guide-to-plotting-data-in-python/plot-spatial-data/customize-vector-plots/python-customize-map-legends-geopandas/\n",
    "\n",
    "# Plot data\n",
    "fig, ax = plt.subplots(figsize=(10, 10))\n",
    "\n",
    "# Loop through each attribute type and plot it using the colors assigned in the dictionary\n",
    "for ctype, data in joined_gdf.groupby('guncrime_density'):\n",
    "    \n",
    "    # Define the color for each group using the dictionary\n",
    "    color = pct_cmap[ctype]\n",
    "    \n",
    "    # Plot each group using the color defined above\n",
    "    data.plot(color=color,\n",
    "              ax=ax,\n",
    "              label=ctype)\n",
    "\n",
    "\n",
    "ax.set(title='Philadelphia Vacant Land by Gun Crime')\n",
    "# Place legend in the lower right hand corner of the plot\n",
    "ax.legend(loc='lower right',\n",
    "          fontsize=15,\n",
    "          frameon=True)\n",
    "\n",
    "ax.set_axis_off()\n",
    "plt.show()\n"
   ]
  },
  {
   "cell_type": "code",
   "execution_count": null,
   "metadata": {},
   "outputs": [],
   "source": [
    "# Plot data\n",
    "fig, ax = plt.subplots(figsize=(10, 10))\n",
    "\n",
    "# Loop through each attribute type and plot it using the colors assigned in the dictionary\n",
    "for ctype, data in joined_gdf.groupby('tree_canopy_gap'):\n",
    "    \n",
    "    # Define the color for each group using the dictionary\n",
    "    color = pct_cmap[ctype]\n",
    "    \n",
    "    # Plot each group using the color defined above\n",
    "    data.plot(color=color,\n",
    "              ax=ax,\n",
    "              label=ctype)\n",
    "\n",
    "ax.legend(bbox_to_anchor=(1.0, .5), prop={'size': 12})\n",
    "ax.set(title='Philadelphia Vacant Land by Tree Canopy Gap')\n",
    "\n",
    "ax.set_axis_off()\n",
    "plt.show()\n"
   ]
  },
  {
   "cell_type": "code",
   "execution_count": null,
   "metadata": {},
   "outputs": [],
   "source": [
    "# reproject to 4326 for mapping\n",
    "joined_gdf = joined_gdf.to_crs(epsg=4326)\n",
    "\n",
    "# simplify the geometry\n",
    "joined_gdf['geometry'] = joined_gdf['geometry'].simplify(5)\n",
    "\n",
    "joined_gdf_centroids = joined_gdf.set_geometry('centroid')\n",
    "\n",
    "joined_gdf_centroids = joined_gdf_centroids.drop(columns=['geometry'])\n",
    "\n",
    "joined_gdf_full = joined_gdf.set_geometry('geometry')\n",
    "\n",
    "joined_gdf_full = joined_gdf_full.drop(columns=['centroid'])"
   ]
  },
  {
   "cell_type": "code",
   "execution_count": null,
   "metadata": {},
   "outputs": [],
   "source": [
    "# need to add a column for lot size (total area)\n",
    "# the can convert geoms to points\n",
    "\n",
    "# remember--originally wanted to display lots and buildings with separate icons. Do I still want to?"
   ]
  },
  {
   "cell_type": "code",
   "execution_count": null,
   "metadata": {},
   "outputs": [],
   "source": [
    "joined_gdf_centroids.head()"
   ]
  },
  {
   "cell_type": "code",
   "execution_count": null,
   "metadata": {},
   "outputs": [],
   "source": [
    "from datetime import date\n",
    "\n",
    "# declare a variable that will call today's date in the format YYYY_MM_DD\n",
    "today = date.today().strftime(\"%Y_%m_%d\")\n",
    "\n",
    "# write the joined_gdf to a geojson with a filename that starts with today's date\n",
    "joined_gdf_centroids.to_file(f\"C:/Users/Nissim/Desktop/Vacant Lots Project/vacant-lots-proj/vacancy_guncrime_dash/{today}_joined_gdf_centroids.geojson\", driver='GeoJSON')\n",
    "\n",
    "joined_gdf_full_path = f\"C:/Users/Nissim/Desktop/Vacant Lots Project/vacant-lots-proj/vacancy_guncrime_dash/{today}_joined_gdf_full.geojson\"\n",
    "\n",
    "joined_gdf_full.to_file(joined_gdf_full_path, driver='GeoJSON')"
   ]
  },
  {
   "cell_type": "markdown",
   "metadata": {},
   "source": []
  },
  {
   "cell_type": "markdown",
   "source": [
    "## Finally, push the dataset to Mapbox."
   ],
   "metadata": {
    "collapsed": false
   }
  },
  {
   "cell_type": "code",
   "execution_count": null,
   "outputs": [],
   "source": [
    "import json\n",
    "\n",
    "mapbox_username = 'nlebovits'\n",
    "mapbox_token = \"pk.eyJ1IjoibmxlYm92aXRzIiwiYSI6ImNsZXQ2Nzd3ZDBjZnYzcHFvYXhib2RqYzQifQ.PWg2LuNCH1E6-REjmYvdOg\"\n",
    "dataset_id = 'nlebovits.cne7vaoz'\n",
    "geojson_file = joined_gdf_full_path\n",
    "\n",
    "with open(geojson_file) as file:\n",
    "    geojson_data = json.load(file)\n",
    "\n",
    "url = f\"https://api.mapbox.com/datasets/v1/{mapbox_username}/{dataset_id}?access_token={mapbox_token}\"\n",
    "\n",
    "headers = {\n",
    "    'Content-Type': 'application/json',\n",
    "}\n",
    "\n",
    "payload = {\n",
    "    'features': geojson_data['features']\n",
    "}\n",
    "\n",
    "response = requests.put(url, headers=headers, json=payload)\n",
    "\n",
    "if response.status_code == 200:\n",
    "    print(\"Dataset updated successfully!\")\n",
    "else:\n",
    "    print(\"Error updating dataset. Status code:\", response.status_code)"
   ],
   "metadata": {
    "collapsed": false
   }
  }
 ],
 "metadata": {
  "kernelspec": {
   "display_name": "vac_props_guncrime_dash",
   "language": "python",
   "name": "python3"
  },
  "language_info": {
   "codemirror_mode": {
    "name": "ipython",
    "version": 3
   },
   "file_extension": ".py",
   "mimetype": "text/x-python",
   "name": "python",
   "nbconvert_exporter": "python",
   "pygments_lexer": "ipython3",
   "version": "3.11.0"
  },
  "orig_nbformat": 4,
  "vscode": {
   "interpreter": {
    "hash": "e6e6f34d5c18e199cb03cbea79929a02f010c80f88137b286b7b082b5a9d350f"
   }
  }
 },
 "nbformat": 4,
 "nbformat_minor": 2
}
